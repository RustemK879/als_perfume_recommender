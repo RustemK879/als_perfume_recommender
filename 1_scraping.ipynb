{
 "cells": [
  {
   "cell_type": "code",
   "execution_count": 8,
   "metadata": {},
   "outputs": [],
   "source": [
    "from selenium import webdriver\n",
    "import pandas as pd\n",
    "import numpy as np\n",
    "from selenium.webdriver import Chrome\n",
    "import undetected_chromedriver as uc\n",
    "from selenium.webdriver.common.keys import Keys\n",
    "from selenium.webdriver.support.ui import WebDriverWait as wait\n",
    "from selenium.webdriver.support import expected_conditions as EC\n",
    "from selenium.common.exceptions import NoSuchElementException\n",
    "from selenium.webdriver.common.by import By\n",
    "from bs4 import BeautifulSoup\n",
    "from time import sleep\n",
    "from tqdm import tqdm\n",
    "import codecs\n",
    "import pickle"
   ]
  },
  {
   "cell_type": "code",
   "execution_count": 9,
   "metadata": {},
   "outputs": [
    {
     "name": "stdout",
     "output_type": "stream",
     "text": [
      "Note: you may need to restart the kernel to use updated packages.\n",
      "Requirement already satisfied: undetected-chromedriver in e:\\anaconda3\\lib\\site-packages (3.4.2)\n",
      "Requirement already satisfied: selenium>=4.0.0 in e:\\anaconda3\\lib\\site-packages (from undetected-chromedriver) (4.8.0)\n",
      "Requirement already satisfied: websockets in e:\\anaconda3\\lib\\site-packages (from undetected-chromedriver) (9.1)\n",
      "Requirement already satisfied: requests in e:\\anaconda3\\lib\\site-packages (from undetected-chromedriver) (2.28.1)\n",
      "Requirement already satisfied: certifi>=2021.10.8 in e:\\anaconda3\\lib\\site-packages (from selenium>=4.0.0->undetected-chromedriver) (2022.9.14)\n",
      "Requirement already satisfied: trio~=0.17 in e:\\anaconda3\\lib\\site-packages (from selenium>=4.0.0->undetected-chromedriver) (0.22.0)\n",
      "Requirement already satisfied: urllib3[socks]~=1.26 in e:\\anaconda3\\lib\\site-packages (from selenium>=4.0.0->undetected-chromedriver) (1.26.11)\n",
      "Requirement already satisfied: trio-websocket~=0.9 in e:\\anaconda3\\lib\\site-packages (from selenium>=4.0.0->undetected-chromedriver) (0.9.2)\n",
      "Requirement already satisfied: idna<4,>=2.5 in e:\\anaconda3\\lib\\site-packages (from requests->undetected-chromedriver) (3.3)\n",
      "Requirement already satisfied: charset-normalizer<3,>=2 in e:\\anaconda3\\lib\\site-packages (from requests->undetected-chromedriver) (2.0.4)\n",
      "Requirement already satisfied: exceptiongroup>=1.0.0rc9 in e:\\anaconda3\\lib\\site-packages (from trio~=0.17->selenium>=4.0.0->undetected-chromedriver) (1.1.0)\n",
      "Requirement already satisfied: sortedcontainers in e:\\anaconda3\\lib\\site-packages (from trio~=0.17->selenium>=4.0.0->undetected-chromedriver) (2.4.0)\n",
      "Requirement already satisfied: attrs>=19.2.0 in e:\\anaconda3\\lib\\site-packages (from trio~=0.17->selenium>=4.0.0->undetected-chromedriver) (21.4.0)\n",
      "Requirement already satisfied: outcome in e:\\anaconda3\\lib\\site-packages (from trio~=0.17->selenium>=4.0.0->undetected-chromedriver) (1.2.0)\n",
      "Requirement already satisfied: sniffio in e:\\anaconda3\\lib\\site-packages (from trio~=0.17->selenium>=4.0.0->undetected-chromedriver) (1.2.0)\n",
      "Requirement already satisfied: async-generator>=1.9 in e:\\anaconda3\\lib\\site-packages (from trio~=0.17->selenium>=4.0.0->undetected-chromedriver) (1.10)\n",
      "Requirement already satisfied: cffi>=1.14 in e:\\anaconda3\\lib\\site-packages (from trio~=0.17->selenium>=4.0.0->undetected-chromedriver) (1.15.1)\n",
      "Requirement already satisfied: wsproto>=0.14 in e:\\anaconda3\\lib\\site-packages (from trio-websocket~=0.9->selenium>=4.0.0->undetected-chromedriver) (1.2.0)\n",
      "Requirement already satisfied: PySocks!=1.5.7,<2.0,>=1.5.6 in e:\\anaconda3\\lib\\site-packages (from urllib3[socks]~=1.26->selenium>=4.0.0->undetected-chromedriver) (1.7.1)\n",
      "Requirement already satisfied: pycparser in e:\\anaconda3\\lib\\site-packages (from cffi>=1.14->trio~=0.17->selenium>=4.0.0->undetected-chromedriver) (2.21)\n",
      "Requirement already satisfied: h11<1,>=0.9.0 in e:\\anaconda3\\lib\\site-packages (from wsproto>=0.14->trio-websocket~=0.9->selenium>=4.0.0->undetected-chromedriver) (0.14.0)\n"
     ]
    },
    {
     "name": "stderr",
     "output_type": "stream",
     "text": [
      "WARNING: Ignoring invalid distribution -cipy (e:\\anaconda3\\lib\\site-packages)\n",
      "WARNING: Ignoring invalid distribution -cipy (e:\\anaconda3\\lib\\site-packages)\n",
      "WARNING: Ignoring invalid distribution -cipy (e:\\anaconda3\\lib\\site-packages)\n",
      "WARNING: Ignoring invalid distribution -cipy (e:\\anaconda3\\lib\\site-packages)\n",
      "WARNING: Ignoring invalid distribution -cipy (e:\\anaconda3\\lib\\site-packages)\n",
      "WARNING: Ignoring invalid distribution -cipy (e:\\anaconda3\\lib\\site-packages)\n"
     ]
    }
   ],
   "source": [
    "pip install undetected-chromedriver"
   ]
  },
  {
   "cell_type": "code",
   "execution_count": 2,
   "metadata": {},
   "outputs": [],
   "source": [
    "#load\n",
    "with open('master_dict_prices_backup', 'rb') as f:\n",
    "  master_dict_prices = pickle.load(f)\n",
    "  f.close()\n",
    "with open('master_dict_desc_backup', 'rb') as f:\n",
    "  master_dict_desc = pickle.load(f)\n",
    "  f.close()"
   ]
  },
  {
   "cell_type": "code",
   "execution_count": 10,
   "metadata": {},
   "outputs": [
    {
     "data": {
      "text/plain": [
       "334"
      ]
     },
     "execution_count": 10,
     "metadata": {},
     "output_type": "execute_result"
    }
   ],
   "source": [
    "len(master_dict_prices['batch_0'])"
   ]
  },
  {
   "cell_type": "code",
   "execution_count": null,
   "metadata": {},
   "outputs": [],
   "source": [
    "links_all = []"
   ]
  },
  {
   "cell_type": "code",
   "execution_count": 556,
   "metadata": {},
   "outputs": [
    {
     "data": {
      "text/plain": [
       "['I didn’t like this one as much as I thought I would. It is very strong and quite nauseating.',\n",
       " '     2 Stars',\n",
       " 'Written by Nessaxox on October 15, 2021',\n",
       " 'Was this review helpful?',\n",
       " 'Yes / No',\n",
       " 'Be the first to provide feedback on this review.']"
      ]
     },
     "execution_count": 556,
     "metadata": {},
     "output_type": "execute_result"
    }
   ],
   "source": [
    "browser.find_element(By.XPATH, '//*[@id=\"reviewContent\"]/div[7]').text.split('\\n')"
   ]
  },
  {
   "cell_type": "code",
   "execution_count": 588,
   "metadata": {},
   "outputs": [],
   "source": [
    "browser.find_elements(By.CLASS_NAME, 'pagination.cf')[1].get_attribute('href')"
   ]
  },
  {
   "cell_type": "code",
   "execution_count": 544,
   "metadata": {},
   "outputs": [],
   "source": [
    "url = f'https://www.fragrancenet.com/perfume/elizabeth-arden/green-tea/edt#119441'\n",
    "browser = uc.Chrome()\n",
    "browser.get(url)"
   ]
  },
  {
   "cell_type": "code",
   "execution_count": 594,
   "metadata": {},
   "outputs": [],
   "source": [
    "browser.find_element(By.LINK_TEXT, '>').click()"
   ]
  },
  {
   "cell_type": "code",
   "execution_count": 526,
   "metadata": {},
   "outputs": [],
   "source": [
    "elem = browser.find_element(By.XPATH, f\"//*[@id='resultSet']/div[2]/section/a\")\n",
    "links.append(elem.get_attribute('href'))"
   ]
  },
  {
   "cell_type": "code",
   "execution_count": 536,
   "metadata": {},
   "outputs": [
    {
     "name": "stderr",
     "output_type": "stream",
     "text": [
      "100%|██████████| 397/397 [1:00:45<00:00,  9.18s/it]\n"
     ]
    }
   ],
   "source": [
    "\n",
    "for i in tqdm(range(1,398)):   #9540/24 = 398\n",
    "    elems = []\n",
    "    links = []\n",
    "    url = f'https://www.fragrancenet.com/ni/fragrances?f=1f!3D/1f!6&page={i}'\n",
    "    browser = uc.Chrome()\n",
    "    browser.get(url)\n",
    "\n",
    "    for j in range(1, 25):\n",
    "        try:\n",
    "            browser.find_element(By.XPATH, f'//*[@id=\"resultSet\"]/div[{j}]/section/div/div/div')\n",
    "            elem = browser.find_element(By.XPATH, f\"//*[@id='resultSet']/div[{j}]/section/a\") #[0].get_attribute('href')\n",
    "            links.append(elem.get_attribute('href'))\n",
    "            \n",
    "        except Exception:\n",
    "            pass\n",
    "        \n",
    "    browser.quit()\n",
    "    links_clean += links\n",
    "  "
   ]
  },
  {
   "cell_type": "code",
   "execution_count": 539,
   "metadata": {},
   "outputs": [
    {
     "data": {
      "text/plain": [
       "3368"
      ]
     },
     "execution_count": 539,
     "metadata": {},
     "output_type": "execute_result"
    }
   ],
   "source": [
    "len(links_clean)"
   ]
  },
  {
   "cell_type": "code",
   "execution_count": 439,
   "metadata": {},
   "outputs": [],
   "source": [
    "driver = uc.Chrome()\n",
    "driver.get('https://www.fragrancenet.com/perfume/jo-malone/jo-malone-basil-and-neroli/cologne#296041')"
   ]
  },
  {
   "attachments": {},
   "cell_type": "markdown",
   "metadata": {},
   "source": [
    "# load links"
   ]
  },
  {
   "cell_type": "code",
   "execution_count": 2,
   "metadata": {},
   "outputs": [],
   "source": [
    "text = open(r'C:\\Users\\Rustem K\\Desktop\\links_clean.txt')\n",
    "content = text.read()\n",
    "list_of_cont = content.split(',')\n",
    "\n",
    "text.close()\n"
   ]
  },
  {
   "cell_type": "code",
   "execution_count": 3,
   "metadata": {},
   "outputs": [],
   "source": [
    "batches = {}\n",
    "n = 10\n",
    "start = 0\n",
    "prev = 0\n",
    "end = 0\n",
    "removedupes = list_of_cont\n",
    "add = len(removedupes)//n\n",
    "\n",
    "for i in range(n):\n",
    "    \n",
    "    end += add\n",
    "\n",
    "    if i == n-1:\n",
    "        batches[f'batch_{i}'] = removedupes[start:]\n",
    "    else:\n",
    "        batches[f'batch_{i}'] = removedupes[start:end]\n",
    "\n",
    "    start += add\n",
    "    \n",
    "\n"
   ]
  },
  {
   "cell_type": "code",
   "execution_count": null,
   "metadata": {},
   "outputs": [],
   "source": [
    "bad_links = []"
   ]
  },
  {
   "attachments": {},
   "cell_type": "markdown",
   "metadata": {},
   "source": [
    "# FOR NORMAL BATCHES"
   ]
  },
  {
   "cell_type": "code",
   "execution_count": 12,
   "metadata": {},
   "outputs": [
    {
     "name": "stdout",
     "output_type": "stream",
     "text": [
      "Batch length without duplicates: 336\n"
     ]
    },
    {
     "name": "stderr",
     "output_type": "stream",
     "text": [
      "336it [52:37,  9.40s/it]\n"
     ]
    },
    {
     "name": "stdout",
     "output_type": "stream",
     "text": [
      "Batch 4 is done.\n",
      "323\n",
      "323\n",
      "Batch length without duplicates: 336\n"
     ]
    },
    {
     "name": "stderr",
     "output_type": "stream",
     "text": [
      "336it [1:02:53, 11.23s/it]\n"
     ]
    },
    {
     "name": "stdout",
     "output_type": "stream",
     "text": [
      "Batch 5 is done.\n",
      "296\n",
      "296\n",
      "Batch length without duplicates: 336\n"
     ]
    },
    {
     "name": "stderr",
     "output_type": "stream",
     "text": [
      "336it [1:04:06, 11.45s/it]"
     ]
    },
    {
     "name": "stdout",
     "output_type": "stream",
     "text": [
      "Batch 6 is done.\n",
      "294\n",
      "294\n"
     ]
    },
    {
     "name": "stderr",
     "output_type": "stream",
     "text": [
      "\n"
     ]
    }
   ],
   "source": [
    "#for i in range(0,9):  #\n",
    "#    length = len(list(set(batches[f'batch_{i}'])))\n",
    "#    print(f'Batch length without duplicates: {length}')\n",
    "#    cnt = 0\n",
    "#    cnt2 = 0\n",
    "#    info_prices = {}\n",
    "#    info_desc = {}\n",
    "#\n",
    "#    for id, j in tqdm(enumerate(list(set(batches[f'batch_{i}'])))): \n",
    "#        \n",
    "#    \n",
    "#        try:\n",
    "#            driver = uc.Chrome()\n",
    "#            driver.set_page_load_timeout(30)\n",
    "#            driver.get(j)\n",
    "#            name = driver.find_element(By.ID, 'brandTitle').text + str(id)\n",
    "#            #driver.find_element(By.XPATH, '//*[@id=\"reviewContent\"]/div[3]')\n",
    "#\n",
    "#            try:\n",
    "#                pq = driver.find_element(By.CLASS_NAME, 'variantText.solo').text.split('\\n')\n",
    "#            except NoSuchElementException:\n",
    "#                pq = [np.nan, np.nan]\n",
    "#\n",
    "#            #sleep(5)\n",
    "#            driver.execute_script(\"window.scrollTo(0, 600)\")\n",
    "#            #sleep(2)\n",
    "#            driver.find_element(By.XPATH, '//*[@id=\"descriptionTab\"]').click()\n",
    "#            #sleep(1)\n",
    "#            #try:\n",
    "#            #    desc = driver.find_element(By.CLASS_NAME, 'tab-content').text.split('\\n')\n",
    "#            #except NoSuchElementException:\n",
    "#\n",
    "#            try:\n",
    "#                house = driver.find_element(By.XPATH, '//*[@id=\"brandDescription\"]/ul/li[1]/span[2]').text\n",
    "#            except NoSuchElementException:\n",
    "#                house = np.nan\n",
    "#\n",
    "#            try:\n",
    "#                notes = driver.find_element(By.XPATH, '//*[@id=\"brandDescription\"]/ul/li[2]/span[2]').text\n",
    "#            except NoSuchElementException:\n",
    "#                notes = np.nan\n",
    "#\n",
    "#            try:\n",
    "#                year = driver.find_element(By.XPATH, '//*[@id=\"brandDescription\"]/ul/li[3]/span[2]').text\n",
    "#            except NoSuchElementException:\n",
    "#                year = np.nan\n",
    "#\n",
    "#            #try:\n",
    "#            #    price = pq[-1]\n",
    "#            #except Exception:\n",
    "#            #    price = np.nan\n",
    "#            price = pq[-1]\n",
    "#            nm = pq[-2]\n",
    "#            #try:\n",
    "#            #    nm = pq[-2]\n",
    "#            #except Exception:\n",
    "#            #    nm = np.nan\n",
    "#\n",
    "#            info_prices[name] = {'Price': price, 'nm': nm}\n",
    "#            info_desc[name]  = {'Design House':house, 'Fragrance Notes': notes, 'Year': year}\n",
    "#            \n",
    "#            #collecting GOOD links\n",
    "##\n",
    "#            if cnt == 0:\n",
    "#                good_links[f'batch_{i}'] = [j]\n",
    "#                cnt += 1\n",
    "#            else:\n",
    "#                good_links[f'batch_{i}'].append(j)\n",
    "#            \n",
    "#            driver.quit()\n",
    "#        except:\n",
    "#\n",
    "#            #if j not in not_visited:\n",
    "#            #    not_visited.append(j)\n",
    "#            if cnt2 == 0:\n",
    "#                bad_links[f'batch_{i}'] = [j]\n",
    "#                cnt2 += 1\n",
    "#            else:\n",
    "#                \n",
    "#                bad_links[f'batch_{i}'].append(j)    \n",
    "##\n",
    "\n",
    "#            \n",
    "#            driver.quit()\n",
    "#            \n",
    "#\n",
    "#    print(f'Batch {i} is done.')\n",
    "#    \n",
    "#    master_dict_prices[f'batch_{i}'] = info_prices\n",
    "#    master_dict_desc[f'batch_{i}'] = info_desc\n",
    "#    \n",
    "#    print(len(master_dict_prices[f'batch_{i}']))\n",
    "#    print(len(master_dict_desc[f'batch_{i}']))\n",
    "\n",
    "\n",
    "\n",
    "\n",
    "    \n",
    "    \n"
   ]
  },
  {
   "cell_type": "code",
   "execution_count": 13,
   "metadata": {},
   "outputs": [],
   "source": [
    "bad_links2 = []"
   ]
  },
  {
   "attachments": {},
   "cell_type": "markdown",
   "metadata": {},
   "source": [
    "# FOR BAD LINKS"
   ]
  },
  {
   "cell_type": "code",
   "execution_count": 18,
   "metadata": {},
   "outputs": [
    {
     "name": "stderr",
     "output_type": "stream",
     "text": [
      "100%|██████████| 13/13 [01:54<00:00,  8.82s/it]\n",
      "100%|██████████| 40/40 [07:51<00:00, 11.80s/it]\n",
      "100%|██████████| 42/42 [07:29<00:00, 10.71s/it]\n"
     ]
    }
   ],
   "source": [
    "#for i in range(4,7):\n",
    "#\n",
    "#    for j in tqdm(bad_links[f'batch_{i}']): \n",
    "#        #info_prices = {}\n",
    "#        #info_desc = {}    \n",
    "#\n",
    "#        try:\n",
    "#            driver = uc.Chrome()\n",
    "#            driver.set_page_load_timeout(60)\n",
    "#            driver.get(j)\n",
    "#            name = driver.find_element(By.ID, 'brandTitle').text + str(id)\n",
    "#\n",
    "#\n",
    "#            try:\n",
    "#                pq = driver.find_element(By.CLASS_NAME, 'variantText.solo').text.split('\\n')\n",
    "#            except NoSuchElementException:\n",
    "#                pq = [np.nan, np.nan]\n",
    "#\n",
    "#\n",
    "#            driver.execute_script(\"window.scrollTo(0, 600)\")\n",
    "#\n",
    "#            driver.find_element(By.XPATH, '//*[@id=\"descriptionTab\"]').click()\n",
    "#\n",
    "#\n",
    "#            try:\n",
    "#                house = driver.find_element(By.XPATH, '//*[@id=\"brandDescription\"]/ul/li[1]/span[2]').text\n",
    "#            except NoSuchElementException:\n",
    "#                house = np.nan\n",
    "#\n",
    "#            try:\n",
    "#                notes = driver.find_element(By.XPATH, '//*[@id=\"brandDescription\"]/ul/li[2]/span[2]').text\n",
    "#            except NoSuchElementException:\n",
    "#                notes = np.nan\n",
    "#\n",
    "#            try:\n",
    "#                year = driver.find_element(By.XPATH, '//*[@id=\"brandDescription\"]/ul/li[3]/span[2]').text\n",
    "#            except NoSuchElementException:\n",
    "#                year = np.nan\n",
    "#\n",
    "#\n",
    "#            price = pq[-1]\n",
    "#            nm = pq[-2]\n",
    "#\n",
    "#            master_dict_prices[f'batch_{i}'][name] = {'Price': price, 'nm': nm}\n",
    "#            master_dict_desc[f'batch_{i}'][name] = {'Design House':house, 'Fragrance Notes': notes, 'Year': year}\n",
    "#\n",
    "#\n",
    "#            driver.quit()\n",
    "#        except:\n",
    "#\n",
    "#            #if j not in not_visited:\n",
    "#            #    not_visited.append(j)\n",
    "#            bad_links2.append(j)  \n",
    "#\n",
    "#            driver.quit()\n",
    "#            #sleep(1)\n"
   ]
  },
  {
   "cell_type": "code",
   "execution_count": 20,
   "metadata": {},
   "outputs": [
    {
     "data": {
      "text/plain": [
       "[' https://www.fragrancenet.com/perfume/women-secret/womensecret-eau-my-secret/edt#303178',\n",
       " ' https://www.fragrancenet.com/perfume/clinique/aromatics-in-white/eau-de-parfum#263030',\n",
       " ' https://www.fragrancenet.com/perfume/parfums-gres/cabotine-fleur-splendide/edt#242724',\n",
       " ' https://www.fragrancenet.com/perfume/marc-jacobs/marc-jacobs-daisy/edt-spray-3.4-oz-and-luminous-body-lotion-2.5-oz-travel-edition#257689',\n",
       " ' https://www.fragrancenet.com/perfume/chopard/casmir/body-lotion#290219',\n",
       " ' https://www.fragrancenet.com/perfume/oscar-de-la-renta/rosamor/edt#134794',\n",
       " ' https://www.fragrancenet.com/perfume/paris-hilton/paris-hilton-passport-south-beach/edt#250510',\n",
       " ' https://www.fragrancenet.com/perfume/parfums-gres/lumiere-rose/eau-de-parfum#254677']"
      ]
     },
     "execution_count": 20,
     "metadata": {},
     "output_type": "execute_result"
    }
   ],
   "source": [
    "bad_links2"
   ]
  },
  {
   "cell_type": "code",
   "execution_count": 21,
   "metadata": {},
   "outputs": [],
   "source": [
    "master_dict_prices[f'batch_{0}'][\"Women'Secret Eau My Secret\"] = {'Price': '$23.99', 'nm': 'eau de toilette spray 3.4 oz'}\n",
    "master_dict_desc[f'batch_{0}'][\"Women'Secret Eau My Secret\"] = {'Design House':\"Women' Secret\", 'Fragrance Notes': 'Pear, Lemon, Orange Blossom, Musk, Praline', 'Year': '2016'}\n",
    "\n",
    "master_dict_prices[f'batch_{0}'][\"Aromatics In White\"] = {'Price': '$87.99', 'nm': 'eau de parfum spray 1.7 oz'}\n",
    "master_dict_desc[f'batch_{0}'][\"Aromatics In White\"] = {'Design House':\"Clinique\", 'Fragrance Notes': 'Sichuan pepper, Violet leaf, Labdanum, Orange blossom, Rose', 'Year': '2014'}\n",
    "\n",
    "master_dict_prices[f'batch_{0}'][\"Cabotine Fleur Splendide\"] = {'Price': '$28.99', 'nm': 'eau de toilette spray 3.4 oz'}\n",
    "master_dict_desc[f'batch_{0}'][\"Cabotine Fleur Splendide\"] = {'Design House':\"Parfums Gres\", 'Fragrance Notes': 'White Peach, Freesia, Bergamot, Jasmine, Sandalwood', 'Year': '2013'}\n",
    "\n",
    "master_dict_prices[f'batch_{0}'][\"Marc Jacobs Daisy\"] = {'Price': '$119.99', 'nm': 'eau de toilette spray 3.4 oz'}\n",
    "master_dict_desc[f'batch_{0}'][\"Marc Jacobs Daisy\"] = {'Design House':\"Marc Jacobs\", 'Fragrance Notes': 'Strawberry, Violet Leaf, Blood Grapefruit, Jasmine, Violet, Gardenia, Vanilla, White Woods, Musk', 'Year': '2007'}\n",
    "\n",
    "master_dict_prices[f'batch_{0}'][\"Rosamor\"] = {'Price': '$28.99', 'nm': 'eau de toilette spray 3.4 oz'}\n",
    "master_dict_desc[f'batch_{0}'][\"Rosamor\"] = {'Design House':\"Oscar De La Renta\", 'Fragrance Notes': 'Freesia, Lily of the valley, Italian mandarin, Gardenia, Indian tuberose', 'Year': '2004'}\n",
    "\n",
    "master_dict_prices[f'batch_{0}'][\"Paris Hilton Passport South Beach\"] = {'Price': '$4.99', 'nm': 'eau de toilette spray 0.25 oz'}\n",
    "master_dict_desc[f'batch_{0}'][\"Paris Hilton Passport South Beach\"] = {'Design House':\"Paris Hilton\", 'Fragrance Notes': 'Marigold, Musk, Woodsy notes, Sandalwood, Nectarine', 'Year': '2010'}\n",
    "\n",
    "master_dict_prices[f'batch_{0}'][\"Cabotine Rose\"] = {'Price': '$19.99', 'nm': 'eau de toilette spray 3.4 oz'}\n",
    "master_dict_desc[f'batch_{0}'][\"Cabotine Rose\"] = {'Design House':\"Parfums Gres\", 'Fragrance Notes': 'Pear, Cherry Blossom, Green Leaves, Pikake Flower, Green Pepper', 'Year': '2003'}\n",
    "\n",
    "\n",
    "\n",
    "\n",
    "\n",
    "\n",
    "\n",
    "\n",
    "\n",
    "\n"
   ]
  },
  {
   "cell_type": "code",
   "execution_count": null,
   "metadata": {},
   "outputs": [],
   "source": [
    "master_dict_prices_backup = master_dict_prices\n",
    "master_dict_desc_backup = master_dict_desc"
   ]
  },
  {
   "attachments": {},
   "cell_type": "markdown",
   "metadata": {},
   "source": [
    "# SAVE"
   ]
  },
  {
   "cell_type": "code",
   "execution_count": 27,
   "metadata": {},
   "outputs": [],
   "source": [
    "\n",
    "with open('master_dict_prices_backup', 'wb') as f:\n",
    "  pickle.dump(master_dict_prices_backup, f)\n",
    "  f.close()\n",
    "with open('master_dict_desc_backup', 'wb') as q:\n",
    "  pickle.dump(master_dict_desc_backup, q)\n",
    "  q.close()"
   ]
  },
  {
   "cell_type": "code",
   "execution_count": 28,
   "metadata": {},
   "outputs": [],
   "source": [
    "#load\n",
    "with open('master_dict_prices_backup', 'rb') as f:\n",
    "  asdas = pickle.load(f)\n",
    "  f.close()\n",
    "with open('master_dict_prices_backup', 'rb') as f:\n",
    "  asdas2 = pickle.load(f)\n",
    "  f.close()"
   ]
  }
 ],
 "metadata": {
  "kernelspec": {
   "display_name": "base",
   "language": "python",
   "name": "python3"
  },
  "language_info": {
   "codemirror_mode": {
    "name": "ipython",
    "version": 3
   },
   "file_extension": ".py",
   "mimetype": "text/x-python",
   "name": "python",
   "nbconvert_exporter": "python",
   "pygments_lexer": "ipython3",
   "version": "3.9.13"
  },
  "orig_nbformat": 4,
  "vscode": {
   "interpreter": {
    "hash": "16f5b46f222e2a3e8d4adbf7141cae37b71ed37616e60735fa5d1164a1bc3ada"
   }
  }
 },
 "nbformat": 4,
 "nbformat_minor": 2
}
