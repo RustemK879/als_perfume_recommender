{
 "cells": [
  {
   "cell_type": "code",
   "execution_count": 1242,
   "metadata": {},
   "outputs": [],
   "source": [
    "import pandas as pd\n",
    "import numpy as np\n",
    "import matplotlib.pyplot as plt\n",
    "import pickle\n",
    "import string"
   ]
  },
  {
   "cell_type": "code",
   "execution_count": 1303,
   "metadata": {},
   "outputs": [],
   "source": [
    "all_reviews_dataframe = pd.read_csv(r'E:\\parsing project\\all_reviews_dataframe.csv')\n",
    "\n",
    "with open(r'E:\\parsing project\\master_reviews_backup_batch_1', 'rb') as f:\n",
    "  master_reviews_backup_batch1 = pickle.load(f)\n",
    "  f.close()\n",
    "\n",
    "batch1 = pd.DataFrame(master_reviews_backup_batch1['batch_1'].keys(), columns = ['author_date']).merge(pd.DataFrame(master_reviews_backup_batch1['batch_1'].values(), columns = ['review_text', 'product', 'rating out of 5']), left_index=True, right_index=True, how = 'left')\n",
    "\n",
    "all_reviews_dataframe = pd.concat([all_reviews_dataframe, batch1], ignore_index= True)\n",
    "perfumes_data = pd.read_csv(r'E:\\parsing project\\raw_data.csv')"
   ]
  },
  {
   "cell_type": "code",
   "execution_count": 1304,
   "metadata": {},
   "outputs": [],
   "source": [
    "perfumes_data['index'] = perfumes_data['index'].str.rstrip(string.digits)\n",
    "perfumes_data['index'] = perfumes_data['index'].str.lower()\n",
    "perfumes_data = perfumes_data.drop_duplicates()\n",
    "perfume_names = set(perfumes_data['index'].values)"
   ]
  },
  {
   "cell_type": "code",
   "execution_count": 1305,
   "metadata": {},
   "outputs": [],
   "source": [
    "#lowercase all\n",
    "all_reviews_dataframe['author_date'] = all_reviews_dataframe['author_date'].apply(lambda x: x.lower())\n",
    "all_reviews_dataframe['review_text'] = all_reviews_dataframe['review_text'].apply(lambda x: x.lower())\n",
    "all_reviews_dataframe['product'] = all_reviews_dataframe['product'].apply(lambda x: x.lower())\n",
    "all_reviews_dataframe['rating out of 5'] = all_reviews_dataframe['rating out of 5'].apply(lambda x: x.lower())"
   ]
  },
  {
   "cell_type": "code",
   "execution_count": 1306,
   "metadata": {},
   "outputs": [],
   "source": [
    "#drop these - no values\n",
    "bad_ids = all_reviews_dataframe[(~all_reviews_dataframe['author_date'].str.contains('written')) & (all_reviews_dataframe['review_text'].str.contains('<'))].index\n",
    "all_reviews_dataframe = all_reviews_dataframe.drop(labels=bad_ids)\n"
   ]
  },
  {
   "cell_type": "code",
   "execution_count": 1307,
   "metadata": {},
   "outputs": [],
   "source": [
    "#remove dupes\n",
    "all_reviews_dataframe = all_reviews_dataframe.drop_duplicates(subset = ['review_text', 'product', 'rating out of 5'])"
   ]
  },
  {
   "attachments": {},
   "cell_type": "markdown",
   "metadata": {},
   "source": [
    "# broken author-date"
   ]
  },
  {
   "cell_type": "code",
   "execution_count": 1308,
   "metadata": {},
   "outputs": [],
   "source": [
    "all_reviews_dataframe['broken_author_date'] = np.where(~all_reviews_dataframe['author_date'].str.contains('written by'), 1, 0)"
   ]
  },
  {
   "cell_type": "code",
   "execution_count": 1309,
   "metadata": {},
   "outputs": [],
   "source": [
    "#drop these - no values\n",
    "bad_ad_id = all_reviews_dataframe[(all_reviews_dataframe['broken_author_date'] == 1) & (~all_reviews_dataframe['author_date'].str.contains('was this review helpful?'))].index\n",
    "all_reviews_dataframe = all_reviews_dataframe.drop(labels = bad_ad_id)"
   ]
  },
  {
   "cell_type": "code",
   "execution_count": 1310,
   "metadata": {},
   "outputs": [],
   "source": [
    "#review text has AD - swap with AD\n",
    "review_written_by_id = all_reviews_dataframe[(all_reviews_dataframe['broken_author_date' ]== 1) & all_reviews_dataframe['author_date'].str.contains('was this review helpful?')]['review_text'].str.contains('written by').index\n",
    "all_reviews_dataframe.loc[review_written_by_id,['author_date', 'review_text']] = all_reviews_dataframe.loc[review_written_by_id,['review_text', 'author_date']].values"
   ]
  },
  {
   "cell_type": "code",
   "execution_count": 1311,
   "metadata": {},
   "outputs": [],
   "source": [
    "#product text has AD - swap with AD\n",
    "product_written_by_id = all_reviews_dataframe.loc[(all_reviews_dataframe['product'].str.contains('written by')) & (all_reviews_dataframe['broken_author_date' ]== 1)].index\n",
    "all_reviews_dataframe.loc[product_written_by_id,['author_date', 'product']] = all_reviews_dataframe.loc[product_written_by_id,['product', 'author_date']].values\n"
   ]
  },
  {
   "cell_type": "code",
   "execution_count": 1312,
   "metadata": {},
   "outputs": [],
   "source": [
    "#rating has AD - swap with AD\n",
    "ratings_written_by_id = all_reviews_dataframe.loc[(all_reviews_dataframe['rating out of 5'].str.contains('written by')) & (all_reviews_dataframe['broken_author_date' ]== 1)].index\n",
    "all_reviews_dataframe.loc[ratings_written_by_id,['author_date', 'rating out of 5']] = all_reviews_dataframe.loc[ratings_written_by_id,['rating out of 5', 'author_date']].values"
   ]
  },
  {
   "cell_type": "code",
   "execution_count": 1313,
   "metadata": {},
   "outputs": [],
   "source": [
    "def rat_split(row):\n",
    "    try:\n",
    "        j = int(len(row.split()))\n",
    "    except:\n",
    "        j = np.nan\n",
    "    return j\n"
   ]
  },
  {
   "cell_type": "code",
   "execution_count": 1314,
   "metadata": {},
   "outputs": [],
   "source": [
    "#all_reviews_dataframe['len_prod'] = all_reviews_dataframe['product'].apply(lambda x: len(x.split()))\n",
    "#all_reviews_dataframe['len_rating'] = all_reviews_dataframe['rating out of 5'].apply(rat_split)\n",
    "#all_reviews_dataframe['len_review_text'] = all_reviews_dataframe['review_text'].apply(lambda x: len(x.split()))"
   ]
  },
  {
   "cell_type": "code",
   "execution_count": 1315,
   "metadata": {},
   "outputs": [],
   "source": [
    "#all_reviews_dataframe['len_prod_char'] = all_reviews_dataframe['product'].str.replace(' ', '').apply(lambda x: len(x))\n",
    "#all_reviews_dataframe['len_rating_char'] = all_reviews_dataframe['rating out of 5'].str.replace(' ', '').apply(lambda x: len(x))\n",
    "#all_reviews_dataframe['len_review_char'] = all_reviews_dataframe['review_text'].str.replace(' ', '').apply(lambda x: len(x))"
   ]
  },
  {
   "cell_type": "code",
   "execution_count": 1316,
   "metadata": {},
   "outputs": [],
   "source": [
    "def len_x_char(df, excl = list()):\n",
    "    for i in df.columns:\n",
    "        if i not in excl:\n",
    "            df[f'len_{i}'] = df[i].apply(lambda x: len(str(x).split()))\n",
    "            df[f'len_char_{i}'] = df[i].str.replace(' ', '').apply(lambda x: len(str(x)))"
   ]
  },
  {
   "cell_type": "code",
   "execution_count": 1317,
   "metadata": {},
   "outputs": [],
   "source": [
    "len_x_char(all_reviews_dataframe, excl = ['broken_author_date', 'author_date'])"
   ]
  },
  {
   "attachments": {},
   "cell_type": "markdown",
   "metadata": {},
   "source": [
    "# Fixing ratings"
   ]
  },
  {
   "cell_type": "code",
   "execution_count": 1318,
   "metadata": {},
   "outputs": [],
   "source": [
    "#review_text and rating swap\n",
    "review_text_rating_swap_ids = all_reviews_dataframe[(all_reviews_dataframe['len_review_text'] == 2) & (all_reviews_dataframe['review_text'].str.contains('star'))].index\n",
    "all_reviews_dataframe.loc[review_text_rating_swap_ids,['review_text', 'rating out of 5']] = all_reviews_dataframe.loc[review_text_rating_swap_ids,['rating out of 5', 'review_text']].values"
   ]
  },
  {
   "cell_type": "code",
   "execution_count": 1319,
   "metadata": {},
   "outputs": [],
   "source": [
    "len_x_char(all_reviews_dataframe, excl = ['broken_author_date', 'author_date', 'len_review_text', 'len_char_review_text', 'len_product', 'len_char_product', 'len_rating out of 5', 'len_char_rating out of 5'])"
   ]
  },
  {
   "cell_type": "code",
   "execution_count": 1320,
   "metadata": {},
   "outputs": [],
   "source": [
    "#product and rating swap\n",
    "product_rating_swap_ids = all_reviews_dataframe[(all_reviews_dataframe['len_product'] == 2) & (all_reviews_dataframe['product'].str.contains('star'))].index\n",
    "all_reviews_dataframe.loc[product_rating_swap_ids,['product', 'rating out of 5']] = all_reviews_dataframe.loc[product_rating_swap_ids,['rating out of 5', 'product']].values"
   ]
  },
  {
   "cell_type": "code",
   "execution_count": 1321,
   "metadata": {},
   "outputs": [],
   "source": [
    "len_x_char(all_reviews_dataframe, excl = ['broken_author_date', 'author_date', 'len_review_text', 'len_char_review_text', 'len_product', 'len_char_product', 'len_rating out of 5', 'len_char_rating out of 5'])"
   ]
  },
  {
   "cell_type": "code",
   "execution_count": 1322,
   "metadata": {},
   "outputs": [],
   "source": [
    "for_nlp = all_reviews_dataframe[all_reviews_dataframe['review_text'].str.contains('was this review helpful?')]\n",
    "for_nlp_id = all_reviews_dataframe[all_reviews_dataframe['review_text'].str.contains('was this review helpful?')].index"
   ]
  },
  {
   "cell_type": "code",
   "execution_count": 1323,
   "metadata": {},
   "outputs": [
    {
     "data": {
      "text/html": [
       "<div>\n",
       "<style scoped>\n",
       "    .dataframe tbody tr th:only-of-type {\n",
       "        vertical-align: middle;\n",
       "    }\n",
       "\n",
       "    .dataframe tbody tr th {\n",
       "        vertical-align: top;\n",
       "    }\n",
       "\n",
       "    .dataframe thead th {\n",
       "        text-align: right;\n",
       "    }\n",
       "</style>\n",
       "<table border=\"1\" class=\"dataframe\">\n",
       "  <thead>\n",
       "    <tr style=\"text-align: right;\">\n",
       "      <th></th>\n",
       "      <th>author_date</th>\n",
       "      <th>review_text</th>\n",
       "      <th>product</th>\n",
       "      <th>rating out of 5</th>\n",
       "      <th>broken_author_date</th>\n",
       "      <th>len_review_text</th>\n",
       "      <th>len_char_review_text</th>\n",
       "      <th>len_product</th>\n",
       "      <th>len_char_product</th>\n",
       "      <th>len_rating out of 5</th>\n",
       "      <th>len_char_rating out of 5</th>\n",
       "    </tr>\n",
       "  </thead>\n",
       "  <tbody>\n",
       "    <tr>\n",
       "      <th>0</th>\n",
       "      <td>20300_written by jan on december 06, 2022</td>\n",
       "      <td>one of my favorites!!! i don't care when i wea...</td>\n",
       "      <td>kate spade live colorfullywomen</td>\n",
       "      <td>5 stars</td>\n",
       "      <td>0</td>\n",
       "      <td>22</td>\n",
       "      <td>85</td>\n",
       "      <td>4</td>\n",
       "      <td>28</td>\n",
       "      <td>2</td>\n",
       "      <td>6</td>\n",
       "    </tr>\n",
       "    <tr>\n",
       "      <th>1</th>\n",
       "      <td>20301_written by ashley allure on june 17, 2022</td>\n",
       "      <td>i love it! i pondered on it for awhile. it’s e...</td>\n",
       "      <td>kate spade live colorfullywomen</td>\n",
       "      <td>5 stars</td>\n",
       "      <td>0</td>\n",
       "      <td>23</td>\n",
       "      <td>85</td>\n",
       "      <td>4</td>\n",
       "      <td>28</td>\n",
       "      <td>2</td>\n",
       "      <td>6</td>\n",
       "    </tr>\n",
       "    <tr>\n",
       "      <th>2</th>\n",
       "      <td>20302_written by love it on february 19, 2022</td>\n",
       "      <td>love this and the travel spray bottle is so co...</td>\n",
       "      <td>kate spade live colorfullywomen</td>\n",
       "      <td>5 stars</td>\n",
       "      <td>0</td>\n",
       "      <td>15</td>\n",
       "      <td>60</td>\n",
       "      <td>4</td>\n",
       "      <td>28</td>\n",
       "      <td>2</td>\n",
       "      <td>6</td>\n",
       "    </tr>\n",
       "    <tr>\n",
       "      <th>3</th>\n",
       "      <td>20303_written by cheryl on september 12, 2021</td>\n",
       "      <td>i love the fragrance which is light and not ov...</td>\n",
       "      <td>kate spade live colorfullywomen</td>\n",
       "      <td>5 stars</td>\n",
       "      <td>0</td>\n",
       "      <td>16</td>\n",
       "      <td>74</td>\n",
       "      <td>4</td>\n",
       "      <td>28</td>\n",
       "      <td>2</td>\n",
       "      <td>6</td>\n",
       "    </tr>\n",
       "    <tr>\n",
       "      <th>4</th>\n",
       "      <td>20304_written by deirdre w. on july 16, 2021</td>\n",
       "      <td>pretty fragrance i get a lot of compliments on...</td>\n",
       "      <td>kate spade live colorfullywomen</td>\n",
       "      <td>5 stars</td>\n",
       "      <td>0</td>\n",
       "      <td>17</td>\n",
       "      <td>75</td>\n",
       "      <td>4</td>\n",
       "      <td>28</td>\n",
       "      <td>2</td>\n",
       "      <td>6</td>\n",
       "    </tr>\n",
       "    <tr>\n",
       "      <th>...</th>\n",
       "      <td>...</td>\n",
       "      <td>...</td>\n",
       "      <td>...</td>\n",
       "      <td>...</td>\n",
       "      <td>...</td>\n",
       "      <td>...</td>\n",
       "      <td>...</td>\n",
       "      <td>...</td>\n",
       "      <td>...</td>\n",
       "      <td>...</td>\n",
       "      <td>...</td>\n",
       "    </tr>\n",
       "    <tr>\n",
       "      <th>53493</th>\n",
       "      <td>80324_written by dognutlv on november 18, 2021</td>\n",
       "      <td>hermes d'orange vert unisex</td>\n",
       "      <td>this is my favorite scent on my husband. it's ...</td>\n",
       "      <td>5 stars</td>\n",
       "      <td>0</td>\n",
       "      <td>4</td>\n",
       "      <td>24</td>\n",
       "      <td>35</td>\n",
       "      <td>156</td>\n",
       "      <td>2</td>\n",
       "      <td>6</td>\n",
       "    </tr>\n",
       "    <tr>\n",
       "      <th>53496</th>\n",
       "      <td>80327_written by patty b on july 07, 2022</td>\n",
       "      <td>really nice fresh smell</td>\n",
       "      <td>kenneth cole blackwomen</td>\n",
       "      <td>4 stars</td>\n",
       "      <td>0</td>\n",
       "      <td>4</td>\n",
       "      <td>20</td>\n",
       "      <td>3</td>\n",
       "      <td>21</td>\n",
       "      <td>2</td>\n",
       "      <td>6</td>\n",
       "    </tr>\n",
       "    <tr>\n",
       "      <th>53497</th>\n",
       "      <td>80328_written by stacey on march 21, 2022</td>\n",
       "      <td>i love the soft smell and the fact that it doe...</td>\n",
       "      <td>blue grasswomen</td>\n",
       "      <td>5 stars</td>\n",
       "      <td>0</td>\n",
       "      <td>18</td>\n",
       "      <td>67</td>\n",
       "      <td>2</td>\n",
       "      <td>14</td>\n",
       "      <td>2</td>\n",
       "      <td>6</td>\n",
       "    </tr>\n",
       "    <tr>\n",
       "      <th>53498</th>\n",
       "      <td>80329_written by sylvia on april 10, 2022</td>\n",
       "      <td>omg!!! smells so good. it’s a sweet scent, not...</td>\n",
       "      <td>jean paul gaultier scandalwomen</td>\n",
       "      <td>5 stars</td>\n",
       "      <td>0</td>\n",
       "      <td>59</td>\n",
       "      <td>234</td>\n",
       "      <td>4</td>\n",
       "      <td>28</td>\n",
       "      <td>2</td>\n",
       "      <td>6</td>\n",
       "    </tr>\n",
       "    <tr>\n",
       "      <th>53501</th>\n",
       "      <td>80332_written by jess on december 04, 2022</td>\n",
       "      <td>this is one of my all-time favorite perfumes! ...</td>\n",
       "      <td>juicy couture i am juicy couturewomen</td>\n",
       "      <td>5 stars</td>\n",
       "      <td>0</td>\n",
       "      <td>37</td>\n",
       "      <td>170</td>\n",
       "      <td>6</td>\n",
       "      <td>32</td>\n",
       "      <td>2</td>\n",
       "      <td>6</td>\n",
       "    </tr>\n",
       "  </tbody>\n",
       "</table>\n",
       "<p>46054 rows × 11 columns</p>\n",
       "</div>"
      ],
      "text/plain": [
       "                                           author_date  \\\n",
       "0            20300_written by jan on december 06, 2022   \n",
       "1      20301_written by ashley allure on june 17, 2022   \n",
       "2        20302_written by love it on february 19, 2022   \n",
       "3        20303_written by cheryl on september 12, 2021   \n",
       "4         20304_written by deirdre w. on july 16, 2021   \n",
       "...                                                ...   \n",
       "53493   80324_written by dognutlv on november 18, 2021   \n",
       "53496        80327_written by patty b on july 07, 2022   \n",
       "53497        80328_written by stacey on march 21, 2022   \n",
       "53498        80329_written by sylvia on april 10, 2022   \n",
       "53501       80332_written by jess on december 04, 2022   \n",
       "\n",
       "                                             review_text  \\\n",
       "0      one of my favorites!!! i don't care when i wea...   \n",
       "1      i love it! i pondered on it for awhile. it’s e...   \n",
       "2      love this and the travel spray bottle is so co...   \n",
       "3      i love the fragrance which is light and not ov...   \n",
       "4      pretty fragrance i get a lot of compliments on...   \n",
       "...                                                  ...   \n",
       "53493                        hermes d'orange vert unisex   \n",
       "53496                            really nice fresh smell   \n",
       "53497  i love the soft smell and the fact that it doe...   \n",
       "53498  omg!!! smells so good. it’s a sweet scent, not...   \n",
       "53501  this is one of my all-time favorite perfumes! ...   \n",
       "\n",
       "                                                 product rating out of 5  \\\n",
       "0                        kate spade live colorfullywomen         5 stars   \n",
       "1                        kate spade live colorfullywomen         5 stars   \n",
       "2                        kate spade live colorfullywomen         5 stars   \n",
       "3                        kate spade live colorfullywomen         5 stars   \n",
       "4                        kate spade live colorfullywomen         5 stars   \n",
       "...                                                  ...             ...   \n",
       "53493  this is my favorite scent on my husband. it's ...         5 stars   \n",
       "53496                            kenneth cole blackwomen         4 stars   \n",
       "53497                                    blue grasswomen         5 stars   \n",
       "53498                    jean paul gaultier scandalwomen         5 stars   \n",
       "53501              juicy couture i am juicy couturewomen         5 stars   \n",
       "\n",
       "       broken_author_date  len_review_text  len_char_review_text  len_product  \\\n",
       "0                       0               22                    85            4   \n",
       "1                       0               23                    85            4   \n",
       "2                       0               15                    60            4   \n",
       "3                       0               16                    74            4   \n",
       "4                       0               17                    75            4   \n",
       "...                   ...              ...                   ...          ...   \n",
       "53493                   0                4                    24           35   \n",
       "53496                   0                4                    20            3   \n",
       "53497                   0               18                    67            2   \n",
       "53498                   0               59                   234            4   \n",
       "53501                   0               37                   170            6   \n",
       "\n",
       "       len_char_product  len_rating out of 5  len_char_rating out of 5  \n",
       "0                    28                    2                         6  \n",
       "1                    28                    2                         6  \n",
       "2                    28                    2                         6  \n",
       "3                    28                    2                         6  \n",
       "4                    28                    2                         6  \n",
       "...                 ...                  ...                       ...  \n",
       "53493               156                    2                         6  \n",
       "53496                21                    2                         6  \n",
       "53497                14                    2                         6  \n",
       "53498                28                    2                         6  \n",
       "53501                32                    2                         6  \n",
       "\n",
       "[46054 rows x 11 columns]"
      ]
     },
     "execution_count": 1323,
     "metadata": {},
     "output_type": "execute_result"
    }
   ],
   "source": [
    "all_reviews_dataframe"
   ]
  },
  {
   "cell_type": "code",
   "execution_count": 1324,
   "metadata": {},
   "outputs": [],
   "source": [
    "# temporary drop - now all ratings are in-place\n",
    "all_reviews_dataframe = all_reviews_dataframe.drop(labels=for_nlp_id)"
   ]
  },
  {
   "cell_type": "code",
   "execution_count": 1325,
   "metadata": {},
   "outputs": [],
   "source": [
    "perfumes_data['name_char'] = perfumes_data['index'].apply(lambda x: len(str(x)))"
   ]
  },
  {
   "cell_type": "code",
   "execution_count": 1326,
   "metadata": {},
   "outputs": [
    {
     "data": {
      "text/html": [
       "<div>\n",
       "<style scoped>\n",
       "    .dataframe tbody tr th:only-of-type {\n",
       "        vertical-align: middle;\n",
       "    }\n",
       "\n",
       "    .dataframe tbody tr th {\n",
       "        vertical-align: top;\n",
       "    }\n",
       "\n",
       "    .dataframe thead th {\n",
       "        text-align: right;\n",
       "    }\n",
       "</style>\n",
       "<table border=\"1\" class=\"dataframe\">\n",
       "  <thead>\n",
       "    <tr style=\"text-align: right;\">\n",
       "      <th></th>\n",
       "      <th>index</th>\n",
       "      <th>Price</th>\n",
       "      <th>nm</th>\n",
       "      <th>Design House</th>\n",
       "      <th>Fragrance Notes</th>\n",
       "      <th>Year</th>\n",
       "      <th>name_char</th>\n",
       "    </tr>\n",
       "  </thead>\n",
       "  <tbody>\n",
       "    <tr>\n",
       "      <th>1099</th>\n",
       "      <td>lacoste eau de lacoste l.12.12 pour elle eau f...</td>\n",
       "      <td>$58.99</td>\n",
       "      <td>eau de toilette spray 3 oz</td>\n",
       "      <td>Lacoste</td>\n",
       "      <td>Grapefruit, Yellow Mandarin, Indonesian Patcho...</td>\n",
       "      <td>2018</td>\n",
       "      <td>57</td>\n",
       "    </tr>\n",
       "  </tbody>\n",
       "</table>\n",
       "</div>"
      ],
      "text/plain": [
       "                                                  index   Price  \\\n",
       "1099  lacoste eau de lacoste l.12.12 pour elle eau f...  $58.99   \n",
       "\n",
       "                              nm Design House  \\\n",
       "1099  eau de toilette spray 3 oz      Lacoste   \n",
       "\n",
       "                                        Fragrance Notes  Year  name_char  \n",
       "1099  Grapefruit, Yellow Mandarin, Indonesian Patcho...  2018         57  "
      ]
     },
     "execution_count": 1326,
     "metadata": {},
     "output_type": "execute_result"
    }
   ],
   "source": [
    "perfumes_data[perfumes_data['name_char'] == perfumes_data['name_char'].max()] #max length of perfume name - 57 chars, optimal length is 50 after manual inspection"
   ]
  },
  {
   "attachments": {},
   "cell_type": "markdown",
   "metadata": {},
   "source": [
    "# Reviews and products fix"
   ]
  },
  {
   "cell_type": "code",
   "execution_count": 1327,
   "metadata": {},
   "outputs": [],
   "source": [
    "# swap reviews and products if product name is greater than the longest perfume name\n",
    "review_product_swap_by_max_name_id = all_reviews_dataframe[all_reviews_dataframe['len_char_product'] >= 50].index\n",
    "all_reviews_dataframe.loc[review_product_swap_by_max_name_id,['review_text', 'product']] = all_reviews_dataframe.loc[review_product_swap_by_max_name_id,['product', 'review_text']].values"
   ]
  },
  {
   "cell_type": "code",
   "execution_count": 1328,
   "metadata": {},
   "outputs": [],
   "source": [
    "len_x_char(all_reviews_dataframe, excl = ['broken_author_date', 'author_date', 'len_review_text', 'len_char_review_text', 'len_product', 'len_char_product', 'len_rating out of 5', 'len_char_rating out of 5'])"
   ]
  },
  {
   "cell_type": "code",
   "execution_count": 1329,
   "metadata": {},
   "outputs": [],
   "source": [
    "perfumes = all_reviews_dataframe.loc[review_product_swap_by_max_name_id]['product'].unique()"
   ]
  },
  {
   "cell_type": "code",
   "execution_count": 1330,
   "metadata": {},
   "outputs": [
    {
     "data": {
      "text/plain": [
       "\"katespadelivecolorfullywomen|beyonceheatrushwomen|livejenniferlopezwomen|tommybahamasetsailstbartswomen|unforgivablewomanwomen|jovanislandgardeniawomen|michaelkorsroseradiantgoldwomen|voluptewomen|arianagrandethankunextwomen|bondno.9governorsislandunisex|modernmusewomen|orienticaamberrougeunisex|joywomen|parfumsdemarlylayton|valentinovocevivawomen|l'interditwomen|nishanehacivat|quelquesfleurswomen|emeraudewomen|cerruti1881women|tomfordtobaccovanille|obsessionnightperfume|gucciguiltyintensewomen|noawomen|eliesaabgirlofnowwomen|purewomen|reddoorwomen|usherwomen|pinksugarberryblastwomen|aliengoddessperfume|cleanwarmcottonwomen|cabotinewomen|irresistiblegivenchywomen|peacelove&juicycouturewomen|beyonceheatwomen|vanillafieldswomen|jessicamcclintock#3women|dknybedeliciousfreshblossomwomen|mancerarosesgreedy|laliquesoleilwomen|cabotinewomen|blackopiumintensewomen|shiseidozenwomen|couturecouturebyjuicycouturewomen|gucciflorawomen|angelnovawomen|bvlgariomniacoralwomen|ciara80%women|eaudusoirwomen|bondno.9newyorknights|angeoudemonlesecretwomen|vincecamutoamorewomen|eaudesmerveilleswomen|azzarowantedgirlwomen|escentricmolecule02unisex|ck2|jimmychoofloralwomen|gucciguiltyloveeditionwomen|cartierlapantherewomen|pradacandykisswomen|vanillamuskwomen|splendorwomen|jenniferanistonnearduskwomen|flowerbombnectarwomen|lolitalempickaleparfumwomen|twillyd'hermesparfum|bondno.9madisonavenuewomen|narcisorodriguezpuremuscwomen|emporioarmaniwomen|rihannareb'lfleurlovealwayswomen|luckynumber6women|provocativewomen|incantoshinewomen|montaleparischocolategreedy|sublimewomen|vivalajuicywomen|creedloveinblackwomen|alienmuscmysterieuxwomen|vivalajuicyrose|verawanglovestruckwomen|curvewomen|amethystlaliquewomen|vincecamutociaowomen|pleasuresintensewomen|guccirush2women|vivalajuicylafleurwomen|jewelwomen|boucheronquatrewomen|oscardelarentaliveinlovewomen|bonbonwomen|touchwomen|aquaallegoriamandarine-basilicwomen|ifancyyouwomen|montaleparisstarrynights|whitediamondspowder|theonewomen|narcisorodrigueznarcisopoudreewomen|knowingwomen|sunmoonstarswomen|valentinodonnawomen|navywomen|tomfordeaudesoleilblanc|montaleparisrosesmuskwomen|juliettehasagunvanillavibes|rihannakisswomen|eliesaabgirlofnowforeverwomen|hanaemoriwomen|believebritneyspearswomen|symétrieembracewomen|jenniferanistonwomen|dolce&gabbanavarietywomen|myburberrywomen|katespadewalkonair|michaelkorsglamjasminewomen|212women|tommybahamaverycoolwomen|d&glightbluewomen|perlesdelaliquewomen|missdiorrosen'roseswomen|designwomen|lolitalempickasweetwomen|lovesbabysoftwomen|thierrymuglercologneunisex|ardenbeautywomen|katespadenewyork|vipprivateshow|veryirresistiblewomen|nishaneaniunisex|burberryherlondondream|arpegewomen|kennethcolereactionwomen|d&glightbluesunwomen|dianewomen|pradacandyglosswomen|opiumwomen|flowerbombmidnightwomen|meowwomen|bvlgariomniawomen|jeanpaulgaultierlabellewomen|theonlyoneintensewomen|eternitynowwomen|daisyloveeausosweet|eliesaabgirlofnowshinewomen|bluegrasswomen|thierrymuglerwomanitywomen|pariswomen|diorjoywomen|vincecamutowomen|juicycoutureiamjuicycouturewomen|poisonwomen|ninawomen|parfumsdemarlydelinaexclusifwomen|afnan9pmunisex|jovanmuskwomen|whitediamondssparklingwomen|claibornewomen|rihannanudeperfume|kennethcoleblackwomen|nirvanawhitewomen|symétrielovewomen|angeleaucroisierewomen|stellamccartneystellawomen|bossfemmewomen|sergelutenscherguiunisex|ralphlaurenwomanwomen|tommybahamaforherwomen|pradawomen|kennethcolewhitewomen|diamonds&sapphireswomen|robertocavallisignaturewomen|chcarolinaherrera(new)women|ckoneunisex|cartierbaiservolewomen|burberrybritrhythmwomen|privateshowbritneyspearswomen|whitediamondsbodylotion|hotcouturebygivenchywomen|vintagebloomwomen|pheromonewomen|balenciagapariswomen|shalimarwomen|bondno.9bleeckerstunisex|pradacandynightwomen|tresorlanuitalafoliewomen|ellentracywomen|dolce&gabbanapourfemmeintensewomen|hermesd'orangevert|coachpoppywomen|symétrieharmonywomen|sirenewomen|jeanpaulgaultierscandalwomen|samsarawomen|versaceyellowdiamondintensewomen|alyssaashleymuskedt|roguebyrihannawomen|bvlgariomniapinksapphire|adamlevinewomen|coachsignaturewomen|foreverwomen|diamonds&emeraldswomen|salvatoreferragamowomen|vincecamutofioriwomen|cloudarianagrandewomen|eaudesmerveilleselixirwomen|parfumsdemarlydelina|jimmychoowomen|hypnosewomen|bvlgariomniaamethystewomen|armafclubdenuitintensewomen|tomfordfuckingfabulous|myburberryblushwomen|escadamiamiblossomwomen|unbreakablebondbykhloeandlamar|chloenomadewomen|mbymariahcareywomen|creedroyalprincessoudwomen|boucheronwomen|rivegauchewomen|escadaaguadelsolwomen|pinksugarwomen|chgoodgirllegerewomen|unjardinsurletoitwomen|mbymariahcareylusciouspinkwomen|narcisorodriguezwomen|bvlgarisplendidajasminnoirwomen|purepoisonwomen|cheap&chicwomen|alienfusionwomen|l'extaseninaricciwomen|chgoodgirlsupremewomen|angelwomen|angelmusewomen|redjeanswomen|lacostetouchofpink|youthdewwomen|amoramorwomen|l'eaud'isseywomen|jontuewomen|symétrieblisswomen|ckonedeodorant|guessseductivewomen|pradacandyflorale|moschinogoldfreshcouturewomen|edhardyhearts&daggerswomen|armanisifioriwomen|tresorlanuitwomen|angelinnocentwomen|laliqueleparfumwomen|gucciguiltyblackwomen|chanelcocomademoisellewomen|yesiamwomen|bondno.9nolita|laliquewomen|nickiminajpinkfridaywomen|amoferragamowomen|doublediamondwomen|vivalajuicyperfume|symétriedreamwomen|sunsetfantasybritneyspearswomen|nudewomen|jeanpaulgaultierscandalbynightwomen|paulsmithrosewomen|manifestoyvessaintlaurentwomen|caesarswomen|lavieestbellel'eclatwomen|lovelysarahjessicaparkerwomen|mariahcareyultrapinkwomen|armanicodecashmerewomen|l'amourlaliquewomen|symétriebalancewomen|guccifloral|juliettehasagunmmmmwomen|dolcerosaexcelsawomen|bondno.9centralparksouthwomen|sexualnoirwomen|guccibloomacquadifiori|jomalonelimebasil&mandarinwomen|greentealavenderwomen|perryellis360varietywomen|parishiltonsirenwomen|chanel#5women|escentricmolecule04|rihannareb'lfleurwomen|monparisyslintensement|paco|edenwomen|curvewavewomen|kimkardashiangoldwomen|jomaloneenglishpear&freesiawomen|bondno.9chinatownunisex|beyondromancewomen|girlfriendbyjustinbieberwomen|marcjacobsdot|jadoreinjoywomen|jourd'hermesabsoluwomen|orchideevanillevancleef&arpelswomen|fifthavenueafterfivewomen|coachpoppycitrineblossomwomen|blackopiumneonwomen|royalbaincaronchampagneunisex|marcjacobsrain|divawomen|eternityflamewomen|pdmcarlisle|pradainfusiondeamande|charliegoldwomen|polobigpony#2women|guccibloomprofumodifiori|narcisorodriguezfleurmuscwomen|moonlightbyarianagrandewomen|michaelkorsgoldluxeeditionwomen|windsongwomen|tizianaterenzikirkeunisex|poisongirlwomen|skydigioia|nickiminajminajestywomen|ralphlaurenbluewomen|gucciguiltyabsolutepourfemmewomen|selenagomezwomen|eliesaableparfuminwhitewomen|lolitalempickasilolitawomen|lacosteeaudelacostel.12.12pourellesparklingwomen|bottegavenetawomen|tocadewomen|purrwomen|jeanpaulgaultierlabelleleparfumintense|escentric02unisex|alyssaashleymuskcologne|bvlgariomniaindiangarnetwomen|bondno.9ilovenyforall|pacorabanneolympeaintensewomen|pinksugarcreamysunshine|abspiritmillionairewomen|bondno.9greenwichvillage|killerqueenwomen|lailawomen|eternitysummerwomen|tousbaby|royalrevolutionwomen|dolcevitawomen|bvlgarigoldeatheromannightwomen|tomfordmetalliquewomen|chanelcocowomen|urwomen|cleanultimatebeachdaywomen|heavensentwomen|jessicamcclintocklotion|parishiltondazzlewomen|juicycoutureilovejuicycouturewomen|norellnewyorkwomen|guessseductivered|cleanskinwomen|initiosideeffectunisex|bybloswomen|jerevienswomen|greenteanectarineblossomwomen|montblancindividuellewomen|burberryherblossomwomen|donnakarancashmereaurawomen|reminiscencepatchouliwomen|halstonwomen|acquadiparmabluemediterraneomirtodipanarea|ckoneshockwomen|d&glightblueforeverwomen|skinmuskwomen|aromaticselixirwomen|yardleywomen|michaelkorssexyblossomwomen|valentinovalentinapoudrewomen|lapetiterobenoirewomen|euphoriadeepwomen|hanaewomen|nickiminajonikawomen|couturelalajuicycouturewomen|rihannanudewomen|iwantchooforever|neroliamarawomen|baccaratrouge540extrait|bodyfantasiesjapanesecherryblossomwomen|armaflefemmewomen|fifthavenuenycwomen|laliqueamethysteclatwomen|joop!women|toujoursmoiwomen|avwomen|tomfordjasminrougewomen|jilsander#4women|guessdarewomen|oscardelarentabellarosawomen|cleanultimatewomen|angeletoiledesreveswomen|ladyvengeancewomen|rihannacrushwomen|incantocharmswomen|armanisipassioneintensewomen|alienflorafuturawomen|jeannelanvinwomen|pradacandysugarpopwomen|armafleparfaitwomen|anaisanaisl'originalwomen|sunflowerssummerbloomwomen|rumeurwomen|jeanpaulgaultierwomen|circusfantasybritneyspearswomen|gucciguiltypourfemmewomen|bvlgarisplendidairisd'orwomen|cleanfreshlaundrywomen|parishiltonpassportpariswomen|bondno.9signaturescent|diorissimowomen|notaperfumesuperdoseunisex|sergelutensnuitdecellophanewomen|lavieestbelleintensementwomen|monparisyslwomen|rosesdechloewomen|tresorinlovewomen|unjardinenmediterraneewomen|replicabythefireplace|sergelutenslafilledeberlinunisex|parishiltonroserushwomen|donnakaranliquidcashmereblushwomen|headoverheelswomen|robertocavalliparadisowomen|24faubourgwomen|curiousbritneyspearswomen|beyoncepulsewomen|curvechillwomen|vincecamutocapriwomen|aquaallegoriapamplelunewomen|passionwomen|narcisorodrigueznarcisowomen|bondno.9nuitsdenohowomen|alieneauextraordinairewomen|dunewomen|diorjoyintensewomen|parishiltonwithlovewomen|nishanehundredsilentwaysunisex|burberrybritrhythmfloralwomen|creedloveinwhitesummer|manceravelvetvanillaunisex|alyssaashleymuskoil|tresormidnightrosewomen|sparkwomen|coolwatersearosewomen|lavieestbelleenrosewomen|myfifthavenuewomen|narcisorodrigueznarcisorougewomen|whiteshoulderswomen|fidjiwomen|cabotinerose|adidasfruityrhythmwomen|alyssaashleymusklotion|guessgoldwomen|stellamccartneypopwomen|marcjacobshoneywomen|monguerlainintensewomen|giorgiobluewomen|loulouwomen|ombrerosewomen|ckeveryoneunisex|monpariscouture|roseextaseninaricciwomen|273indigowomen|vanitasversacewomen|cleanrainwomen|dieselloverdosewomen|creedacquafiorentinawomen|guessgirlwomen|ckbe|sodelarentawomen|wishwomen|sexualsugarwomen|emporioarmanidiamondswomen|sergelutensl'orphelinewomen|versacecrystalnoirwomen|franckolivieroudvanille|bondno.9astorplacewomen|tommybahamasetsailmartiniquewomen|oscarwomen|whitediamondsnightwomen|jimmychooflashwomen|escentric01|vincecamutoilluminarewomen|incantowomen|bvlgariwhiteunisex|marcjacobsdecadenceeausodecadentwomen|oscardelarentabellablancawomen|cotywildmuskwomen|burberrybodywomen|tiffany&cointensewomen|ilbaciowomen|nicolemillerwomen|dieselloverdoseredkisswomen|hiddenfantasybritneyspearswomen|justmeparishiltonwomen|creedloveinwhitewomen|lancomeoudbouquetunisex|bondno.9madisonsquareparkwomen|firstwomen|lolitalempickalolitalandwomen|boisdorevancleef&arpels|sweetlikecandybyarianagrandewomen|rasasilayuqawamjasminewispwomen|ckonespray|michaelkorssexyrubywomen|rosetheonewomen|jaipurbraceletwomen|comptoirsudpacifiquevanillecocowomen|vincecamutofemmewomen|premierjourwomen|petitsetmamanswomen|ckall|juicycouturemalibusurf|kenzojunglel'elephantwomen|alharamainjunoonnoirwomen|cubavarietywomen|amouagelovetuberosewomen|narcisorodriguezmuscnoirrosewomen|l'eaud'isseypurenectardeparfumwomen|jaipurbouquetwomen|kenzoamourwomen|moschinofunny!women|hugowomen|stilljenniferlopezwomen|creedvirginislandwaterunisex|tomfordvelvetorchid|lavieestbelleintensement|reddoorrevealedwomen|givenchydahliadivinwomen|wonderstruckenchantedtaylorswiftwomen|bondno.9libertyislandunisex|guess1981losangeleswomen|alieneausublimewomen|manceraaoudvanille|chantillywomen|charlieredwomen|gucciintenseoudunisex|guccibygucciwomen|fredhayman273women|poemewomen|twillyd'hermeseaupoivreewomen|preciousoudvancleef&arpelswomen|ultravioletwomen|rumeur2rosewomen|tomfordorchidsoleilwomen|versacebrightcrystalwomen|toryburchloverelentlesslywomen|zadig&voltairethisisher!women|parishiltoncancanburlesquewomen|secretobsessionwomen|eaudecartierunisex|charliewhitewomen|happychopardlemondulciwomen|coolwaterlotion|madpotionwomen|montaleparismukhallat|greenteacherryblossomwomen|tribuwomen|monguerlainwomen|bondno.9newbondst.|missboucheronwomen|angelaquachicwomen|lacosteeaudelacostel.12.12pourelleelegantwomen|roguelovebyrihannawomen|eliesaableparfumessentielwomen|disneyprincessaurorawomen|lauraashley#1women|xerjoffcasamorati1888lirawomen|tomfordneroliportofinounisex|philosophylivejoyouslywomen|flowerbombdewwomen|mustdecartierwomen|fantasyintensebritneyspearswomen|trussardidonnawomen|kenzod'etewomen|kenzoflowerwomen|theonlyonewomen|jourd'hermeswomen|hellokittywomen|adropd'issey|parishiltonplatinumrushwomen|tabuwomen|clivechristianxwomen|4711acquacolonialemon&gingerwomen|montaleparisvanilleabsoluwomen|l'eaud'isseypurewomen|parishiltonteasewomen|valentinovalentinawomen|blackopiumfloralshockwomen|eclatd'fleurswomen|lacostepourfemmewomen|pacorabanneolympealegendwomen|bcbgmaxazriabonchicwomen|emozionewomen|alwaysredfemmewomen|gbygiorgiowomen|amouagesunshinewomen|signorinamisteriosawomen|oceandreamltdwomen|karllagerfeldwomen|calandrewomen|cleancoolcottonwomen|chloewomen|bodycologypurewhitegardeniawomen|juicycoutureouiwomen|swissarmy|festivefantasybritneyspearswomen|bcbgmaxazriawomen|greenteapearblossomwomen|juicycoutureohsoorangewomen|bondno.9newhaarlemunisex|pleatspleasel'eaubyisseymiyakewomen|escadaturquoisesummerwomen|safariwomen|eclatd'arpegelotion|boucherontubereusedemadrasunisex|amouagehonourwomen|chgoodgirlfantasticpinkwomen|kimkardashianpurehoneywomen|montaleparisdarkpurplewomen|perryellisreservewomen|vivalajuicypinkcouturewomen|hermesd'orangevertconcentreunisex|bondno.9hamptons|chanelchanceeauvivewomen|donnakaranliquidcashmerewomen|eaud'hadrienwomen|calvinkleineternitygel|wildfoxwomen|signorinaeleganzawomen|montaleparisintensetiareunisex|prettywomen|aquaallegoriapassiflorawomen|l'eaukenzowomen|lavieestbellewomen|perryellis360women|disneyprincessarielwomen|bvlgariauthevert(greentea)|marcjacobsdaisyeausofreshwomen|eliesaableparfumroyalwomen|lechevrefeuillewomen|myrrh&tonka|romawomen|ricciricciwomen|voyaged'hermes|hollisterwavewomen|armanisiintensewomen|dknynectarlovewomen|memoparismarfaunisex|bananarepublicrosewoodwomen|bvlgarirosegoldea|eauderoyalsecretwomen|prince3121women|afnansouvenirfloralbouquetwomen|roserougewomen|dioraddicteaufraichewomen|creedwhiteamber|l'extaseroseabsolueninaricciwomen|maisonfranciskurkdjianalarosewomen|vivalajuicylebubblywomen|agentprovocateurwomen|glitterfantasybritneyspears|tomfordlostcherryunisex|revealcalvinkleinwomen|beyoncerisewomen|violeteyeswomen|sunnysideupwomen|pradainfusioniriscedrewomen|parishiltonfairydustwomen|valentinodonnarosaverdewomen|romancerosewomen|animalewomen|pradalafemmeintensewomen|scherrerwomen|chloel'eauwomen|tiffanysheer|mojaveghostbyredounisex|hypnoticpoisonwomen|creedspice&woodunisex|madamerochaswomen|robertocavallineroassolutowomen|cabochardwomen|acquadigioiawomen|prerogativebritneyspears|calvinkleinwomenwomen|eaudefleursdecedratwomen|iziawomen|perryellis360coralwomen|tousgoldwomen|katespadeinfullbloomwomen|bossthescentprivateaccordwomen|manceraaoudorchidunisex|christiansirianopeoplearepeoplewomen|nasomattoblackafganounisex|sarahjessicaparkernycwomen|franckolivierwhitetouchwomen|angeoudemonwomen|tommybahamastkittswomen|versaceyellowdiamondwomen|perryellis360purplewomen|escadamarinegroovewomen|lacostepourfemmelegerewomen|hermeseauderhubarbeecarlate|vivalajuicyglacewomen|atelierdesorslunefelineunisex|vincecamutobellawomen|love2lovewomen|comptoirsudpacifiquevanilleabricotwomen|hollywoodwomen|4711|ascentbyisseymiyakewomen|signorinawomen|giorgiowomen|eaudemoiselledegivenchywomen|ralphlaurenwomanintensewomen|halloweenbluedropwomen|jovanblackmuskwomen|sergelutensfeminiteduboiswomen|eaud'hadrienwomen|betseyjohnsonwomen|kellycalechewomen|jessicamcclintockset|beyonceheatwildorchidwomen|pepejeanswomen|obsessedwomen|curvesoulwomen|byzancewomen|dsquared2woodwomen|212vip|whitediamondsbrilliantwomen|tommyhilfigerthegirlwomen|sungwomen|sergelutensunboisvanillewomen|chloenomadeabsoluwomen|escadasummerfestivalwomen|boisd'irisvancleef&arpels|sensuousnudewomen|mackiewomen|californiareverievancleef&arpels|montaleparisintenserosesmuskwomen|philosophyfreshcreamsoftsuedewomen|aquaallegorialimonverdewomen|purexs|thomaskosmalano.4apresl'amourwomen|fancylovewomen|jessicamcclintockwomen|alienwomen|halloweenmagicwomen|daisyeausofreshdaze|verawangembracewomen|fifthavenueroyalewomen|fcukfrictionwomen|fantasybritneyspearswomen|jeanpaulgaultierpinupwomen|laytonexclusif|elleyvessaintlaurent|tracywomen|redwomen|sergelutensfleursd'orangerwomen|jilsandersunwomen|mediterraneanwomen|dknynewyorkwomen|blackopiumnuitblanchewomen|rosenoirewomen|touchofpinkwomen|cabotine|monetmasterxmasterwomen|kilianlovedon'tbeshywomen|montaleparisvanillacake|soirdelunewomen|greenteacucumberwomen|bananarepublicwomen|calyxwomen|jeanpaulgaultieressencedeparfumwomen|alwaysredwomen|lapetiterobenoireblackperfectowomen|calvinkleinwomenintensewomen|manceraaoudbluenotesunisex|boucheronplacevendomewomen|forbiddenaffairwomen|odelancomewomen|armanisiwomen|montblancladyemblemwomen|imperialeguerlainwomen|guccibloomwomen|thierrymuglercolognecometogetherunisex|parisiennewomen|davidyurmanexoticessencewomen|beautifulbellewomen|toustouchwomen|valentinovalentinapinkwomen|glowafterdarkwomen|magienoirewomen|michaelkorscoralwomen|versacebrightcrystalabsoluwomen|bvlgariauthebleuunisex|edhardywomen|eternitywomen|d&glightbluedreaminginportofinowomen|davidyurmanfreshessencewomen|infullbloomblush|coriandrewomen|parishiltonrubyrush|montaleparisaoudforest|mariahcareyforeverwomen|perryellis18women|blueseductionwomen|armaflarosawomen|chanelno5|majawomen|juicycouturemajesticwoodswomen|reminiscenceheliotropewomen|boucheronambred'alexandrieunisex|jomalonehoneysuckle&davanawomen|curveappealwomen|montaleparisblackmusk|l'ambredesmerveilleswomen|bvlgarisplendidatubereusemystiquewomen|ellentracybronzewomen|anneklein2women|4711unisex|euphoriaforbiddenwomen|cabotinegold|agentprovocateurfataleintensewomen|shalimarsouffledeparfumwomen|ambreimperialvancleef&arpels|christinaaguilerabynight|allurewomen|pitbullwomanwomen|aquaallegoriaherbafrescawomen|robertocavalligemmadiparadiso|amazingwomen|afnan9amunisex|sparkseductionwomen|trussardidelicaterosewomen|liveirresistiblewomen|robertocavalliparadisoassolutowomen|demeterbabypowder|teatoniquewomen|montaleparisaoudleatherunisex|bondno.9bryantparkwomen|greenteapomegranatewomen|madlovewomen|ralphlovewomen|flowerbombbloomwomen|cleanshowerfreshwomen|lapetiterobenoireintensewomen|thierrymuglercologneflyaway|4711remixcologneunisex|onedirectionourmomentwomen|unpredictablegirl|clivechristianno1women|onedirectionthatmomentwomen|pradainfusiondefleurd'orangerwomen|juicycoutureglisteningamberwomen|miumiul'eaubleuewomen|creedfleursdegardeniawomen|incantobloomwomen|sunflowerssunlightkisswomen|moscowmulewomen|ajmalsilvershade|indiwomen|inspirewomen|cinemawomen|bondno.9ilovenewyorkformarriageequalityunisex|cubaheartbreakerwomen|rumbawomen|jeanpaulgaultierscandalapariswomen|incantoheavenwomen|gieffeffeunisex|aquaallegoriabergamotecalabriaunisex|harajukuloverspopelectricbabywomen|sofiawomen|aquaallegoriagingerpiccante|espritd'oscarwomen|barbiewomen|sunflowersdreampetalswomen|mariahcareydreamswomen|bvlgarigreentea|petitecheriewomen|perryblackwomen|manceraroses&chocolateunisex|truereligionwomen|guccibloomnettaredifioriwomen|christinaaguilerawomen|karllagerfeldfleurdepecherwomen|manceracocovanillewomen|loveinpariswomen|vincecamutodivinawomen|montaleparispuregoldwomen|narcisocristal|tousfloraltouchwomen|bodyfantasiesvanillawomen|truereligionhippiechicwomen|lebaiserdudragonwomen|tomfordnoirpourfemmewomen|anaisanaispremierdelicewomen|charliesilverwomen|lunaninaricciwomen|michaelbublebyinvitation|adidasmoveswomen|vincecamutoilluminareintensawomen|onlymepassionwomen|endlesseuphoriawomen|covetwomen|amouagejourneywomen|christinaaguileraredsinwomen|touskidsgirlwomen|lagunawomen|manceraaoudviolet|bondno.9brooklyn|roseofnomanslandbyredo|perryellis(new)women|l'interditintensewomen|blackopiumwomen|versacevarietywomen|cafewomen|eliesaableparfumrosecouturewomen|oscardelarentabellaessencewomen|bondno.9springflingwomen|bondno.9dubaiplatinum|bondno.9b-9|kenzocasentbeauwomen|curveconnectwomen|jivago24kwomen|lamiaperlawomen|escadadesiremewomen|bondno.9eaudenewyork|mademoisellerochaswomen|pradacandyl'eauwomen|acquadiparisisvenizia|daisyeausofreshsunshine|fifthavenuewomen|tomfordroseprickwomen|spiritwomen|kimkardashianfleurfatalewomen|whitediamondsenrougewomen|femmerochaswomen|reddooraurawomen|bossthescentwomen|cartiercaratwomen|philosophyfallinginlovewomen|armafnicheoudunisex|laurawomen|amoferragamoperlei|ajmalshinewomen|oscardelarentajasminewomen|abercrombie&fitchfirstinstinctwomen|lovebysofiavergarawomen|missoniwomen|jomalonemimosa&cardamomwomen|tomfordfabulousbodyspray|escentric04|escadatajsunsetwomen|bondno.9coneyislandunisex|joyforeverwomen|enduringglowwomen|fancynightswomen|pleatspleasebyisseymiyakewomen|jadorewomen|allaboutevewomen|eternityintensewomen|kennethcoleblushwomen|sunflowerswomen|fantasyblissful|dknygoldendeliciouswomen|aquaallegoriaorangesoleiawomen|verawangglamprincesswomen|escadaislandkisswomen|robertocavalliorowomen|midnightfantasybritneyspearswomen|memoparisrussianleather|michaelkorswhitewomen|d&glightblueloveislovewomen|joop!lebainwomen|balaversailleswomen|daisylovedaze|annekleinwomen|miumiuwomen|bvlgarisplendidamagnoliasensuelwomen|lanvinmodernprincesswomen|habanitawomen|guccibamboowomen|vincecamutomist|annasuifantasiamermaidwomen|realmintensewomen|escadajoyfulwomen|juicycouturebyebyeblueswomen|tomfordcostaazzurra|lacosteeaudelacostel.12.12pourellemagneticwomen|incrediblethingstaylorswiftwomen|anyway|bondno.9highlinewomen|bondno.9goldcoastwomen|boucheronirisdesyracusewomen|escadaespeciallywomen|philosophyvarietywomen|bananarepublicwildbloomvertwomen|jenniferanistonbeachscapewomen|tomfordfleurdeportofinounisex|tatianawomen|gentlewomanwomen|bondno.9perfumistaavenuewomen|bottegavenetaknotwomen|verawangflowerprincessperfume|xerjofferbapuraunisex|coachpoppyfreesiablossomwomen|armaftresjourwomen|valentinorock'nrose|montaleoudmazing|rosenoireabsoluewomen|oscardelarentarosewomen|hugoxxwomen|intuitionwomen|toryburchwomen|fracaswomen|lesdelicesdeninawomen|women'secreteaumysecretwomen|parishiltonpassporttokyo|idylleperfume|comptoirsudpacifiquevanilleextremewomen|baptemedufeu|armaflegesiwomen|juicycoutureroyalrosewomen|l'eautheonewomen|jasonwuwomen|darewomen|creedaberdeenlavender|sergelutensdaturanoirwomen|tomfordsantalblushwomen|tresorlanuitmuscdiamantwomen|tomfordtobaccooudunisex|whitediamondsset|minionsunisex|liveluxewomen|creedroyaloud|usherfemmewomen|carmenelectrawomen|sbyshakiraeaufloralewomen|cleanwomen|greenteabamboowomen|annickgoutalrosepomponwomen|ellentracyprettypetalswomen|citizenqueenwomen|pinkflowerwomen|valentinovalentinaacquafloreale|nenucounisex|tousl'eauwomen|nirvanavarietywomen|maroussiawomen|boucheronquatreenrosefloralewomen|cleanairwomen|luckyyouwomen|bronzegoddesswomen|herrerawomen|euphoriawomen|harajukuloverspopelectric'g'women|viktor&rolfvarietywomen|bondno.9mynewyorkunisex|laliquereved'infiniwomen|kilianaftersunsetwomen|cartierlapanthereeditionsoirwomen|juicycouturerahrahrougewomen|revlonloveisonwomen|siradesindeswomen|escentric05unisex|judithleibernightwomen|versaceyellowdiamonddeodorant|lattafaoudmoodunisex|kimkardashiantruereflectionswomen|zarkoperfumepinkmolecule090.09|abercrombie&fitchauthenticwomen|bananarepublicmalachite|manceraaoudcafe|mauboussinwomen|lightdigioia|amouagegoldwomen|sergelutensdentdelaitunisex|eaudegivenchy|alexandrademarkoffwomen|dioraddictwomen|mancerawildroseaoud|evabyevalongoriawomen|bananarepublicdarkcherry&amber|dalissimewomen|l'extasecaressederosesninaricciwomen|hustlerqueenwomen|amouagelilaclovewomen|esteewomen|curvekickswomen|alabasterperfume|sensuouswomen|montalepariscandyrosewomen|michaelkorssheerwomen|chanel19women|coachpoppywildflower|armafclubdenuitwomen|airdigioia|fendil'acquarossaelixirwomen|escadaabsolutelymewomen|jenniferanistonchapteronewomen|iamtrashlesfleursdudechet|beauty&thebeastwomen|l'eaud'isseysummer|l'eaud'isseyabsoluewomen|l'aimantwomen|fendil'acquarossawomen|champselyseeswomen|rockme!summeroflovewomen|parishiltoncancanwomen|agirlincapriwomen|eaudecampagneunisex|oudsatinmood|bvlgariaquadivinawomen|christinaaguileratouchofseductionwomen|pradainfusionderosewomen|amoferragamoflowerful|fendifuriosawomen|dknystorieswomen|cleanfreshlinenswomen|karenlowpurecrystalwomen|xoxowomen|bvlgariomniacrystallinewomen|unmatind'oragewomen|fancygirlwomen|vanderbiltgloriouswomen|eaudeprivatecollectionwomen|intrusionwomen|laurenwomen|loveatfirstglowwomen|it'ssunnyhunny|policetobethequeenwomen|pradainfusiond'iriswomen|bossnuitpourfemmewomen|queenofseductionwomen|revevancleef&arpelswomen|demeterbabypowderunisex|manceraholidaysunisex|ferrarinoblefig|lacosteeaudelacostewomen|tomfordsoleilblancunisex|chgoodgirlwomen|bossthescentabsolutewomen|aromaticsinwhitewomen|bvlgariomniaparaibawomen|sergelutensl'eausergelutens|bvlgarivarietywomen|oscardelarentaalibiset|voyaged'hermesunisex|pureturquoisewomen|coolwaterintensewomen|boucheronquatreenrougewomen|misscharmingwomen|sbyshakirawomen|moschinocheap&chicpetalswomen|amouagelibraryopusvii|daliwomen|majapowder|incantoamitywomen|bondno.9newyorksandalwoodunisex|diorellawomen|ducoq|maisonfranciskurkdjianaquacelestia|sergelutenslaviergedeferwomen|hotwomen|parishiltonsheerwomen|fcukwomen|montanawomen|eaufraicheelizabethardenwomen|acquadiparmarosanobilewomen|greenteafigwomen|guess1981women|blackxswomen|lavieestbellel'eclat|gucciguiltyeauwomen|nishanewulongcha|montaleparispatchoulileaves|creationwomen|cinnabarwomen|bebewomen|afnanornamentpourfemme|lancomeidolewomen|armandbasiinredwomen|quelquesfleursroyalewomen|calechewomen|montaleparisintensepepperunisex|euphoriaambergoldwomen|bcbgmaxazriabongenrewomen|creedfloraliewomen|tuscanyperdonnawomen|montaleparisroseselixirwomen|attarkhaltatnightunisex|armaftagherwomen|fcukfrictionpulsewomen|amouageepicwomen|blumediterraneobergamottodicalabria|deliciousfeelings(new)women|montalepariswhitemuskwomen|daddyyankeedyamantewomen|puredknywomen|manceraaoudexclusifunisex|blackxsperfume|christiansirianointimatesilhouettewomen|valentinovalentinablush|amouagediawomen|lapetiterobenoiremarobehippie-chicwomen|toddoldhamwomen|escentricmolecule03|creedacquaoriginale|l'airdutempswomen|guess1981indigowomen|dknydeliciousnightwomen|vanderbiltwomen|indivisiblewomen|moschinowomen|woodsofwindsorwhitejasmine|coolwatergamewomen|purelovemontale|bois1920|marinadebourbonmydynastieprincesswomen|manceraaoudlineunisex|philosophypuregraceendlesssummerwomen|delicioushotpinkwomen|alharamaindazzlewomen|fforfascinatingnightwomen|coolwaterwavewomen|chanelchancewomen|nishaneambracalabriaunisex|capuccidecapucciwomen|blumarinebellissimaintensewomen|privilegewomen|eauderochaswomen|harajukuloverswickedstylegwomen|pierrecardinrosecardin|aquaallegoriarosarossawomen|moschinocheap&chicstarswomen|toryburchjoliefleurvertewomen|greenteasummerwomen|pacorabanneolympeawomen|sergelutensleparticipepasseunisex|montblanclegendpourfemmewomen|philosophypuregracenuderosewomen|liveirresistibleblossomcrushwomen|juicycouturehollywoodroyalwomen|scherreriiwomen|harajukuloversmusicwomen|jovansilkyrose|fairydancesecretwishwomen|hersecrettemptationwomen|rosamorwomen|bath&bodyworkswomen|colorsdebenettonpurplewomen|marinadebourbonwomen|cleanvarietywomen|christiansirianomidnightsilhouettewomen|d&glightblueescapetopanareawomen|lavieestbellefloralewomen|dancingbyjessicamcclintockwomen|coachlegacywomen|afnansouvenirdesertrosewomen|enigmawomen|chopardlovewomen|modernmuselerougeglosswomen|riribyrihanna|amouageportrayalwomen|escadaespeciallyescadaelixirwomen|shawnmendessignatureiiunisex|maisonfranciskurkdjiangentlefluiditygold|cabotinefloraliewomen|lostinparadisebysofiavergarawomen|beyondparadisewomen|afnanlafleurbouquet|englishlaundryno.7women|hermeseaudenerolidore|manceraamber&rosesunisex|flowerbombextremewomen|misslomaniwomen|mariasharapovawomen|versacepourfemmeoudorientalwomen|parishiltonelectrifywomen|nasomattonarcoticvwomen|sundigioia|suidreamswomen|acquadiparmacoloniafutura|coachwomen|eliesaableparfumwomen|givenchydahliadivinlenectardeparfumwomen|ajmalsonnetwomen|fancyforeverwomen|sarahjessicaparkernyccrushwomen|dknybetemptedeausoblushwomen|extraordinarypetalewomen|ninal'eauwomen|basicblackwomen|xerjoffcasamorati1888damabiancawomen|playboyplayitlovelywomen|boucheronquatreabsoludenuitwomen|quartzwomen|escadafiestacariocawomen|mitsoukowomen|moschinopinkbouquetwomen|essencedebois|l'amourfouwomen|beyonceheatkissedwomen|pheromonelotion|vanderbiltminuitanewyorkwomen|insolencewomen|creednerolisauvageunisex|nasomattobaraondaunisex|escadaoceanloungewomen|calgonwomen|valentinorocknrosepretaporter|agentprovocateurmaitressewomen|manceragoldprestigium|curvevintagesoulwomen|100bondavana&vanillebourbon|blanchebyredowomen|tizianaterenzicassiopeaunisex|montaleparisaoudmelody|alharamainjunoonrosewomen|versacedylanbluewomen|cabaretwomen|parishiltonlotion|pheromoneredwomen|eliesaabvarietywomen|arsenalwomenwomen|whitepatchouliwomen|montaleparisamber&spices|judithleibertopazwomen|whitediamondslegacywomen|bondno.9newyorkmusk|policeshockinscentwomen|paradisewomen|pacorabanneolympeaaquawomen|playboyplayitsexywomen|lavieestbelleflowersofhappinesswomen|comptoirsudpacifiqueamourdecacaowomen|bananarepublicvintagegreen|midnightoudwomen|tizianaterenzidracounisex|4711ice|bvlgarigoldeawomen|kimkardashianglamwomen|lolitalempickamoneauwomen|silenceswomen|rasasiqasamatbareeq|l'eaukenzointensewomen|molinardpatchouliwomen|bondno.9newyorkpatchouli|cleanblossomwomen|philosophyfreshcreamwomen|terradigioia|islandfantasybritneyspearswomen|bvlgariomniagoldencitrinewomen|simplypinkwomen|disneyprincesswomen|mademoisellericciwomen|bondno.9queens|ralphrockswomen|roger&galletjeanmariefarinaunisex|jessicasimpsonsignaturewomen|armafenchantedkatarinalightbluewomen|cleanreservesolarradiantnectarwomen|doratheexplorerwomen|happyspiritwomen|mauboussinelixirpourellewomen|signorinaribellewomen|greenteaexoticwomen|bossjourpourfemmewomen|lanvinmewomen|ckoneplatinumeditionunisex|maisonfranciskurkdjiangrandsoirunisex|laliqueazaleewomen|bvlgariauthenoirwomen|histoired'amourwomen|tommygirlsummerwomen|lanuitdebohemeblackwomen|proenzaarizonawomen|paulsmithwomen|bondno.9dubaiamethystwomen|lacosteeaudelacostel.12.12pourellenaturalwomen|touchwithlovewomen|boisdambre|annasuiwomen|armafhighstreetwomen|spellboundwomen|kennethcoleintensityunisex|parishiltonpassportsouthbeachwomen|valentinodonnanoirabsoluwomen|lovelysheersarahjessicaparkerwomen|montaleparissoleildecapriunisex|diamonddianawomen|shakirawildelixirwomen|narcisorodriguezambermuscwomen|eliesaableparfumintensewomen|marcjacobsdaisydreamforeverwomen|madamegreswomen|babyphatdaremewomen|seanjohnempresswomen|guessnewwomen|kenzoworldpowerwomen|extraordinarywomen|chl'eaucarolinaherrera(new)women|christinaaguileraunforgettablewomen|montaleparisdaydreams|dollygirlwomen|laviedebohemewomen|womenspremiervarietywomen|michaelkors24kbrilliantgoldwomen|perryellis18sensualwomen|mademoisellerochascouturewomen|chgoodgirldotdramawomen|bananarepublicwildbloomwomen|abercrombie&fitchfirstinstinctsheerwomen|eliesaableparfuml'eaucouturewomen|bondno.9dubaigoldunisex|modernmusenuitwomen|michaelkorsexoticblossomwomen|parishiltonwomen|cubalatinovarietywomen|lutecewomen|apparitionwomen|bossorangesunsetwomen|sergelutensclairdemuscwomen|montanasuggestioneaud'orwomen|tomfordwhitesuedeunisex|armafsauvillewomen|givenchyiiiperfume|christiansirianosilhouettewomen|amouroudoudtabac|prerogativeravebritneyspearswomen|turbulenceswomen|quelquesfleursjardinsecretwomen|alyssaashleymuskwomen|franckoliviersunjavaroseoudwomen|woodsofwindsortruerosewomen|l'eaud'isseyfloralewomen|tomfordmandarinodiamalfi|azureewomen|diptyquedosonwomen|montaleparisdiamondgreedyunisex|judithleiberminaudiereoudwomen|givenchydahliadivinnudewomen|jilsandersimplytouchofvioletwomen|salvadordalidaliawomen|philosophyseaoflovewomen|woodsofwindsorlavenderwomen|muglersecretwomen|cleanreservewarmcottonunisex|coolwaterpacificsummerwomen|chloel'eaudechloewomen|sunnydianewomen|voyageroyaldracula|montanaparfumdefemmewomen|mustang50yearswomen|ascentfloralebyisseymiyakewomen|demetervanillacakebatter|bodyfantasiessweetsunrisewomen|tomfordchampacaabsolute|justcavalliwomen|armaffuturalafemmewomen|charliepinkwomen|boucheronpatchoulid'angkor|oscardelarentasomethingbluewomen|henodepraviawomen|fcuksinfulapple&freesiawomen|policetoberoseblossomwomen|kennethcoleenergy|chanelchanceeaufraichewomen|latentationdeninawomen|fleurderocaillewomen|mauboussinpromisemewomen|mancerasoleild'italieunisex|dknybedeliciouscrystallizedwomen|amethystexquiselaliquewomen|sunmoonstarsgiftset|auramuglerwomen|xoxoluvwomen|shanghaitangblackiriswomen|desirademydesirewomen|tizianaterenziursa|enricogioudnobileunisex|philosophysummergracewomen|amouageblossomlovewomen|mcqueenwomen|parispremieresroseswomen|fifthavenuestylewomen|lapetiterobenoiremarobepetaleseaufraichewomen|alexandrejzafeeroudvanille|armafhighstreetellewomen|azzaroeaubellewomen|alharamainopulentsaffronunisex|stdupontnoblewoodunisex|calvinkleinobsessionlotion|emporioarmanidiamondsrosewomen|deadpool|bondno.9dubaijadeunisex|monguerlainbloomofrosewomen|mondainewomen|philosophyunconditionallovewomen|danslanuitwomen|twillyd'hermeslotion|jessicasimpsonvarietywomen|perryellis360pinkwomen|diptyqueolene|stellamccartneywomen|wantedbyjessemccartneywomen|barbiemodelowomen|ellentracylovenoteswomen|madmadamewomen|playboyendlessnightwomen|jilsandersunbathwomen|d&glightblueloveincapriwomen|seebychloewomen|fcukforeverwomen|fforfascinatingwomen|gerinisweetvanilla|tomfordoudmineraleunisex|giorgioglamwomen|sanderlingwomen|bellagiowomen|mauboussinpourellewomen|montaleparisdarkaoudunisex|monguerlainfloralewomen|reddoorshimmerwomen|jilsandersundelightwomen|indulgentmomentsnectarine&blushingfreesiawomen|amouageimitationwomanwomen|greenteatropicalwomen|dknybeextradeliciouswomen|adriennevittadiniamorewomen|petitfracaswomen|xerjoffaccentooverdose|armafvenicewomen|vengeanceextremewomen|jardinsdebagatellewomen|temptingbysofiavergarawomen|jilsandersimplywomen|destinymmiglinwomen|creedforkidsunisex|barbiesirenawomen|muglershowwomen|jessicasimpsontenwomen|yvressewomen|opbeachparadisewomen|pradalesinfusionsmimosawomen|initioatomicrose|mancerablackvanillaunisex|jilsandersportwomen|d&glightbluesunsetinsalinawomen|ajmalaurumwomen|vickytiel21bonaparte1964women|agualavandapuigunisex|dereklam10crosbyhifiwomen|demeterlilac|pacorabannefabulousme|eaudecourregeswomen|deliciousallamericanapplewomen|lolitalempickaellel'aimewomen|montalepariscrystalflowers|cabotineeauvividewomen|flightoffancywomen|oscarlavenderwomen|franckoliviermisswomen|pheromoneoil|cabotinerosaliewomen|korloffroyaloudunisex|armanisinacrewomen|cleanlovegrasswomen|loveofpinkwomen|englishlaundrysignaturewomen|manceravetiversensuel|korloffmajestictuberosewomen|halloweenfreesiawomen|carnerbarcelonatardeswomen|kenzojeud'amourwomen|versacedylanturquoisewomen|perryellis360collectionwomen|rougewomen|jadorel'orwomen|ladygagaeaudegagawomen|newyorkyankeeswomen|bondno.9dubaigarnetwomen|avglamourwomen|demeterpineappleunisex|armafvanityfemmeessencewomen|fcukgiftset|acquadiparmasandalo|dknymynywomen|sundazedbyredounisex|bananarepubliccypresscedar|euphoriapuregoldwomen|bondno.9dubaiindigowomen|carnerbarcelonapalosantounisex|christinaaguileraglamxwomen|franckoliviersunroyaloudwomen|laperlawhiteiriswomen|kenzoamourmakemeflywomen|cleanreserveblonderosewomen|creedjasminimperatriceeugeniewomen|kilianblackphantomunisex|philosophyfieldofflowerspeonyblossomwomen|lorenzovilloresifirenzepatchouliunisex|jasmineprincesswomen|eaudecharlottewomen|d.s.&durgaamberkiso|agentprovocateurmissapwomen|eaudegiorgiowomen|cubajunglesnakewomen|franckoliviergiorgiawomen|creedacquaoriginalevetivergeraniumwomen|loveseausoadorablewomen|deliciousfeelingswomen|darlingwomen|comptoirsudpacifiquecocoextremewomen|kenzoflowereaudeviewomen|bossmavieintensewomen|penhaligon'slilyofthevalleywomen|fcuklatenightwomen|agentprovocateurcosmicwomen|bananarepublicoudmosaic17unisex|demeterlaundromat|fifthavenuenyclightswomen|valentinovocevivawomen|roger&galletverveineutopie|maisonfranciskurkdjianfemininplurielwomen|musederochaswomen|amouroudsantaldesindes|alexandrejmandarinesultaneunisex|judithleiberminaudierewomen|adriennevittadiniwomen|d.s.&durgabowmakers|penhaligon'sellenisiawomen|bvlgariblack|manceraaoudblackcandy|doraandbootswomen|kennethcoleserenityunisex|captainmarvelwomen|flowerbombwomen|kenzoamourfloralewomen|pradalafemmeabsoluwomen|alexandermcqueeneaublanchewomen|jickywomen|memoparisgranadawomen|jovanwhitemuskwomen|mally|annickgoutaletoiled'unenuitwomen|fujiyamasexywomen|ortoparisiboccaneraunisex|34boulevardsaintgermain|montaleparisvanillaextasywomen|etatlibred`orangeexperimentumcruciswomen|montaleparissweetorientaldream|amouagereflectionwomen|marcjacobsdaisysorbetwomen|5stars|1stars|aquaallegoriafloracherrysiawomen|scaasiwomen|gucciamidnightstrollunisex|regineswomen|afnanmirsaaloftrust|carlossantanawomen|karllagerfeldtokyoshibuyawomen|bondno.9lexingtonavenuewomen|lapetiterobenoiremarobeplisseewomen|englishlaundrynottinghillwomen|jilsanderevergreenwomen|ajmalsignifywomen|bananarepubliclinenvetiver|jasminesambac&marigold|ghostcaptivatingwomen|swissarmymountainwaterwomen|lancastersunwater|sexualfemmewomen|marinadebourbonrougeroyalwomen|memoparislalibelawomen|vcantomagnificat|eliesaabessenceno2gardeniaunisex|bondno.9sohowomen|annickgoutalpassionwomen|withlovehilaryduffwomen|authenticpetrichorunisex|shiseidozengoldelixirwomen|alluresensuellewomen|ywomen|divapepite|aeropostaleendlesswonderwomen|prestigehoneywomen|thewoodscollectiontwilightunisex|courregesblancwomen|etatlibred`orangeremarkablepeopleunisex|oscarwhitegoldwomen|judithleiberrubywomen|fujiyamamonamourwomen|pacorabanneladymillioneaumygold!women|mauboussinrosepourellewomen|jasonwuvelvetrougewomen|d.s.&durgadebaserunisex|guerlainoudessential|diamondprincesswomen|tenderunisex|naomibynaomicampbellwomen|songeswomen|demeterorangecreampop|hollisterfestivalnitewomen|authenticineffable|mancerakumkatwoodunisex|bodycologycherryblossomwomen|shanghaibutterflywomen|bondno.9hudsonyardswomen|penhaligon'santhologyzizonia|ajmalevokegoldwomen|mancerasandaoud|notoriouswomen|tizianaterenzigoldroseoudhunisex|mancerapinkprestigiumwomen|bondno.9eaudenohowomen|eaud'hermes|bodycologypinkvanillawishbodycream|valentinovalentinaoudassolutowomen|dknynewyorksummerwomen|jilsandersoftlywomen|aliagewomen|vivalajuicygoldcouturewomen|stdupontblancwomen|franckolivierbellawomen|bondno.9parkavenuesouthunisex|naomicampbellprivatewomen|florisnightscentedjasminewomen|habanital'espritwomen|dknybedeliciousfreshblossomeausointensewomen|montaleparisaoudmuskunisex|cafeintensowomen|judithleiberexoticcoralwomen|faconnablefemmewomen|mancerawavemusk|lapetiterobenoiremarobevelourswomen|mercedes-benzwomanwomen|marcjacobsdaisysunshine|dsquared22wood|rasasilayuqawamorchidprairiewomen|manceravanilleexclusiveunisex|vendetta|boroujgravityunisex|macturquaticwomen|tomfordcaferosewomen|angelheartwithlovewomen|barbieaventurawomen|creedacquaoriginaleasiangreenteawomen|montaleouddream|daliwildwomen|goldsugarwomen|bebeglam24karatwomen|mandarinaduckwomen|joyofpinkwomen|atkinsonsoudsavethequeenwomen|nirmalawomen|indulgentmomentsneroli&seasaltwomen|tizianaterenzimaremma|xerjoffcasamorati1888dolceamalfiunisex|lomaniintensenightwomen|shakiraelixirwomen|eaudepamplemousserose|sergiotacchinidonnawomen|cubajungletigerwomen|ellentracyinspiringwomen|l'artisanparfumeurl'eteendoucewomen|fredhayman273redwomen|sergiotacchinipreciouspurplewomen|euphoriagoldwomen|chopardenchantedwomen|judithleiberemeraldwomen|roos&roosoudvibrationwomen|katemosssummertimewomen|alyssaashleyambergriswomen|valentinodonnaacquawomen|marcjacobsvioletwomen|armafhunterwomen|enricogioudpriveunisex|rasasisotoorraaunisex|tizianaterenziecstasyunisex|bondno.9madisonsoireewomen|redpearlwomen|armafnicheredrubywomen|korloffparisgalaal'operawomen|merchantofveniceliberty|verinogoldbouquetwomen|secretsbydanawomen|phantompourfemmewomen|d.s.&durgacorianderwomen|trussardimyscentwomen|amoramorl'eauflamingowomen|varens&moil'emotionwomen|opmermaidvibeswomen|popymoreniwomen|thehouseofoudwonderlyunisex|parfumd'orblackwomen|mandarinodiamalfiacqua|d.s.&durgagrapefruitgenerationwomen|lovesun&lovewomen|flowerbomblavieenrosewomen|cartierl'heuremysterieusexii|demetersaltair|amouagelibraryopusviiiwomen|azzarotwinwomen|tomfordsoledipositano|roger&galletfleurd'osmanthus|giorgioleatherunisex|montalepariswhiteaoudunisex|jivagojoelegendno.10women|idyllewomen|molinardvanillefruitee|mademoisellepiguet|cartierl'heurepromiseiunisex|guccitheeyesofthetiger|vcantomeaculpa|tizianaterenziafrodite|swissarmymystiqueforestwomen|vanilleexquisewomen|attaralhasfleurdetabac|demetercucumber|dioramawomen|modiglianiwomen|halleberryrevealwomen|atelierdesorslarmesdudesertunisex|cartierl'heurefollexunisex|rasasishuhrahpourfemmewomen|sanderlingshinewomen|loveseausoprettywomen|catchmel'eauwomen|dereklam10crosbydrunkonyouthwomen|tomfordlavenderextremewomen|d.s.&durgaelcosmico|dknybedeliciouspoolpartybaybreezewomen|montaleparischyprefruite|dknybedesiredwomen|histoiresdeparfums1876women|rosesandmorewomen|kilianmuskoud|jivagorosegoldwomen|montaleparisaoudjasmineunisex|cleanfirstblushwomen|bvlgariroseessentiellewomen|alexandrejthemajesticoud|dereklam10crosbysomethingwildwomen|heliotropeetro|florisleatheroudwomen|nicolemillerlegendscharmwomen|demeterearlgreyteaunisex|marinadebourbonreverencewomen|rasasijunoonsatinpourfemmewomen|rasasihawaspourfemmewomen|sergelutensl'eaudepaillewomen|nishaneflorane|starckpeaud'ailleursunisex|aramiscalligraphyrosewomen|demetergrapefruitteaunisex|l'artisanparfumeurondesensuellewomen|fleursdeboiswomen|wanderthroughtheparksunisex|dknyreddeliciouswomen|ambraetrounisex|whitespiritwomen|rasasiqasamatmorhafunisex|lancomemaisonpivoinesprintempswomen|parfumsdemarlysedburywomen|reminiscencemuscwomen|desigualfreshbloomwomen|beckhamsignaturestorywomen|lessorbetsdebellawomen|lafeuillewomen|florishoneyoudwomen|pinksugarsensualwomen|ajmalentice2women|tizianaterenzilaudanonerounisex|woodsofwindsorlilyofthevalleywomen|animaletemptationwomen|dolcefloraldropswomen|fcukromanticlily&muskwomen|ladykorloffwomen|marcjacobsdaisy|laperlacontemporarytuberosewomen|creedfantasiadefleurswomen|tousrosawomen|penhaligon'sjuniperslingunisex|pascalmorabitobeautifulgirlwomen|woodsofwindsortruerose|demetercandycanetruffleunisex|armaforosfleurwomen|alharamainoudh36nuitunisex|blacklacewomen|laliquenoirpremierfleuruniverselle1900|bananarepublicmetalrain|thewoodscollectiongreenwalk|mancerawildcandy|molinardvanilleunisex|christiansirianosilhouetteinbloomwomen|bondno.9newyorkamberunisex|molinardambreunisex|amouagebelovedwomen|bvlgarilegemmenoorahwomen|rance1795eugeniewomen|florisbergamottodipositanounisex|armafskyewomen|carolinaherreravirginmint|memopariseaudememowomen|marcjacobswomen|narcisorodriguezl'eauforherwomen|marcjacobsdaisykisswomen|ruebrocaohtiaraamethystwomen|sospiroaccentowomen|demetercottoncandy|ilovelovewomen|pacorabanneladymillionwomen|moschinopinkfreshcouturewomen|manceracedratboiseunisex|jimmychoofeverwomen|curvecrushwomen|escadamagnetismwomen|ckonecologne|vivalajuicyparfum|guccirushwomen|michaelkorswonderlustwomen|michaelkorssexyamber|greenteawomen|mancerablackline|burberrythebeatwomen|jimmychooblossomwomen|miraclewomen|whitelinenwomen|tresorwomen|d&glightblueeauintensewomen|notaperfumewomen|guessseductivenoirwomen|casualwomen|ckin2uwomen|tiffany&cospray|jadoreeaulumierewomen|versacebrightcrystalabsolu|maisonalhambradelilahpourfemmewomen|fancywomen|aribyarianagrandewomen|escapecologne|unbreakablelovebykhloeandlamarunisex|gucciguiltywomen|juicycouturewomen|dolce&gabbanapourfemmewomen|bondno.9centralparkwestwomen|jeannatewomen|greenteawomen|armanisipassionewomen|ckonesummer|lejardindemonsieurliunisex|coachfloralwomen|michaelkorswomen|heiressparishiltonwomen|jimmychooillicitflowerwomen|armafclubdenuitmilestone|libreyvessaintlaurentwomen|nirvanabourbonwomen|ciara100%women|vivalajuicynoirwomen|coachfloralblushwomen|florabotanicawomen|pleasureswomen|coolwaterwomen|montblancsignaturewomen|acquadigioperfume|marcjacobsdaisydreamwomen|fire&icewomen|whitediamondswomen|hugodeepredwomen|miumiutwistwomen|boucheronperfume|creedaventusforherwomen|happyheartwomen|mancerainstantcrushunisex|missdior(cherie)women|marcjacobsdaisylove|contradictionwomen|armanicodewomen|tearosewomen|lolitalempickawomen|exclamationwomen|bijanwomen|cashmeremistwomen|monparisysl|burberrybritwomen|philosophyamazinggracewomen|fantasybritneyspears|simplybellewomen|taylorbytaylorswiftwomen|organzawomen|alharamainamberoudunisex|l'airdutempsperfume|eternityairperfume|gardeniaelizabethtaylorwomen|halloweenperfume|baccaratrouge540|oxygenewomen|pradacandywomen|elizabethardenwhitetea|jimmychool'eauwomen|guerlainsantalroyal|tomfordombreleather|versacesignaturewomen|sand&sablewomen|shiwomen|missdiorabsolutelybloomingwomen|emporioarmanibecauseit'syouwomen|liveirresistiblerosycrushwomen|deliciouscottoncandywomen|unjardinsurlenilwomen|kimkardashianwomen|glowwomen|rihannaririwomen|moschinofreshcouturewomen|212sexywomen|nirvanarosewomen|pradalafemmewomen|amarigewomen|dolcepeonywomen|orangersenfleurswomen|chloelovestorywomen|bondno.9thescentofpeacewomen|boraborawomen|eternityperfume|obsessionperfume|ckone|jimmychooillicitwomen|pinksugarredvelvetwomen|burberryherparfum|calvinkleinbeauty|creedspringflowerwomen|burberrybritsheerwomen|perfumetravelatomizer|clubdenuit|palomapicassowomen|justinbiebersomedayperfume|coachdreamswomen|versacewomanwomen|beautifulwomen|ateliercologneunisex|burberrylondonperfume|coachwildrose|versaceversensewomen|casmirwomen|eternitymomentwomen|blackopiumspray|marcjacobsdecadencewomen|montblancpresencewomen|foreverelizabethwomen|armanimywaywomen|euphoriamist|rihannarebellewomen|burberrywomen|dknybedeliciouswomen|jimmychooiwantchoo|verawangprincesswomen|burberrytouchforwomen|amberoudrouge|betseyjohnsonprettynpunkwomen|ralphlaurenromance|missdiorbloomingbouquetwomen|creedsantalunisex|versaceerospourfemmewomen|ysatis|mancerarosesvanillewomen|calvinkleineuphoria|mauboussinalafoliewomen|verawangwomen|acquadigioia|kenzoflower|charliebluewomen|mambowomen|eclatd'arpegewomen|ralphwomen|nirvanablackwomen|moschinotoy2unisex|guessbymarcianowomen|marcjacobsperfect|tommygirlwomen|calvinkleinsheerbeautywomen|myburberryblackperfume|edhardylove&luckwomen|nirvanafrenchgreywomen|coachdreamssunset|dolce&gabbanawomen|nishanesafrancologniseunisex|juicycoutureouisplashwomen|blackorchidwomen|euphorialotion|truelovewomen|molecule01|diamonds&rubieswomen|happywomen|burberryweekendforwomen|bondno.9governorsisland|sergelutensambresultan|guccimemoired'uneodeur|guerlainsantalroyalunisex|tiffany&lovewomen|ckonegoldunisex|bondno.9tribeca|unbreakablelovebykhloeandlamar|missdiorbloomingbouquetset|nirvanaamethystwomen|acquadiparmaficodiamalfi|obsessionperfumeset|valentinovoceviva|bvlgarisplendidapatchoulitentationwomen|montaleparisstarrynightsunisex|hermesd'orangevertunisex\""
      ]
     },
     "execution_count": 1330,
     "metadata": {},
     "output_type": "execute_result"
    }
   ],
   "source": [
    "str_perfumes = '|'.join(perfumes)\n",
    "str_perfumes = str_perfumes.replace(' ', '')\n",
    "str_perfumes"
   ]
  },
  {
   "cell_type": "code",
   "execution_count": 1331,
   "metadata": {},
   "outputs": [],
   "source": [
    "perfumes_from_df = perfumes_data['index'].unique()\n",
    "str_perfumes_df = '|'.join(perfumes_from_df)\n",
    "str_perfumes_df = str_perfumes_df.replace(' ', '')"
   ]
  },
  {
   "cell_type": "code",
   "execution_count": 1332,
   "metadata": {},
   "outputs": [],
   "source": [
    "#all reviews that have matching strings in the review_text\n",
    "review_product_swap_fullmatch_id = all_reviews_dataframe[all_reviews_dataframe['review_text'].apply(lambda x: x.replace(' ', '')).str.fullmatch(str_perfumes)].index\n",
    "all_reviews_dataframe.loc[review_product_swap_fullmatch_id,['review_text', 'product']] = all_reviews_dataframe.loc[review_product_swap_fullmatch_id,['product', 'review_text']].values"
   ]
  },
  {
   "cell_type": "code",
   "execution_count": 1333,
   "metadata": {},
   "outputs": [],
   "source": [
    "len_x_char(all_reviews_dataframe, excl = ['broken_author_date', 'author_date', 'len_review_text', 'len_char_review_text', 'len_product', 'len_char_product', 'len_rating out of 5', 'len_char_rating out of 5'])"
   ]
  },
  {
   "cell_type": "code",
   "execution_count": 1334,
   "metadata": {},
   "outputs": [],
   "source": [
    "#all reviews that have matching strings in the review_text 2\n",
    "review_product_swap_fullmatch_id2 = all_reviews_dataframe[all_reviews_dataframe['review_text'].apply(lambda x: x.replace(' ', '')).str.fullmatch(str_perfumes_df)].index\n",
    "all_reviews_dataframe.loc[review_product_swap_fullmatch_id2,['review_text', 'product']] = all_reviews_dataframe.loc[review_product_swap_fullmatch_id2,['product', 'review_text']].values"
   ]
  },
  {
   "cell_type": "code",
   "execution_count": 1335,
   "metadata": {},
   "outputs": [],
   "source": [
    "len_x_char(all_reviews_dataframe, excl = ['broken_author_date', 'author_date', 'len_review_text', 'len_char_review_text', 'len_product', 'len_char_product', 'len_rating out of 5', 'len_char_rating out of 5'])"
   ]
  },
  {
   "cell_type": "code",
   "execution_count": 1336,
   "metadata": {},
   "outputs": [],
   "source": [
    "pd.set_option('display.max_rows', 30)"
   ]
  },
  {
   "cell_type": "code",
   "execution_count": 1337,
   "metadata": {},
   "outputs": [],
   "source": [
    "#len_x_char(all_reviews_dataframe, excl = ['broken_author_date', 'author_date', 'len_review_text', 'len_char_review_text', 'len_product', 'len_char_product', 'len_rating out of 5', 'len_char_rating out of 5'])"
   ]
  },
  {
   "cell_type": "code",
   "execution_count": 1338,
   "metadata": {},
   "outputs": [],
   "source": [
    "replace_ids = [28561, 28654, 10032, 25496, 26965, 11420, 26468, 27710, 27643, 25057,  52611, 52623, 28427, 25924, 24759, 24521, 28103, 28104] #manual inspection\n",
    "all_reviews_dataframe.loc[replace_ids,['review_text', 'product']] = all_reviews_dataframe.loc[replace_ids,['product', 'review_text']].values\n"
   ]
  },
  {
   "cell_type": "code",
   "execution_count": 1339,
   "metadata": {},
   "outputs": [],
   "source": [
    "len_x_char(all_reviews_dataframe, excl = ['broken_author_date', 'author_date', 'len_review_text', 'len_char_review_text', 'len_product', 'len_char_product', 'len_rating out of 5', 'len_char_rating out of 5'])"
   ]
  },
  {
   "cell_type": "code",
   "execution_count": 1340,
   "metadata": {},
   "outputs": [],
   "source": [
    "replace_id_rating = [27743, 27744, 27745]\n",
    "all_reviews_dataframe.loc[replace_id_rating,['product', 'rating out of 5']] = all_reviews_dataframe.loc[replace_id_rating,['rating out of 5', 'product']].values"
   ]
  },
  {
   "cell_type": "code",
   "execution_count": 1404,
   "metadata": {},
   "outputs": [
    {
     "data": {
      "text/html": [
       "<div>\n",
       "<style scoped>\n",
       "    .dataframe tbody tr th:only-of-type {\n",
       "        vertical-align: middle;\n",
       "    }\n",
       "\n",
       "    .dataframe tbody tr th {\n",
       "        vertical-align: top;\n",
       "    }\n",
       "\n",
       "    .dataframe thead th {\n",
       "        text-align: right;\n",
       "    }\n",
       "</style>\n",
       "<table border=\"1\" class=\"dataframe\">\n",
       "  <thead>\n",
       "    <tr style=\"text-align: right;\">\n",
       "      <th></th>\n",
       "      <th>author_date</th>\n",
       "      <th>review_text</th>\n",
       "      <th>product</th>\n",
       "      <th>rating out of 5</th>\n",
       "      <th>broken_author_date</th>\n",
       "      <th>len_review_text</th>\n",
       "      <th>len_char_review_text</th>\n",
       "      <th>len_product</th>\n",
       "      <th>len_char_product</th>\n",
       "      <th>len_rating out of 5</th>\n",
       "      <th>len_char_rating out of 5</th>\n",
       "    </tr>\n",
       "  </thead>\n",
       "  <tbody>\n",
       "    <tr>\n",
       "      <th>26086</th>\n",
       "      <td>46386_written by your gonna love this fragranc...</td>\n",
       "      <td>this fragrance is amazing, bought it for my si...</td>\n",
       "      <td>sean john empresswomen</td>\n",
       "      <td>5 stars</td>\n",
       "      <td>0</td>\n",
       "      <td>27</td>\n",
       "      <td>122</td>\n",
       "      <td>3</td>\n",
       "      <td>20</td>\n",
       "      <td>2</td>\n",
       "      <td>6</td>\n",
       "    </tr>\n",
       "    <tr>\n",
       "      <th>27546</th>\n",
       "      <td>47846_written by love this fragrance on septem...</td>\n",
       "      <td>everything from this line are true to the name...</td>\n",
       "      <td>roger &amp; gallet verveine utopie</td>\n",
       "      <td>5 stars</td>\n",
       "      <td>0</td>\n",
       "      <td>37</td>\n",
       "      <td>191</td>\n",
       "      <td>5</td>\n",
       "      <td>26</td>\n",
       "      <td>2</td>\n",
       "      <td>6</td>\n",
       "    </tr>\n",
       "  </tbody>\n",
       "</table>\n",
       "</div>"
      ],
      "text/plain": [
       "                                             author_date  \\\n",
       "26086  46386_written by your gonna love this fragranc...   \n",
       "27546  47846_written by love this fragrance on septem...   \n",
       "\n",
       "                                             review_text  \\\n",
       "26086  this fragrance is amazing, bought it for my si...   \n",
       "27546  everything from this line are true to the name...   \n",
       "\n",
       "                              product rating out of 5  broken_author_date  \\\n",
       "26086          sean john empresswomen         5 stars                   0   \n",
       "27546  roger & gallet verveine utopie         5 stars                   0   \n",
       "\n",
       "       len_review_text  len_char_review_text  len_product  len_char_product  \\\n",
       "26086               27                   122            3                20   \n",
       "27546               37                   191            5                26   \n",
       "\n",
       "       len_rating out of 5  len_char_rating out of 5  \n",
       "26086                    2                         6  \n",
       "27546                    2                         6  "
      ]
     },
     "execution_count": 1404,
     "metadata": {},
     "output_type": "execute_result"
    }
   ],
   "source": [
    "all_reviews_dataframe[all_reviews_dataframe['author_date'].str.contains('love this fragrance')]"
   ]
  },
  {
   "cell_type": "code",
   "execution_count": 1341,
   "metadata": {},
   "outputs": [],
   "source": [
    "len_x_char(all_reviews_dataframe, excl = ['broken_author_date', 'author_date', 'len_review_text', 'len_char_review_text', 'len_product', 'len_char_product', 'len_rating out of 5', 'len_char_rating out of 5'])"
   ]
  },
  {
   "attachments": {},
   "cell_type": "markdown",
   "metadata": {},
   "source": [
    "# for nlp part"
   ]
  },
  {
   "cell_type": "code",
   "execution_count": 1342,
   "metadata": {},
   "outputs": [
    {
     "name": "stderr",
     "output_type": "stream",
     "text": [
      "C:\\Users\\Rustem K\\AppData\\Local\\Temp\\ipykernel_17624\\2935360098.py:1: SettingWithCopyWarning: \n",
      "A value is trying to be set on a copy of a slice from a DataFrame.\n",
      "Try using .loc[row_indexer,col_indexer] = value instead\n",
      "\n",
      "See the caveats in the documentation: https://pandas.pydata.org/pandas-docs/stable/user_guide/indexing.html#returning-a-view-versus-a-copy\n",
      "  for_nlp['review_text'] = np.nan\n"
     ]
    }
   ],
   "source": [
    "for_nlp['review_text'] = np.nan"
   ]
  },
  {
   "cell_type": "code",
   "execution_count": 1343,
   "metadata": {},
   "outputs": [
    {
     "name": "stderr",
     "output_type": "stream",
     "text": [
      "C:\\Users\\Rustem K\\AppData\\Local\\Temp\\ipykernel_17624\\3654601660.py:2: SettingWithCopyWarning: \n",
      "A value is trying to be set on a copy of a slice from a DataFrame.\n",
      "Try using .loc[row_indexer,col_indexer] = value instead\n",
      "\n",
      "See the caveats in the documentation: https://pandas.pydata.org/pandas-docs/stable/user_guide/indexing.html#returning-a-view-versus-a-copy\n",
      "  for_nlp.loc[product_rating_swap_for_nlp,['review_text', 'rating out of 5']] = for_nlp.loc[product_rating_swap_for_nlp,['rating out of 5', 'review_text']].values\n"
     ]
    }
   ],
   "source": [
    "product_rating_swap_for_nlp = for_nlp[for_nlp['product'].apply(lambda x: x.replace(' ', '')).str.fullmatch(str_perfumes)].index\n",
    "for_nlp.loc[product_rating_swap_for_nlp,['review_text', 'rating out of 5']] = for_nlp.loc[product_rating_swap_for_nlp,['rating out of 5', 'review_text']].values"
   ]
  },
  {
   "cell_type": "code",
   "execution_count": 1344,
   "metadata": {},
   "outputs": [],
   "source": [
    "swap_for_nlp = for_nlp[for_nlp['review_text'].isna()].index\n",
    "for_nlp[for_nlp['review_text'].isna()]\n",
    "for_nlp.loc[swap_for_nlp,['review_text', 'product', 'rating out of 5']] = for_nlp.loc[swap_for_nlp,['product', 'rating out of 5', 'review_text']].values"
   ]
  },
  {
   "cell_type": "code",
   "execution_count": 1345,
   "metadata": {},
   "outputs": [
    {
     "data": {
      "text/plain": [
       "'ithasbeenoneofmyalltimefavoritesforyears|marryme!bylanvinisaveryflowery|ihavewornmanifesto|isaveryflowery|myabsolutefavoriteperfume!|lovethisfragrance.|salvadordaliisanexquisite|lizsportismyfavoritego-anywherefragrance|patou1000:blackvioletsandrosekennedy!!timeless|1000-icantsayenoughaboutthisperfume|issoseductive|ijustgotit!|thisissocute|ifirstpurchasedthisfragrance|ilovethissmell,it|iabsolutelylovethisfragrance,andi|perryellislove--wearsverywell.|thisperfumehasalightflowery|aguadeloeweellabeenmyfavoriteperfume|itsmellslikehoney.|cartierbleu....s!ellasogood!!!!!!!|beingafirsttimer|purplelight--thisfragranceisawesome!!!!|igetlotsofcomplimentsonmillerharris|marcjacobsdaisyblushisabeautifulscent'"
      ]
     },
     "execution_count": 1345,
     "metadata": {},
     "output_type": "execute_result"
    }
   ],
   "source": [
    "match_this = \"it has been one of my all time favorites for years |marry me! by lanvin is a very flowery| i have worn manifesto | is a very flowery | my absolute favorite perfume! | love this fragrance. | salvador dali is an exquisite |lizsport is my favorite go-anywhere fragrance | patou 1000: black violets and rose kennedy !! timeless| 1000- i cant say enough about this perfume | is so seductive| i just got it! | this is so cute | i first purchased this fragrance| i love this smell, it | i absolutely love this fragrance, and i | perry ellis love -- wears very well.| this perfume has a light flowery | agua de loewe ella been my favorite perfume| it smells like honey. | cartier bleu....s!ella so good!!!!!!!| being a first timer | purple light--this fragrance is awesome!!!!| i get lots of compliments on miller harris | marc jacobs daisy blush is a beautiful scent\".replace(' ', '')\n",
    "match_this\n",
    "\n",
    "#for_nlp['product'].unique()"
   ]
  },
  {
   "cell_type": "code",
   "execution_count": 1346,
   "metadata": {},
   "outputs": [],
   "source": [
    "replace_these_ids = for_nlp[for_nlp['product'].apply(lambda x: x.replace(' ', '')).str.match(match_this)].index\n",
    "replace_these_ids = np.append(replace_these_ids, 24496)\n",
    "\n",
    "for_nlp.loc[replace_these_ids,['review_text', 'product']] = for_nlp.loc[replace_these_ids,['product','review_text']].values"
   ]
  },
  {
   "cell_type": "code",
   "execution_count": 1347,
   "metadata": {},
   "outputs": [
    {
     "name": "stderr",
     "output_type": "stream",
     "text": [
      "C:\\Users\\Rustem K\\AppData\\Local\\Temp\\ipykernel_17624\\2528629390.py:4: SettingWithCopyWarning: \n",
      "A value is trying to be set on a copy of a slice from a DataFrame.\n",
      "Try using .loc[row_indexer,col_indexer] = value instead\n",
      "\n",
      "See the caveats in the documentation: https://pandas.pydata.org/pandas-docs/stable/user_guide/indexing.html#returning-a-view-versus-a-copy\n",
      "  df[f'len_{i}'] = df[i].apply(lambda x: len(str(x).split()))\n",
      "C:\\Users\\Rustem K\\AppData\\Local\\Temp\\ipykernel_17624\\2528629390.py:5: SettingWithCopyWarning: \n",
      "A value is trying to be set on a copy of a slice from a DataFrame.\n",
      "Try using .loc[row_indexer,col_indexer] = value instead\n",
      "\n",
      "See the caveats in the documentation: https://pandas.pydata.org/pandas-docs/stable/user_guide/indexing.html#returning-a-view-versus-a-copy\n",
      "  df[f'len_char_{i}'] = df[i].str.replace(' ', '').apply(lambda x: len(str(x)))\n"
     ]
    }
   ],
   "source": [
    "len_x_char(for_nlp, excl = ['broken_author_date', 'author_date', 'len_review_text', 'len_char_review_text', 'len_product', 'len_char_product', 'len_rating out of 5', 'len_char_rating out of 5'])"
   ]
  },
  {
   "cell_type": "code",
   "execution_count": 1348,
   "metadata": {},
   "outputs": [],
   "source": [
    "#add nlp part back\n",
    "reviews_fixed = pd.concat([all_reviews_dataframe, for_nlp], ignore_index= True)"
   ]
  },
  {
   "cell_type": "code",
   "execution_count": 1349,
   "metadata": {},
   "outputs": [],
   "source": [
    "reviews_fixed = reviews_fixed.drop(['broken_author_date', 'len_review_text', 'len_char_review_text', 'len_product', 'len_char_product', 'len_rating out of 5', 'len_char_rating out of 5'], axis = 1) "
   ]
  },
  {
   "cell_type": "code",
   "execution_count": 1720,
   "metadata": {},
   "outputs": [
    {
     "data": {
      "text/html": [
       "<div>\n",
       "<style scoped>\n",
       "    .dataframe tbody tr th:only-of-type {\n",
       "        vertical-align: middle;\n",
       "    }\n",
       "\n",
       "    .dataframe tbody tr th {\n",
       "        vertical-align: top;\n",
       "    }\n",
       "\n",
       "    .dataframe thead th {\n",
       "        text-align: right;\n",
       "    }\n",
       "</style>\n",
       "<table border=\"1\" class=\"dataframe\">\n",
       "  <thead>\n",
       "    <tr style=\"text-align: right;\">\n",
       "      <th></th>\n",
       "      <th>author_date</th>\n",
       "      <th>review_text</th>\n",
       "      <th>product</th>\n",
       "      <th>rating out of 5</th>\n",
       "      <th>date</th>\n",
       "      <th>authors</th>\n",
       "    </tr>\n",
       "  </thead>\n",
       "  <tbody>\n",
       "    <tr>\n",
       "      <th>2544</th>\n",
       "      <td>23161_written by anonymous on september 11, 2022</td>\n",
       "      <td>great fragrance. very unisex. it lingers aroun...</td>\n",
       "      <td>montale paris starry nights</td>\n",
       "      <td>5 stars</td>\n",
       "      <td>2022-09-11</td>\n",
       "      <td>ymous _2544</td>\n",
       "    </tr>\n",
       "    <tr>\n",
       "      <th>2545</th>\n",
       "      <td>23162_written by capturedbyfire on april 08, 2022</td>\n",
       "      <td>just received my bottle of montale paris starr...</td>\n",
       "      <td>montale paris starry nights</td>\n",
       "      <td>5 stars</td>\n",
       "      <td>2022-04-08</td>\n",
       "      <td>fire</td>\n",
       "    </tr>\n",
       "    <tr>\n",
       "      <th>2546</th>\n",
       "      <td>23163_written by johnl on december 10, 2021</td>\n",
       "      <td>bottle feels like it is not full .other than t...</td>\n",
       "      <td>montale paris starry nights</td>\n",
       "      <td>5 stars</td>\n",
       "      <td>2021-12-10</td>\n",
       "      <td>johnl</td>\n",
       "    </tr>\n",
       "    <tr>\n",
       "      <th>2547</th>\n",
       "      <td>23164_written by passionate4perfume on novembe...</td>\n",
       "      <td>starry nights a wonderful example of truly uni...</td>\n",
       "      <td>montale paris starry nights</td>\n",
       "      <td>5 stars</td>\n",
       "      <td>2020-11-23</td>\n",
       "      <td>ate4perfume</td>\n",
       "    </tr>\n",
       "    <tr>\n",
       "      <th>2753</th>\n",
       "      <td>23387_written by erin on june 23, 2022</td>\n",
       "      <td>i’m so excited this is available. i wore this ...</td>\n",
       "      <td>sun moon stars</td>\n",
       "      <td>5 stars</td>\n",
       "      <td>2022-06-23</td>\n",
       "      <td>erin</td>\n",
       "    </tr>\n",
       "    <tr>\n",
       "      <th>2754</th>\n",
       "      <td>23389_written by frenchghost on april 07, 2022</td>\n",
       "      <td>i bought this out of curiosity&amp;beautiful bottl...</td>\n",
       "      <td>sun moon stars</td>\n",
       "      <td>5 stars</td>\n",
       "      <td>2022-04-07</td>\n",
       "      <td>frenchghost</td>\n",
       "    </tr>\n",
       "    <tr>\n",
       "      <th>2755</th>\n",
       "      <td>23390_written by dale e on february 17, 2022</td>\n",
       "      <td>crisp, floral and clean! a beautiful perfume w...</td>\n",
       "      <td>sun moon stars</td>\n",
       "      <td>5 stars</td>\n",
       "      <td>2022-02-17</td>\n",
       "      <td>dale e</td>\n",
       "    </tr>\n",
       "    <tr>\n",
       "      <th>2756</th>\n",
       "      <td>23391_written by anonymous on october 03, 2021</td>\n",
       "      <td>pleasantly surprised to see sun moon and stars...</td>\n",
       "      <td>sun moon stars</td>\n",
       "      <td>4 stars</td>\n",
       "      <td>2021-10-03</td>\n",
       "      <td>ymous _2756</td>\n",
       "    </tr>\n",
       "    <tr>\n",
       "      <th>18476</th>\n",
       "      <td>44760_written by lynn on december 16, 2020</td>\n",
       "      <td>absolutely love this fragrance!! it’s a mild f...</td>\n",
       "      <td>michael kors starlight shimmer</td>\n",
       "      <td>5 stars</td>\n",
       "      <td>2020-12-16</td>\n",
       "      <td>lynn</td>\n",
       "    </tr>\n",
       "    <tr>\n",
       "      <th>18773</th>\n",
       "      <td>45108_written by amy on november 23, 2021</td>\n",
       "      <td>this scent is beautiful very unique. it is lig...</td>\n",
       "      <td>moschino cheap &amp; chic stars</td>\n",
       "      <td>4 stars</td>\n",
       "      <td>2021-11-23</td>\n",
       "      <td>amy</td>\n",
       "    </tr>\n",
       "    <tr>\n",
       "      <th>20280</th>\n",
       "      <td>46857_written by jd wiseman on august 04, 2019</td>\n",
       "      <td>\" philosophy lemon custard \", is a very nice l...</td>\n",
       "      <td>philosophy lemon custard</td>\n",
       "      <td>5 stars</td>\n",
       "      <td>2019-08-04</td>\n",
       "      <td>jd wiseman</td>\n",
       "    </tr>\n",
       "    <tr>\n",
       "      <th>20298</th>\n",
       "      <td>46875_written by erica p on july 13, 2022</td>\n",
       "      <td>used to be my absolute favorite perfume back i...</td>\n",
       "      <td>sun moon stars gift set</td>\n",
       "      <td>4 stars</td>\n",
       "      <td>2022-07-13</td>\n",
       "      <td>erica p</td>\n",
       "    </tr>\n",
       "    <tr>\n",
       "      <th>21330</th>\n",
       "      <td>48043_written by andrea - new orleans, la on a...</td>\n",
       "      <td>hollywood star is a beautiful fragrance. it's ...</td>\n",
       "      <td>hollywood star</td>\n",
       "      <td>5 stars</td>\n",
       "      <td>2021-08-03</td>\n",
       "      <td>andrea - new orleans, la</td>\n",
       "    </tr>\n",
       "    <tr>\n",
       "      <th>21331</th>\n",
       "      <td>48044_written by anonymous on february 28, 2020</td>\n",
       "      <td>hollywood star by fred hayman is a very strong...</td>\n",
       "      <td>hollywood star</td>\n",
       "      <td>1 stars</td>\n",
       "      <td>2020-02-28</td>\n",
       "      <td>ymous _21331</td>\n",
       "    </tr>\n",
       "    <tr>\n",
       "      <th>21332</th>\n",
       "      <td>48045_written by anonymous on may 31, 2018</td>\n",
       "      <td>i don't know if this bottle is just gone bad, ...</td>\n",
       "      <td>hollywood star</td>\n",
       "      <td>1 stars</td>\n",
       "      <td>2018-05-31</td>\n",
       "      <td>ymous _21332</td>\n",
       "    </tr>\n",
       "    <tr>\n",
       "      <th>22199</th>\n",
       "      <td>49000_written by robert on february 08, 2020</td>\n",
       "      <td>starck peau d'ailleurs yes, this does smell ex...</td>\n",
       "      <td>starck peau d'ailleurs</td>\n",
       "      <td>5 stars</td>\n",
       "      <td>2020-02-08</td>\n",
       "      <td>robert</td>\n",
       "    </tr>\n",
       "    <tr>\n",
       "      <th>22200</th>\n",
       "      <td>49001_written by linda on november 16, 2019</td>\n",
       "      <td>stark peau d'ailleurs is a wonderful perfume. ...</td>\n",
       "      <td>starck peau d'ailleurs</td>\n",
       "      <td>5 stars</td>\n",
       "      <td>2019-11-16</td>\n",
       "      <td>linda</td>\n",
       "    </tr>\n",
       "  </tbody>\n",
       "</table>\n",
       "</div>"
      ],
      "text/plain": [
       "                                             author_date  \\\n",
       "2544    23161_written by anonymous on september 11, 2022   \n",
       "2545   23162_written by capturedbyfire on april 08, 2022   \n",
       "2546         23163_written by johnl on december 10, 2021   \n",
       "2547   23164_written by passionate4perfume on novembe...   \n",
       "2753              23387_written by erin on june 23, 2022   \n",
       "2754      23389_written by frenchghost on april 07, 2022   \n",
       "2755        23390_written by dale e on february 17, 2022   \n",
       "2756      23391_written by anonymous on october 03, 2021   \n",
       "18476         44760_written by lynn on december 16, 2020   \n",
       "18773          45108_written by amy on november 23, 2021   \n",
       "20280     46857_written by jd wiseman on august 04, 2019   \n",
       "20298          46875_written by erica p on july 13, 2022   \n",
       "21330  48043_written by andrea - new orleans, la on a...   \n",
       "21331    48044_written by anonymous on february 28, 2020   \n",
       "21332         48045_written by anonymous on may 31, 2018   \n",
       "22199       49000_written by robert on february 08, 2020   \n",
       "22200        49001_written by linda on november 16, 2019   \n",
       "\n",
       "                                             review_text  \\\n",
       "2544   great fragrance. very unisex. it lingers aroun...   \n",
       "2545   just received my bottle of montale paris starr...   \n",
       "2546   bottle feels like it is not full .other than t...   \n",
       "2547   starry nights a wonderful example of truly uni...   \n",
       "2753   i’m so excited this is available. i wore this ...   \n",
       "2754   i bought this out of curiosity&beautiful bottl...   \n",
       "2755   crisp, floral and clean! a beautiful perfume w...   \n",
       "2756   pleasantly surprised to see sun moon and stars...   \n",
       "18476  absolutely love this fragrance!! it’s a mild f...   \n",
       "18773  this scent is beautiful very unique. it is lig...   \n",
       "20280  \" philosophy lemon custard \", is a very nice l...   \n",
       "20298  used to be my absolute favorite perfume back i...   \n",
       "21330  hollywood star is a beautiful fragrance. it's ...   \n",
       "21331  hollywood star by fred hayman is a very strong...   \n",
       "21332  i don't know if this bottle is just gone bad, ...   \n",
       "22199  starck peau d'ailleurs yes, this does smell ex...   \n",
       "22200  stark peau d'ailleurs is a wonderful perfume. ...   \n",
       "\n",
       "                              product rating out of 5       date  \\\n",
       "2544      montale paris starry nights         5 stars 2022-09-11   \n",
       "2545      montale paris starry nights         5 stars 2022-04-08   \n",
       "2546      montale paris starry nights         5 stars 2021-12-10   \n",
       "2547      montale paris starry nights         5 stars 2020-11-23   \n",
       "2753                   sun moon stars         5 stars 2022-06-23   \n",
       "2754                   sun moon stars         5 stars 2022-04-07   \n",
       "2755                   sun moon stars         5 stars 2022-02-17   \n",
       "2756                   sun moon stars         4 stars 2021-10-03   \n",
       "18476  michael kors starlight shimmer         5 stars 2020-12-16   \n",
       "18773     moschino cheap & chic stars         4 stars 2021-11-23   \n",
       "20280        philosophy lemon custard         5 stars 2019-08-04   \n",
       "20298         sun moon stars gift set         4 stars 2022-07-13   \n",
       "21330                  hollywood star         5 stars 2021-08-03   \n",
       "21331                  hollywood star         1 stars 2020-02-28   \n",
       "21332                  hollywood star         1 stars 2018-05-31   \n",
       "22199          starck peau d'ailleurs         5 stars 2020-02-08   \n",
       "22200          starck peau d'ailleurs         5 stars 2019-11-16   \n",
       "\n",
       "                          authors  \n",
       "2544                  ymous _2544  \n",
       "2545                        fire   \n",
       "2546                       johnl   \n",
       "2547                 ate4perfume   \n",
       "2753                        erin   \n",
       "2754                 frenchghost   \n",
       "2755                      dale e   \n",
       "2756                  ymous _2756  \n",
       "18476                       lynn   \n",
       "18773                        amy   \n",
       "20280                 jd wiseman   \n",
       "20298                    erica p   \n",
       "21330   andrea - new orleans, la   \n",
       "21331                ymous _21331  \n",
       "21332                ymous _21332  \n",
       "22199                     robert   \n",
       "22200                      linda   "
      ]
     },
     "execution_count": 1720,
     "metadata": {},
     "output_type": "execute_result"
    }
   ],
   "source": [
    "reviews_fixed[reviews_fixed['product'].str.contains('star')]"
   ]
  },
  {
   "cell_type": "code",
   "execution_count": 1372,
   "metadata": {},
   "outputs": [
    {
     "data": {
      "text/html": [
       "<div>\n",
       "<style scoped>\n",
       "    .dataframe tbody tr th:only-of-type {\n",
       "        vertical-align: middle;\n",
       "    }\n",
       "\n",
       "    .dataframe tbody tr th {\n",
       "        vertical-align: top;\n",
       "    }\n",
       "\n",
       "    .dataframe thead th {\n",
       "        text-align: right;\n",
       "    }\n",
       "</style>\n",
       "<table border=\"1\" class=\"dataframe\">\n",
       "  <thead>\n",
       "    <tr style=\"text-align: right;\">\n",
       "      <th></th>\n",
       "      <th>author_date</th>\n",
       "      <th>review_text</th>\n",
       "      <th>product</th>\n",
       "      <th>rating out of 5</th>\n",
       "    </tr>\n",
       "  </thead>\n",
       "  <tbody>\n",
       "    <tr>\n",
       "      <th>0</th>\n",
       "      <td>20300_written by jan on december 06, 2022</td>\n",
       "      <td>one of my favorites!!! i don't care when i wea...</td>\n",
       "      <td>kate spade live colorfullywomen</td>\n",
       "      <td>5 stars</td>\n",
       "    </tr>\n",
       "    <tr>\n",
       "      <th>1</th>\n",
       "      <td>20301_written by ashley allure on june 17, 2022</td>\n",
       "      <td>i love it! i pondered on it for awhile. it’s e...</td>\n",
       "      <td>kate spade live colorfullywomen</td>\n",
       "      <td>5 stars</td>\n",
       "    </tr>\n",
       "    <tr>\n",
       "      <th>2</th>\n",
       "      <td>20302_written by love it on february 19, 2022</td>\n",
       "      <td>love this and the travel spray bottle is so co...</td>\n",
       "      <td>kate spade live colorfullywomen</td>\n",
       "      <td>5 stars</td>\n",
       "    </tr>\n",
       "    <tr>\n",
       "      <th>3</th>\n",
       "      <td>20303_written by cheryl on september 12, 2021</td>\n",
       "      <td>i love the fragrance which is light and not ov...</td>\n",
       "      <td>kate spade live colorfullywomen</td>\n",
       "      <td>5 stars</td>\n",
       "    </tr>\n",
       "    <tr>\n",
       "      <th>4</th>\n",
       "      <td>20304_written by deirdre w. on july 16, 2021</td>\n",
       "      <td>pretty fragrance i get a lot of compliments on...</td>\n",
       "      <td>kate spade live colorfullywomen</td>\n",
       "      <td>5 stars</td>\n",
       "    </tr>\n",
       "    <tr>\n",
       "      <th>...</th>\n",
       "      <td>...</td>\n",
       "      <td>...</td>\n",
       "      <td>...</td>\n",
       "      <td>...</td>\n",
       "    </tr>\n",
       "    <tr>\n",
       "      <th>46049</th>\n",
       "      <td>written by seminole sweetie on september 15, 2016</td>\n",
       "      <td>i wear this fragrance, especially in the sprin...</td>\n",
       "      <td>burberry weekend for women</td>\n",
       "      <td>NaN</td>\n",
       "    </tr>\n",
       "    <tr>\n",
       "      <th>46050</th>\n",
       "      <td>written by sm on march 29, 2016</td>\n",
       "      <td>i love love love love love this perfume. when ...</td>\n",
       "      <td>burberry weekend for women</td>\n",
       "      <td>NaN</td>\n",
       "    </tr>\n",
       "    <tr>\n",
       "      <th>46051</th>\n",
       "      <td>written by alice on march 03, 2016</td>\n",
       "      <td>burbbery weekend is a wonderful strong scent w...</td>\n",
       "      <td>burberry weekend for women</td>\n",
       "      <td>NaN</td>\n",
       "    </tr>\n",
       "    <tr>\n",
       "      <th>46052</th>\n",
       "      <td>written by kristal on december 17, 2015</td>\n",
       "      <td>this fragrance smell so good it's such a matur...</td>\n",
       "      <td>burberry weekend for women</td>\n",
       "      <td>NaN</td>\n",
       "    </tr>\n",
       "    <tr>\n",
       "      <th>46053</th>\n",
       "      <td>written by ms milwaukee on december 03, 2015</td>\n",
       "      <td>it's very subtle....almost disappears on ya!</td>\n",
       "      <td>prada infusion d'iriswomen</td>\n",
       "      <td>NaN</td>\n",
       "    </tr>\n",
       "  </tbody>\n",
       "</table>\n",
       "<p>45808 rows × 4 columns</p>\n",
       "</div>"
      ],
      "text/plain": [
       "                                             author_date  \\\n",
       "0              20300_written by jan on december 06, 2022   \n",
       "1        20301_written by ashley allure on june 17, 2022   \n",
       "2          20302_written by love it on february 19, 2022   \n",
       "3          20303_written by cheryl on september 12, 2021   \n",
       "4           20304_written by deirdre w. on july 16, 2021   \n",
       "...                                                  ...   \n",
       "46049  written by seminole sweetie on september 15, 2016   \n",
       "46050                    written by sm on march 29, 2016   \n",
       "46051                 written by alice on march 03, 2016   \n",
       "46052            written by kristal on december 17, 2015   \n",
       "46053       written by ms milwaukee on december 03, 2015   \n",
       "\n",
       "                                             review_text  \\\n",
       "0      one of my favorites!!! i don't care when i wea...   \n",
       "1      i love it! i pondered on it for awhile. it’s e...   \n",
       "2      love this and the travel spray bottle is so co...   \n",
       "3      i love the fragrance which is light and not ov...   \n",
       "4      pretty fragrance i get a lot of compliments on...   \n",
       "...                                                  ...   \n",
       "46049  i wear this fragrance, especially in the sprin...   \n",
       "46050  i love love love love love this perfume. when ...   \n",
       "46051  burbbery weekend is a wonderful strong scent w...   \n",
       "46052  this fragrance smell so good it's such a matur...   \n",
       "46053       it's very subtle....almost disappears on ya!   \n",
       "\n",
       "                               product rating out of 5  \n",
       "0      kate spade live colorfullywomen         5 stars  \n",
       "1      kate spade live colorfullywomen         5 stars  \n",
       "2      kate spade live colorfullywomen         5 stars  \n",
       "3      kate spade live colorfullywomen         5 stars  \n",
       "4      kate spade live colorfullywomen         5 stars  \n",
       "...                                ...             ...  \n",
       "46049       burberry weekend for women             NaN  \n",
       "46050       burberry weekend for women             NaN  \n",
       "46051       burberry weekend for women             NaN  \n",
       "46052       burberry weekend for women             NaN  \n",
       "46053       prada infusion d'iriswomen             NaN  \n",
       "\n",
       "[45808 rows x 4 columns]"
      ]
     },
     "execution_count": 1372,
     "metadata": {},
     "output_type": "execute_result"
    }
   ],
   "source": [
    "reviews_fixed = reviews_fixed.drop_duplicates(subset = ['review_text', 'rating out of 5', 'product'])\n"
   ]
  },
  {
   "cell_type": "code",
   "execution_count": 1411,
   "metadata": {},
   "outputs": [
    {
     "name": "stderr",
     "output_type": "stream",
     "text": [
      "C:\\Users\\Rustem K\\AppData\\Local\\Temp\\ipykernel_17624\\4093158475.py:1: SettingWithCopyWarning: \n",
      "A value is trying to be set on a copy of a slice from a DataFrame\n",
      "\n",
      "See the caveats in the documentation: https://pandas.pydata.org/pandas-docs/stable/user_guide/indexing.html#returning-a-view-versus-a-copy\n",
      "  reviews_fixed.loc[43920, ['author_date', 'review_text']] = reviews_fixed.loc[43920, ['review_text', 'author_date']].values\n"
     ]
    }
   ],
   "source": [
    "reviews_fixed.loc[43920, ['author_date', 'review_text']] = reviews_fixed.loc[43920, ['review_text', 'author_date']].values\n"
   ]
  },
  {
   "cell_type": "code",
   "execution_count": 1450,
   "metadata": {},
   "outputs": [],
   "source": [
    "import re\n",
    "from dateutil.parser import parse\n",
    "\n",
    "delimiters = \"by\", \"on\"\n",
    "regex_pattern = '|'.join(map(re.escape, delimiters))"
   ]
  },
  {
   "cell_type": "code",
   "execution_count": 1452,
   "metadata": {},
   "outputs": [
    {
     "name": "stderr",
     "output_type": "stream",
     "text": [
      "C:\\Users\\Rustem K\\AppData\\Local\\Temp\\ipykernel_17624\\3973846707.py:1: SettingWithCopyWarning: \n",
      "A value is trying to be set on a copy of a slice from a DataFrame.\n",
      "Try using .loc[row_indexer,col_indexer] = value instead\n",
      "\n",
      "See the caveats in the documentation: https://pandas.pydata.org/pandas-docs/stable/user_guide/indexing.html#returning-a-view-versus-a-copy\n",
      "  reviews_fixed['date'] = reviews_fixed['author_date'].apply(lambda x: re.split(regex_pattern, x)[-1])\n"
     ]
    }
   ],
   "source": [
    "reviews_fixed['date'] = reviews_fixed['author_date'].apply(lambda x: re.split(regex_pattern, x)[-1])"
   ]
  },
  {
   "cell_type": "code",
   "execution_count": 1454,
   "metadata": {},
   "outputs": [],
   "source": [
    "reviews_fixed.loc[43920, ['date']] = 'march 31, 2015'"
   ]
  },
  {
   "cell_type": "code",
   "execution_count": 1455,
   "metadata": {},
   "outputs": [
    {
     "data": {
      "text/plain": [
       "author_date                   written by anonymous on march 31, 2015\n",
       "review_text        absolutely love this fragrance. it has a fresh...\n",
       "product                                        eau de cartier unisex\n",
       "rating out of 5                                                  NaN\n",
       "date                                                  march 31, 2015\n",
       "authors                                                       ymous \n",
       "Name: 43920, dtype: object"
      ]
     },
     "execution_count": 1455,
     "metadata": {},
     "output_type": "execute_result"
    }
   ],
   "source": [
    "reviews_fixed.loc[43920]"
   ]
  },
  {
   "cell_type": "code",
   "execution_count": 1456,
   "metadata": {},
   "outputs": [
    {
     "name": "stderr",
     "output_type": "stream",
     "text": [
      "C:\\Users\\Rustem K\\AppData\\Local\\Temp\\ipykernel_17624\\2564483291.py:1: SettingWithCopyWarning: \n",
      "A value is trying to be set on a copy of a slice from a DataFrame.\n",
      "Try using .loc[row_indexer,col_indexer] = value instead\n",
      "\n",
      "See the caveats in the documentation: https://pandas.pydata.org/pandas-docs/stable/user_guide/indexing.html#returning-a-view-versus-a-copy\n",
      "  reviews_fixed['authors'] = reviews_fixed['author_date'].apply(lambda x: re.split(regex_pattern, x)[-2])\n"
     ]
    }
   ],
   "source": [
    "reviews_fixed['authors'] = reviews_fixed['author_date'].apply(lambda x: re.split(regex_pattern, x)[-2])"
   ]
  },
  {
   "cell_type": "code",
   "execution_count": 1457,
   "metadata": {},
   "outputs": [
    {
     "name": "stderr",
     "output_type": "stream",
     "text": [
      "C:\\Users\\Rustem K\\AppData\\Local\\Temp\\ipykernel_17624\\3468182198.py:1: SettingWithCopyWarning: \n",
      "A value is trying to be set on a copy of a slice from a DataFrame.\n",
      "Try using .loc[row_indexer,col_indexer] = value instead\n",
      "\n",
      "See the caveats in the documentation: https://pandas.pydata.org/pandas-docs/stable/user_guide/indexing.html#returning-a-view-versus-a-copy\n",
      "  reviews_fixed['date'] = reviews_fixed['date'].apply(lambda x: parse(x))\n"
     ]
    }
   ],
   "source": [
    "reviews_fixed['date'] = reviews_fixed['date'].apply(lambda x: parse(x))"
   ]
  },
  {
   "cell_type": "code",
   "execution_count": 1458,
   "metadata": {},
   "outputs": [
    {
     "data": {
      "text/html": [
       "<div>\n",
       "<style scoped>\n",
       "    .dataframe tbody tr th:only-of-type {\n",
       "        vertical-align: middle;\n",
       "    }\n",
       "\n",
       "    .dataframe tbody tr th {\n",
       "        vertical-align: top;\n",
       "    }\n",
       "\n",
       "    .dataframe thead th {\n",
       "        text-align: right;\n",
       "    }\n",
       "</style>\n",
       "<table border=\"1\" class=\"dataframe\">\n",
       "  <thead>\n",
       "    <tr style=\"text-align: right;\">\n",
       "      <th></th>\n",
       "      <th>author_date</th>\n",
       "      <th>review_text</th>\n",
       "      <th>product</th>\n",
       "      <th>rating out of 5</th>\n",
       "      <th>date</th>\n",
       "      <th>authors</th>\n",
       "    </tr>\n",
       "  </thead>\n",
       "  <tbody>\n",
       "    <tr>\n",
       "      <th>0</th>\n",
       "      <td>20300_written by jan on december 06, 2022</td>\n",
       "      <td>one of my favorites!!! i don't care when i wea...</td>\n",
       "      <td>kate spade live colorfullywomen</td>\n",
       "      <td>5 stars</td>\n",
       "      <td>2022-12-06</td>\n",
       "      <td>jan</td>\n",
       "    </tr>\n",
       "    <tr>\n",
       "      <th>1</th>\n",
       "      <td>20301_written by ashley allure on june 17, 2022</td>\n",
       "      <td>i love it! i pondered on it for awhile. it’s e...</td>\n",
       "      <td>kate spade live colorfullywomen</td>\n",
       "      <td>5 stars</td>\n",
       "      <td>2022-06-17</td>\n",
       "      <td>ashley allure</td>\n",
       "    </tr>\n",
       "    <tr>\n",
       "      <th>2</th>\n",
       "      <td>20302_written by love it on february 19, 2022</td>\n",
       "      <td>love this and the travel spray bottle is so co...</td>\n",
       "      <td>kate spade live colorfullywomen</td>\n",
       "      <td>5 stars</td>\n",
       "      <td>2022-02-19</td>\n",
       "      <td>love it</td>\n",
       "    </tr>\n",
       "    <tr>\n",
       "      <th>3</th>\n",
       "      <td>20303_written by cheryl on september 12, 2021</td>\n",
       "      <td>i love the fragrance which is light and not ov...</td>\n",
       "      <td>kate spade live colorfullywomen</td>\n",
       "      <td>5 stars</td>\n",
       "      <td>2021-09-12</td>\n",
       "      <td>cheryl</td>\n",
       "    </tr>\n",
       "    <tr>\n",
       "      <th>4</th>\n",
       "      <td>20304_written by deirdre w. on july 16, 2021</td>\n",
       "      <td>pretty fragrance i get a lot of compliments on...</td>\n",
       "      <td>kate spade live colorfullywomen</td>\n",
       "      <td>5 stars</td>\n",
       "      <td>2021-07-16</td>\n",
       "      <td>deirdre w.</td>\n",
       "    </tr>\n",
       "    <tr>\n",
       "      <th>...</th>\n",
       "      <td>...</td>\n",
       "      <td>...</td>\n",
       "      <td>...</td>\n",
       "      <td>...</td>\n",
       "      <td>...</td>\n",
       "      <td>...</td>\n",
       "    </tr>\n",
       "    <tr>\n",
       "      <th>46049</th>\n",
       "      <td>written by seminole sweetie on september 15, 2016</td>\n",
       "      <td>i wear this fragrance, especially in the sprin...</td>\n",
       "      <td>burberry weekend for women</td>\n",
       "      <td>NaN</td>\n",
       "      <td>2016-09-15</td>\n",
       "      <td>seminole sweetie</td>\n",
       "    </tr>\n",
       "    <tr>\n",
       "      <th>46050</th>\n",
       "      <td>written by sm on march 29, 2016</td>\n",
       "      <td>i love love love love love this perfume. when ...</td>\n",
       "      <td>burberry weekend for women</td>\n",
       "      <td>NaN</td>\n",
       "      <td>2016-03-29</td>\n",
       "      <td>sm</td>\n",
       "    </tr>\n",
       "    <tr>\n",
       "      <th>46051</th>\n",
       "      <td>written by alice on march 03, 2016</td>\n",
       "      <td>burbbery weekend is a wonderful strong scent w...</td>\n",
       "      <td>burberry weekend for women</td>\n",
       "      <td>NaN</td>\n",
       "      <td>2016-03-03</td>\n",
       "      <td>alice</td>\n",
       "    </tr>\n",
       "    <tr>\n",
       "      <th>46052</th>\n",
       "      <td>written by kristal on december 17, 2015</td>\n",
       "      <td>this fragrance smell so good it's such a matur...</td>\n",
       "      <td>burberry weekend for women</td>\n",
       "      <td>NaN</td>\n",
       "      <td>2015-12-17</td>\n",
       "      <td>kristal</td>\n",
       "    </tr>\n",
       "    <tr>\n",
       "      <th>46053</th>\n",
       "      <td>written by ms milwaukee on december 03, 2015</td>\n",
       "      <td>it's very subtle....almost disappears on ya!</td>\n",
       "      <td>prada infusion d'iriswomen</td>\n",
       "      <td>NaN</td>\n",
       "      <td>2015-12-03</td>\n",
       "      <td>ms milwaukee</td>\n",
       "    </tr>\n",
       "  </tbody>\n",
       "</table>\n",
       "<p>45808 rows × 6 columns</p>\n",
       "</div>"
      ],
      "text/plain": [
       "                                             author_date  \\\n",
       "0              20300_written by jan on december 06, 2022   \n",
       "1        20301_written by ashley allure on june 17, 2022   \n",
       "2          20302_written by love it on february 19, 2022   \n",
       "3          20303_written by cheryl on september 12, 2021   \n",
       "4           20304_written by deirdre w. on july 16, 2021   \n",
       "...                                                  ...   \n",
       "46049  written by seminole sweetie on september 15, 2016   \n",
       "46050                    written by sm on march 29, 2016   \n",
       "46051                 written by alice on march 03, 2016   \n",
       "46052            written by kristal on december 17, 2015   \n",
       "46053       written by ms milwaukee on december 03, 2015   \n",
       "\n",
       "                                             review_text  \\\n",
       "0      one of my favorites!!! i don't care when i wea...   \n",
       "1      i love it! i pondered on it for awhile. it’s e...   \n",
       "2      love this and the travel spray bottle is so co...   \n",
       "3      i love the fragrance which is light and not ov...   \n",
       "4      pretty fragrance i get a lot of compliments on...   \n",
       "...                                                  ...   \n",
       "46049  i wear this fragrance, especially in the sprin...   \n",
       "46050  i love love love love love this perfume. when ...   \n",
       "46051  burbbery weekend is a wonderful strong scent w...   \n",
       "46052  this fragrance smell so good it's such a matur...   \n",
       "46053       it's very subtle....almost disappears on ya!   \n",
       "\n",
       "                               product rating out of 5       date  \\\n",
       "0      kate spade live colorfullywomen         5 stars 2022-12-06   \n",
       "1      kate spade live colorfullywomen         5 stars 2022-06-17   \n",
       "2      kate spade live colorfullywomen         5 stars 2022-02-19   \n",
       "3      kate spade live colorfullywomen         5 stars 2021-09-12   \n",
       "4      kate spade live colorfullywomen         5 stars 2021-07-16   \n",
       "...                                ...             ...        ...   \n",
       "46049       burberry weekend for women             NaN 2016-09-15   \n",
       "46050       burberry weekend for women             NaN 2016-03-29   \n",
       "46051       burberry weekend for women             NaN 2016-03-03   \n",
       "46052       burberry weekend for women             NaN 2015-12-17   \n",
       "46053       prada infusion d'iriswomen             NaN 2015-12-03   \n",
       "\n",
       "                  authors  \n",
       "0                    jan   \n",
       "1          ashley allure   \n",
       "2                love it   \n",
       "3                 cheryl   \n",
       "4             deirdre w.   \n",
       "...                   ...  \n",
       "46049   seminole sweetie   \n",
       "46050                 sm   \n",
       "46051              alice   \n",
       "46052            kristal   \n",
       "46053       ms milwaukee   \n",
       "\n",
       "[45808 rows x 6 columns]"
      ]
     },
     "execution_count": 1458,
     "metadata": {},
     "output_type": "execute_result"
    }
   ],
   "source": [
    "reviews_fixed"
   ]
  },
  {
   "cell_type": "code",
   "execution_count": 1658,
   "metadata": {},
   "outputs": [
    {
     "data": {
      "text/html": [
       "<div>\n",
       "<style scoped>\n",
       "    .dataframe tbody tr th:only-of-type {\n",
       "        vertical-align: middle;\n",
       "    }\n",
       "\n",
       "    .dataframe tbody tr th {\n",
       "        vertical-align: top;\n",
       "    }\n",
       "\n",
       "    .dataframe thead th {\n",
       "        text-align: right;\n",
       "    }\n",
       "</style>\n",
       "<table border=\"1\" class=\"dataframe\">\n",
       "  <thead>\n",
       "    <tr style=\"text-align: right;\">\n",
       "      <th></th>\n",
       "      <th>author_date</th>\n",
       "      <th>review_text</th>\n",
       "      <th>product</th>\n",
       "      <th>rating out of 5</th>\n",
       "      <th>date</th>\n",
       "      <th>authors</th>\n",
       "      <th>womenuniflag</th>\n",
       "    </tr>\n",
       "  </thead>\n",
       "  <tbody>\n",
       "    <tr>\n",
       "      <th>2385</th>\n",
       "      <td>22972_written by sue on february 29, 2020</td>\n",
       "      <td>quatre cologne was purchased based on reviews ...</td>\n",
       "      <td>boucheron quatre</td>\n",
       "      <td>3 stars</td>\n",
       "      <td>2020-02-29</td>\n",
       "      <td>sue</td>\n",
       "      <td>boucheron quatrewomen</td>\n",
       "    </tr>\n",
       "    <tr>\n",
       "      <th>4631</th>\n",
       "      <td>25472_written by ms. taylor on december 21, 2021</td>\n",
       "      <td>i actually like it! it smells very chic and cl...</td>\n",
       "      <td>kenneth cole white</td>\n",
       "      <td>5 stars</td>\n",
       "      <td>2021-12-21</td>\n",
       "      <td>ms. taylor</td>\n",
       "      <td>kenneth cole whitewomen</td>\n",
       "    </tr>\n",
       "    <tr>\n",
       "      <th>5480</th>\n",
       "      <td>26410_written by flowerpower girl on april 15,...</td>\n",
       "      <td>loved it! light and airy. perfect for spring o...</td>\n",
       "      <td>miss dior blooming bouquet set</td>\n",
       "      <td>5 stars</td>\n",
       "      <td>2022-04-15</td>\n",
       "      <td>flowerpower girl</td>\n",
       "      <td>miss dior blooming bouquet set</td>\n",
       "    </tr>\n",
       "    <tr>\n",
       "      <th>8135</th>\n",
       "      <td>29388_written by gen j on may 18, 2020</td>\n",
       "      <td>this was a gift for my aunt and she loves it.</td>\n",
       "      <td>michael kors gold luxe edition</td>\n",
       "      <td>5 stars</td>\n",
       "      <td>2020-05-18</td>\n",
       "      <td>gen j</td>\n",
       "      <td>michael kors gold luxe editionwomen</td>\n",
       "    </tr>\n",
       "    <tr>\n",
       "      <th>10037</th>\n",
       "      <td>31538_written by evelyn on december 23, 2019</td>\n",
       "      <td>i love all vince camuto fragrance but this one...</td>\n",
       "      <td>vince camuto capri</td>\n",
       "      <td>5 stars</td>\n",
       "      <td>2019-12-23</td>\n",
       "      <td>evelyn</td>\n",
       "      <td>vince camuto capriwomen</td>\n",
       "    </tr>\n",
       "    <tr>\n",
       "      <th>...</th>\n",
       "      <td>...</td>\n",
       "      <td>...</td>\n",
       "      <td>...</td>\n",
       "      <td>...</td>\n",
       "      <td>...</td>\n",
       "      <td>...</td>\n",
       "      <td>...</td>\n",
       "    </tr>\n",
       "    <tr>\n",
       "      <th>43045</th>\n",
       "      <td>80292_written by sherry juarez on november 04,...</td>\n",
       "      <td>love love this soft floral woodsy italian scen...</td>\n",
       "      <td>valentino voce viva</td>\n",
       "      <td>5 stars</td>\n",
       "      <td>2022-11-04</td>\n",
       "      <td>sherry juarez</td>\n",
       "      <td>valentino voce viva</td>\n",
       "    </tr>\n",
       "    <tr>\n",
       "      <th>43049</th>\n",
       "      <td>80296_written by bluenerd on january 19, 2023</td>\n",
       "      <td>smells fresh, a compliment getter and good for...</td>\n",
       "      <td>afnan 9 pm</td>\n",
       "      <td>5 stars</td>\n",
       "      <td>2023-01-19</td>\n",
       "      <td>bluenerd</td>\n",
       "      <td>afnan 9 pm</td>\n",
       "    </tr>\n",
       "    <tr>\n",
       "      <th>43066</th>\n",
       "      <td>80316_written by anonymous on september 11, 2022</td>\n",
       "      <td>great fragrance. very unisex. it lingers aroun...</td>\n",
       "      <td>montale paris starry nights</td>\n",
       "      <td>5 stars</td>\n",
       "      <td>2022-09-11</td>\n",
       "      <td>ymous</td>\n",
       "      <td>montale paris starry nights unisex</td>\n",
       "    </tr>\n",
       "    <tr>\n",
       "      <th>43074</th>\n",
       "      <td>80324_written by dognutlv on november 18, 2021</td>\n",
       "      <td>this is my favorite scent on my husband. it's ...</td>\n",
       "      <td>hermes d'orange vert</td>\n",
       "      <td>5 stars</td>\n",
       "      <td>2021-11-18</td>\n",
       "      <td>dognutlv</td>\n",
       "      <td>hermes d'orange vert unisex</td>\n",
       "    </tr>\n",
       "    <tr>\n",
       "      <th>45367</th>\n",
       "      <td>written by r.hdz on november 11, 2017</td>\n",
       "      <td>love the calm, sweet, not over powering smell....</td>\n",
       "      <td>d &amp; g light blue</td>\n",
       "      <td>NaN</td>\n",
       "      <td>2017-11-11</td>\n",
       "      <td>r.hdz</td>\n",
       "      <td>d &amp; g light bluewomen</td>\n",
       "    </tr>\n",
       "  </tbody>\n",
       "</table>\n",
       "<p>50 rows × 7 columns</p>\n",
       "</div>"
      ],
      "text/plain": [
       "                                             author_date  \\\n",
       "2385           22972_written by sue on february 29, 2020   \n",
       "4631    25472_written by ms. taylor on december 21, 2021   \n",
       "5480   26410_written by flowerpower girl on april 15,...   \n",
       "8135              29388_written by gen j on may 18, 2020   \n",
       "10037       31538_written by evelyn on december 23, 2019   \n",
       "...                                                  ...   \n",
       "43045  80292_written by sherry juarez on november 04,...   \n",
       "43049      80296_written by bluenerd on january 19, 2023   \n",
       "43066   80316_written by anonymous on september 11, 2022   \n",
       "43074     80324_written by dognutlv on november 18, 2021   \n",
       "45367              written by r.hdz on november 11, 2017   \n",
       "\n",
       "                                             review_text  \\\n",
       "2385   quatre cologne was purchased based on reviews ...   \n",
       "4631   i actually like it! it smells very chic and cl...   \n",
       "5480   loved it! light and airy. perfect for spring o...   \n",
       "8135       this was a gift for my aunt and she loves it.   \n",
       "10037  i love all vince camuto fragrance but this one...   \n",
       "...                                                  ...   \n",
       "43045  love love this soft floral woodsy italian scen...   \n",
       "43049  smells fresh, a compliment getter and good for...   \n",
       "43066  great fragrance. very unisex. it lingers aroun...   \n",
       "43074  this is my favorite scent on my husband. it's ...   \n",
       "45367  love the calm, sweet, not over powering smell....   \n",
       "\n",
       "                              product rating out of 5       date  \\\n",
       "2385                 boucheron quatre         3 stars 2020-02-29   \n",
       "4631               kenneth cole white         5 stars 2021-12-21   \n",
       "5480   miss dior blooming bouquet set         5 stars 2022-04-15   \n",
       "8135   michael kors gold luxe edition         5 stars 2020-05-18   \n",
       "10037              vince camuto capri         5 stars 2019-12-23   \n",
       "...                               ...             ...        ...   \n",
       "43045             valentino voce viva         5 stars 2022-11-04   \n",
       "43049                      afnan 9 pm         5 stars 2023-01-19   \n",
       "43066     montale paris starry nights         5 stars 2022-09-11   \n",
       "43074            hermes d'orange vert         5 stars 2021-11-18   \n",
       "45367                d & g light blue             NaN 2017-11-11   \n",
       "\n",
       "                  authors                         womenuniflag  \n",
       "2385                 sue                 boucheron quatrewomen  \n",
       "4631          ms. taylor               kenneth cole whitewomen  \n",
       "5480    flowerpower girl        miss dior blooming bouquet set  \n",
       "8135               gen j   michael kors gold luxe editionwomen  \n",
       "10037             evelyn               vince camuto capriwomen  \n",
       "...                   ...                                  ...  \n",
       "43045      sherry juarez                   valentino voce viva  \n",
       "43049           bluenerd                            afnan 9 pm  \n",
       "43066              ymous    montale paris starry nights unisex  \n",
       "43074           dognutlv           hermes d'orange vert unisex  \n",
       "45367              r.hdz                 d & g light bluewomen  \n",
       "\n",
       "[50 rows x 7 columns]"
      ]
     },
     "execution_count": 1658,
     "metadata": {},
     "output_type": "execute_result"
    }
   ],
   "source": [
    "reviews_fixed[reviews_fixed.duplicated(subset = ['review_text', 'date', 'authors'])]"
   ]
  },
  {
   "cell_type": "code",
   "execution_count": 1659,
   "metadata": {},
   "outputs": [],
   "source": [
    "reviews_fixed = reviews_fixed.drop_duplicates(subset = ['review_text', 'date', 'authors'])"
   ]
  },
  {
   "cell_type": "code",
   "execution_count": 1696,
   "metadata": {},
   "outputs": [],
   "source": [
    "reviews_fixed.loc[reviews_fixed['authors'].str.contains('ymous'), 'authors']= reviews_fixed.loc[reviews_fixed['authors'].str.contains('ymous'), 'authors']+ '_' + reviews_fixed.loc[reviews_fixed['authors'].str.contains('ymous')].index.astype(str).values"
   ]
  },
  {
   "cell_type": "code",
   "execution_count": 1697,
   "metadata": {},
   "outputs": [
    {
     "data": {
      "text/html": [
       "<div>\n",
       "<style scoped>\n",
       "    .dataframe tbody tr th:only-of-type {\n",
       "        vertical-align: middle;\n",
       "    }\n",
       "\n",
       "    .dataframe tbody tr th {\n",
       "        vertical-align: top;\n",
       "    }\n",
       "\n",
       "    .dataframe thead th {\n",
       "        text-align: right;\n",
       "    }\n",
       "</style>\n",
       "<table border=\"1\" class=\"dataframe\">\n",
       "  <thead>\n",
       "    <tr style=\"text-align: right;\">\n",
       "      <th></th>\n",
       "      <th>author_date</th>\n",
       "      <th>review_text</th>\n",
       "      <th>product</th>\n",
       "      <th>rating out of 5</th>\n",
       "      <th>date</th>\n",
       "      <th>authors</th>\n",
       "      <th>womenuniflag</th>\n",
       "    </tr>\n",
       "  </thead>\n",
       "  <tbody>\n",
       "    <tr>\n",
       "      <th>6</th>\n",
       "      <td>20306_written by anonymous on november 03, 2020</td>\n",
       "      <td>i bought this fragrance because i tried in the...</td>\n",
       "      <td>kate spade live colorfully</td>\n",
       "      <td>5 stars</td>\n",
       "      <td>2020-11-03</td>\n",
       "      <td>ymous _6</td>\n",
       "      <td>kate spade live colorfullywomen</td>\n",
       "    </tr>\n",
       "    <tr>\n",
       "      <th>8</th>\n",
       "      <td>20308_written by anonymous on may 15, 2020</td>\n",
       "      <td>i love it! i will definitely be purchasing a b...</td>\n",
       "      <td>kate spade live colorfully</td>\n",
       "      <td>4 stars</td>\n",
       "      <td>2020-05-15</td>\n",
       "      <td>ymous _8</td>\n",
       "      <td>kate spade live colorfullywomen</td>\n",
       "    </tr>\n",
       "    <tr>\n",
       "      <th>10</th>\n",
       "      <td>20312_written by anonymous on february 11, 2020</td>\n",
       "      <td>i love live colorfully people like it alot whe...</td>\n",
       "      <td>kate spade live colorfully</td>\n",
       "      <td>5 stars</td>\n",
       "      <td>2020-02-11</td>\n",
       "      <td>ymous _10</td>\n",
       "      <td>kate spade live colorfullywomen</td>\n",
       "    </tr>\n",
       "    <tr>\n",
       "      <th>11</th>\n",
       "      <td>20313_written by anonymous on february 09, 2020</td>\n",
       "      <td>kate spade live colorfully is the best fragran...</td>\n",
       "      <td>kate spade live colorfully</td>\n",
       "      <td>5 stars</td>\n",
       "      <td>2020-02-09</td>\n",
       "      <td>ymous _11</td>\n",
       "      <td>kate spade live colorfullywomen</td>\n",
       "    </tr>\n",
       "    <tr>\n",
       "      <th>17</th>\n",
       "      <td>20319_written by anonymous on may 13, 2018</td>\n",
       "      <td>i love this perfume. just right for me.</td>\n",
       "      <td>kate spade live colorfully</td>\n",
       "      <td>5 stars</td>\n",
       "      <td>2018-05-13</td>\n",
       "      <td>ymous _17</td>\n",
       "      <td>kate spade live colorfullywomen</td>\n",
       "    </tr>\n",
       "    <tr>\n",
       "      <th>...</th>\n",
       "      <td>...</td>\n",
       "      <td>...</td>\n",
       "      <td>...</td>\n",
       "      <td>...</td>\n",
       "      <td>...</td>\n",
       "      <td>...</td>\n",
       "      <td>...</td>\n",
       "    </tr>\n",
       "    <tr>\n",
       "      <th>46041</th>\n",
       "      <td>written by anonymous on january 15, 2015</td>\n",
       "      <td>i love this fragrance.....i wear it to work an...</td>\n",
       "      <td>ed hardy</td>\n",
       "      <td>NaN</td>\n",
       "      <td>2015-01-15</td>\n",
       "      <td>ymous _46041</td>\n",
       "      <td>ed hardywomen</td>\n",
       "    </tr>\n",
       "    <tr>\n",
       "      <th>46044</th>\n",
       "      <td>written by anonymous on december 30, 2017</td>\n",
       "      <td>the burberry weekend came without a top the bo...</td>\n",
       "      <td>burberry weekend</td>\n",
       "      <td>NaN</td>\n",
       "      <td>2017-12-30</td>\n",
       "      <td>ymous _46044</td>\n",
       "      <td>burberry weekend</td>\n",
       "    </tr>\n",
       "    <tr>\n",
       "      <th>46045</th>\n",
       "      <td>written by anonymous on september 08, 2017</td>\n",
       "      <td>wonderful fragrance! it blends with your body ...</td>\n",
       "      <td>burberry weekend</td>\n",
       "      <td>NaN</td>\n",
       "      <td>2017-09-08</td>\n",
       "      <td>ymous _46045</td>\n",
       "      <td>burberry weekend</td>\n",
       "    </tr>\n",
       "    <tr>\n",
       "      <th>46047</th>\n",
       "      <td>written by anonymous on february 06, 2017</td>\n",
       "      <td>its not long lasting</td>\n",
       "      <td>burberry weekend</td>\n",
       "      <td>NaN</td>\n",
       "      <td>2017-02-06</td>\n",
       "      <td>ymous _46047</td>\n",
       "      <td>burberry weekend</td>\n",
       "    </tr>\n",
       "    <tr>\n",
       "      <th>46048</th>\n",
       "      <td>written by anonymous on october 19, 2016</td>\n",
       "      <td>i loved this perfume. had so many compliments ...</td>\n",
       "      <td>burberry weekend</td>\n",
       "      <td>NaN</td>\n",
       "      <td>2016-10-19</td>\n",
       "      <td>ymous _46048</td>\n",
       "      <td>burberry weekend</td>\n",
       "    </tr>\n",
       "  </tbody>\n",
       "</table>\n",
       "<p>8053 rows × 7 columns</p>\n",
       "</div>"
      ],
      "text/plain": [
       "                                           author_date  \\\n",
       "6      20306_written by anonymous on november 03, 2020   \n",
       "8           20308_written by anonymous on may 15, 2020   \n",
       "10     20312_written by anonymous on february 11, 2020   \n",
       "11     20313_written by anonymous on february 09, 2020   \n",
       "17          20319_written by anonymous on may 13, 2018   \n",
       "...                                                ...   \n",
       "46041         written by anonymous on january 15, 2015   \n",
       "46044        written by anonymous on december 30, 2017   \n",
       "46045       written by anonymous on september 08, 2017   \n",
       "46047        written by anonymous on february 06, 2017   \n",
       "46048         written by anonymous on october 19, 2016   \n",
       "\n",
       "                                             review_text  \\\n",
       "6      i bought this fragrance because i tried in the...   \n",
       "8      i love it! i will definitely be purchasing a b...   \n",
       "10     i love live colorfully people like it alot whe...   \n",
       "11     kate spade live colorfully is the best fragran...   \n",
       "17               i love this perfume. just right for me.   \n",
       "...                                                  ...   \n",
       "46041  i love this fragrance.....i wear it to work an...   \n",
       "46044  the burberry weekend came without a top the bo...   \n",
       "46045  wonderful fragrance! it blends with your body ...   \n",
       "46047                               its not long lasting   \n",
       "46048  i loved this perfume. had so many compliments ...   \n",
       "\n",
       "                          product rating out of 5       date       authors  \\\n",
       "6      kate spade live colorfully         5 stars 2020-11-03      ymous _6   \n",
       "8      kate spade live colorfully         4 stars 2020-05-15      ymous _8   \n",
       "10     kate spade live colorfully         5 stars 2020-02-11     ymous _10   \n",
       "11     kate spade live colorfully         5 stars 2020-02-09     ymous _11   \n",
       "17     kate spade live colorfully         5 stars 2018-05-13     ymous _17   \n",
       "...                           ...             ...        ...           ...   \n",
       "46041                    ed hardy             NaN 2015-01-15  ymous _46041   \n",
       "46044            burberry weekend             NaN 2017-12-30  ymous _46044   \n",
       "46045            burberry weekend             NaN 2017-09-08  ymous _46045   \n",
       "46047            burberry weekend             NaN 2017-02-06  ymous _46047   \n",
       "46048            burberry weekend             NaN 2016-10-19  ymous _46048   \n",
       "\n",
       "                          womenuniflag  \n",
       "6      kate spade live colorfullywomen  \n",
       "8      kate spade live colorfullywomen  \n",
       "10     kate spade live colorfullywomen  \n",
       "11     kate spade live colorfullywomen  \n",
       "17     kate spade live colorfullywomen  \n",
       "...                                ...  \n",
       "46041                    ed hardywomen  \n",
       "46044                 burberry weekend  \n",
       "46045                 burberry weekend  \n",
       "46047                 burberry weekend  \n",
       "46048                 burberry weekend  \n",
       "\n",
       "[8053 rows x 7 columns]"
      ]
     },
     "execution_count": 1697,
     "metadata": {},
     "output_type": "execute_result"
    }
   ],
   "source": [
    "reviews_fixed[reviews_fixed['authors'].str.contains('ymous')]"
   ]
  },
  {
   "cell_type": "code",
   "execution_count": 1520,
   "metadata": {},
   "outputs": [
    {
     "name": "stderr",
     "output_type": "stream",
     "text": [
      "C:\\Users\\Rustem K\\AppData\\Local\\Temp\\ipykernel_17624\\3377038212.py:1: SettingWithCopyWarning: \n",
      "A value is trying to be set on a copy of a slice from a DataFrame.\n",
      "Try using .loc[row_indexer,col_indexer] = value instead\n",
      "\n",
      "See the caveats in the documentation: https://pandas.pydata.org/pandas-docs/stable/user_guide/indexing.html#returning-a-view-versus-a-copy\n",
      "  reviews_fixed['product'] = np.where(reviews_fixed['product'].apply(lambda x: x.replace(' ','')[-8:]).str.contains('forwomen'),\n"
     ]
    }
   ],
   "source": [
    "reviews_fixed['product'] = np.where(reviews_fixed['product'].apply(lambda x: x.replace(' ','')[-8:]).str.contains('forwomen'),\n",
    "                                         reviews_fixed['product'].apply(lambda x: ' '.join(x.split(' ')[:-2])), reviews_fixed['product'])"
   ]
  },
  {
   "cell_type": "code",
   "execution_count": 1552,
   "metadata": {},
   "outputs": [
    {
     "name": "stderr",
     "output_type": "stream",
     "text": [
      "C:\\Users\\Rustem K\\AppData\\Local\\Temp\\ipykernel_17624\\3586360648.py:1: SettingWithCopyWarning: \n",
      "A value is trying to be set on a copy of a slice from a DataFrame.\n",
      "Try using .loc[row_indexer,col_indexer] = value instead\n",
      "\n",
      "See the caveats in the documentation: https://pandas.pydata.org/pandas-docs/stable/user_guide/indexing.html#returning-a-view-versus-a-copy\n",
      "  reviews_fixed['product'] = np.where(reviews_fixed['product'].apply(lambda x: x.split(' ')[-1]).str.contains('unisex'),\n"
     ]
    }
   ],
   "source": [
    "reviews_fixed['product'] = np.where(reviews_fixed['product'].apply(lambda x: x.split(' ')[-1]).str.contains('unisex'),\n",
    "                                         reviews_fixed['product'].apply(lambda x: ' '.join(x.split(' ')[:-1])), reviews_fixed['product'])"
   ]
  },
  {
   "cell_type": "code",
   "execution_count": 1550,
   "metadata": {},
   "outputs": [
    {
     "name": "stderr",
     "output_type": "stream",
     "text": [
      "C:\\Users\\Rustem K\\AppData\\Local\\Temp\\ipykernel_17624\\1603785837.py:1: SettingWithCopyWarning: \n",
      "A value is trying to be set on a copy of a slice from a DataFrame.\n",
      "Try using .loc[row_indexer,col_indexer] = value instead\n",
      "\n",
      "See the caveats in the documentation: https://pandas.pydata.org/pandas-docs/stable/user_guide/indexing.html#returning-a-view-versus-a-copy\n",
      "  reviews_fixed['product'] = np.where(reviews_fixed['product'].apply(lambda x: x.replace(' ','')[-5:]).str.contains('women'),\n"
     ]
    }
   ],
   "source": [
    "reviews_fixed['product'] = np.where(reviews_fixed['product'].apply(lambda x: x.replace(' ','')[-5:]).str.contains('women'),\n",
    "                                         reviews_fixed['product'].apply(lambda x: ' '.join(x.split(' ')[:-1]) + ' ' + x.split(' ')[-1][:-5]).str.strip(), reviews_fixed['product'])"
   ]
  },
  {
   "cell_type": "code",
   "execution_count": 1555,
   "metadata": {},
   "outputs": [
    {
     "data": {
      "text/plain": [
       "2757"
      ]
     },
     "execution_count": 1555,
     "metadata": {},
     "output_type": "execute_result"
    }
   ],
   "source": [
    "reviews_fixed.to_csv('reviews_clean.csv', index = False)"
   ]
  },
  {
   "cell_type": "code",
   "execution_count": 1557,
   "metadata": {},
   "outputs": [],
   "source": [
    "perfumes_data['index'] = np.where(perfumes_data['index'].apply(lambda x: x.replace(' ','')[-8:]).str.contains('forwomen'),\n",
    "                                  perfumes_data['index'].apply(lambda x: ' '.join(x.split(' ')[:-2])), perfumes_data['index'])"
   ]
  },
  {
   "cell_type": "code",
   "execution_count": 1558,
   "metadata": {},
   "outputs": [],
   "source": [
    "perfumes_data['index']  = np.where(perfumes_data['index'] .apply(lambda x: x.split(' ')[-1]).str.contains('unisex'),\n",
    "                                   perfumes_data['index'] .apply(lambda x: ' '.join(x.split(' ')[:-1])), perfumes_data['index'])"
   ]
  },
  {
   "cell_type": "code",
   "execution_count": 1560,
   "metadata": {},
   "outputs": [],
   "source": [
    "perfumes_data['index'] = np.where(perfumes_data['index'].apply(lambda x: x.replace(' ','')[-5:]).str.contains('women'),\n",
    "                                         perfumes_data['index'].apply(lambda x: ' '.join(x.split(' ')[:-1]) + ' ' + x.split(' ')[-1][:-5]).str.strip(), perfumes_data['index'])"
   ]
  },
  {
   "cell_type": "code",
   "execution_count": 1561,
   "metadata": {},
   "outputs": [
    {
     "data": {
      "text/plain": [
       "2725"
      ]
     },
     "execution_count": 1561,
     "metadata": {},
     "output_type": "execute_result"
    }
   ],
   "source": [
    "len(set(perfumes_data['index']))"
   ]
  },
  {
   "cell_type": "code",
   "execution_count": 1702,
   "metadata": {},
   "outputs": [],
   "source": [
    "reviews_fixed.to_csv('reviews_clean.csv', index = False)"
   ]
  },
  {
   "attachments": {},
   "cell_type": "markdown",
   "metadata": {},
   "source": [
    "# Check"
   ]
  },
  {
   "cell_type": "code",
   "execution_count": 1719,
   "metadata": {},
   "outputs": [
    {
     "data": {
      "text/plain": [
       "12"
      ]
     },
     "execution_count": 1719,
     "metadata": {},
     "output_type": "execute_result"
    }
   ],
   "source": [
    "#sanity check - we are missing 59 entires - some are not perfumes\n",
    "not_matched = [i for i in reviews_fixed['product'].unique() if i not in perfumes_data['index'].unique()]\n",
    "len(set(not_matched))"
   ]
  },
  {
   "cell_type": "code",
   "execution_count": 1582,
   "metadata": {},
   "outputs": [
    {
     "data": {
      "text/plain": [
       "['cerruti 1881',\n",
       " 'mancera roses greedy',\n",
       " 'escentric molecule 02',\n",
       " 'ck2',\n",
       " 'flowerbomb nectar',\n",
       " 'narciso rodriguez pure musc',\n",
       " 'boucheron quatre',\n",
       " 'montale paris starry nights',\n",
       " 'elie saab girl of now forever',\n",
       " 'believe britney spears',\n",
       " 'nishane ani',\n",
       " 'meow',\n",
       " 'daisy love eau so sweet',\n",
       " 'juicy couture i am juicy couture',\n",
       " 'versace yellow diamond intense',\n",
       " 'm by mariah carey',\n",
       " 'm by mariah carey luscious pink',\n",
       " 'symétrie bliss',\n",
       " 'ck one deodorant',\n",
       " 'obsession perfume set',\n",
       " 'escentric 02',\n",
       " 'curve chill',\n",
       " 'burberry body tender',\n",
       " 'alyssa ashley musk lotion',\n",
       " '273 indigo',\n",
       " 'ck one spray',\n",
       " 'rose the one',\n",
       " 'fred hayman 273',\n",
       " 'cool water lotion',\n",
       " 'paris hilton tease',\n",
       " 'chanel no5',\n",
       " 'white tea body cream',\n",
       " 'bond no. 9 b-9',\n",
       " 'escentric 04',\n",
       " 'zarkoperfume pink molecule 090.09',\n",
       " 'bois 1920',\n",
       " 'franck olivier sun java',\n",
       " 'dancing by jessica mcclintock',\n",
       " 'delicious strawberry',\n",
       " 'extraordinary petale',\n",
       " 'essence de bois',\n",
       " 'dora the explorer',\n",
       " 'fcuk luscious vanilla & melon',\n",
       " 'calvin klein obsession lotion',\n",
       " 'mon guerlain florale',\n",
       " 'banana republic oud mosaic 17',\n",
       " 'emor london oud no. 5',\n",
       " 'great parfume. good smell all a day...',\n",
       " 'eau de sisley 2',\n",
       " 'lalique noir premier fleur universelle 1900',\n",
       " 'ck one cologne',\n",
       " 'baccarat rouge 540',\n",
       " 'elizabeth arden white tea',\n",
       " 'guerlain santal royal',\n",
       " 'obsession perfume',\n",
       " 'perfume travel atomizer',\n",
       " 'moschino toy 2',\n",
       " 'my burberry black perfume',\n",
       " 'molecule 01']"
      ]
     },
     "execution_count": 1582,
     "metadata": {},
     "output_type": "execute_result"
    }
   ],
   "source": [
    "not_matched"
   ]
  },
  {
   "cell_type": "code",
   "execution_count": 1644,
   "metadata": {},
   "outputs": [],
   "source": [
    "#find the missing entries on the web and append them manually\n",
    "\n",
    "missings = [\n",
    "    \n",
    "    {'index': 'cerruti 1881', 'Price': '$50.99', 'nm': 'eau de toilette spray 3.4 oz', 'Design House': 'Nino Cerruti', 'Fragrance Notes': 'Jasmine, Freesia, Rose, Violet, Bergamot, Iris, Lily of the Valley, Mimosa, Galbanum, Narcissus, Chamomile, Geranium, Iris, Orange Blossom, Tuberose, Brazilian Rosewood, Coriander, Jasmine, Cedar, Vanilla, Musk, Amber, Sandalwood', 'Year': '1995'},\n",
    "    \n",
    "    {'index': 'mancera roses greedy', 'Price': '$124.99', 'nm': 'eau de parfum spray 4 oz', 'Design House': 'Mancera', 'Fragrance Notes': 'Black Currant, Peach, White Musk, Sugar, Vanilla', 'Year': '2012'},\n",
    "    \n",
    "    {'index': 'escentric molecule 02', 'Price': '$129.99', 'nm': 'eau de toilette spray 3.5 oz', 'Design House': 'Escentric Molecules', 'Fragrance Notes': 'Ambroxan', 'Year': '2008'},\n",
    "    \n",
    "    {'index': 'ck2', 'Price': '$15.99', 'nm': 'eau de toilette spray 0.68 oz', 'Design House': 'Calvin Klein', 'Fragrance Notes': 'Mandarin Orange, Wasabi, Hedione, Rose, Sandalwood', 'Year': '2016'},\n",
    "    \n",
    "    {'index': 'flowerbomb nectar', 'Price': '$204.99', 'nm': 'eau de parfum intense spray 3 oz', 'Design House': 'Viktor & Rolf', 'Fragrance Notes': 'Tonka Bean, Vanilla, Patchouli, Osmanthus, Orange Blossom', 'Year': '2018'},\n",
    "    \n",
    "    {'index': 'narciso rodriguez pure musc', 'Price': '$125.99', 'nm': 'eau de parfum spray 3.3 oz', 'Design House': 'Narciso Rodriguez', 'Fragrance Notes': 'Musk, Flowers, Cashmeran', 'Year': '2019'},\n",
    "    \n",
    "    {'index': 'boucheron quatre', 'Price': '$61.99', 'nm': 'eau de parfum spray 3.3 oz', 'Design House': 'Boucheron', 'Fragrance Notes': 'Lemon, Lime, Violet Leaf, Jasmine Sambac, Rose', 'Year': '2015'},\n",
    "    \n",
    "    {'index': 'montale paris starry nights', 'Price': '$129.99', 'nm': 'eau de parfum spray 3.4 oz', 'Design House': 'Montale', 'Fragrance Notes': 'Rose, Jasmine, Bergamot, Apple, Lemon', 'Year': '2015'},\n",
    "    \n",
    "    {'index': 'elie saab girl of now forever', 'Price': '$58.99', 'nm': 'eau de parfum spray 1.6 oz', 'Design House': 'Elie Saab', 'Fragrance Notes': 'Rose, Orange Blossom, Vanilla, Patchouli, Almond', 'Year': '2019'},\n",
    "    \n",
    "    {'index': 'believe britney spears', 'Price': '$26.99', 'nm': 'Eau De Parfum Spray 3.3 oz', 'Design House': 'Britney Spears', 'Fragrance Notes': 'Guava, Tangerine, Honeysuckle, Lime blossom, Praline', 'Year': '2007'},\n",
    "    \n",
    "    {'index': 'nishane ani', 'Price': '$206.99', 'nm': 'Extrait De Parfum Spray 1.7 oz', 'Design House': 'Nishane', 'Fragrance Notes': 'Ginger, Bergamot, Pink Pepper, Turkish Rose, Vanilla', 'Year': '2019'},\n",
    "    \n",
    "    {'index': 'meow', 'Price': '$45.99', 'nm': 'Eau De Parfum Spray 3.4 oz', 'Design House': 'Katy Perry', 'Fragrance Notes': 'Jasmine, Gardenia, Tangerine, Pear, Honeysuckle', 'Year': '2011'},\n",
    "    \n",
    "    {'index': 'daisy love eau so sweet', 'Price': '$134.99', 'nm': 'Eau De Toilette Spray 3.3 oz', 'Design House': 'Marc Jacobs', 'Fragrance Notes': 'Raspberry, Bergamot, Blackberry, Daisy, Musk', 'Year': '2019'},\n",
    "    \n",
    "    {'index': 'juicy couture i am juicy couture', 'Price': '$64.99', 'nm': 'eau de parfum spray 3.4 oz', 'Design House': 'Juicy Couture', 'Fragrance Notes': 'Gardenia, Sweet Pea, Heliotrope, Rose, Musk', 'Year': '2015'},\n",
    "    \n",
    "    {'index': 'versace yellow diamond intense', 'Price': '$90.99', 'nm': 'eau de parfum spray (new packaging) 3 oz', 'Design House': 'Gianni Versace', 'Fragrance Notes': 'Neroli, Citron, Pear, Bergamot, Orange Blossom', 'Year': '2014'},\n",
    "\n",
    "    {'index': 'm by mariah carey', 'Price': '$44.99', 'nm': 'm by mariah carey', 'Design House': 'Mariah Carey', 'Fragrance Notes': 'Marshmallow, Incense, Tiare flower, Gardenia, Patchouli', 'Year': '2007'},\n",
    "    \n",
    "    {'index': 'm by mariah carey luscious pink', 'Price': '$46.99', 'nm': 'Eau De Parfum Spray 3.3 oz', 'Design House': 'Mariah Carey', 'Fragrance Notes': 'Sicilian bergamot, Bellini, Sea notes, Tiare, Lily of the valley', 'Year': '2008'},\n",
    "   \n",
    "    {'index': 'symétrie bliss', 'Price': '$34.99', 'nm': 'Eau De Parfum Spray 3.4 oz', 'Design House': 'Symétrie', 'Fragrance Notes': 'White pear, freesia, rose, peonies, violet, patchouli, amber and vanilla absolute', 'Year': '2017'},\n",
    "    \n",
    "    {'index': 'escentric 02', 'Price': '$89.99', 'nm': 'eau de toilette spray 3.5 oz', 'Design House': 'Escentric Molecules', 'Fragrance Notes': 'jasmine, iris, ambroxan, iso E Super', 'Year': '2008'},\n",
    "    \n",
    "    {'index': 'curve chill', 'Price': '$21.99', 'nm': 'Eau De Toilette Spray 3.4 oz', 'Design House': 'Liz Claiborne', 'Fragrance Notes': 'Lemon, Green Tea, Ginger, Freesia, Peony', 'Year': '2006'},\n",
    "    \n",
    "    {'index': 'burberry body tender', 'Price': '$9.99', 'nm': 'eau de toilette mini 0.15 oz', 'Design House': 'Burberry', 'Fragrance Notes': 'Apple, Wormwood, Peach, Lemon, Rose', 'Year': '2013'},\n",
    "    \n",
    "    {'index': '273 indigo', 'Price': '$0.99', 'nm': 'eau de parfum vial 0.05 oz', 'Design House': 'Fred Hayman', 'Fragrance Notes': 'Orange, Peach, Jasmine, Carnation, Vanilla', 'Year': '2003'},\n",
    "    \n",
    "    {'index': 'rose the one', 'Price': '$5.99', 'nm': 'Eau De Parfum Spray Vial 0.05 oz', 'Design House': 'Dolce & Gabbana', 'Fragrance Notes': 'Madonna lily, pink grapefruit, blackcurrant, lily of the valley, sandalwood, litchi, peony, ambrette seed, musk, vanilla, mandarin, rose', 'Year': '2009'},\n",
    "\n",
    "\n",
    "    {'index': 'fred hayman 273', 'Price': '$32.99', 'nm': 'Eau De Parfum Spray 2.5 oz', 'Design House': 'Fred Hayman', 'Fragrance Notes': 'gardenia, exotic fruits, amber, sandalwood', 'Year': '1989'},\n",
    "    \n",
    "    {'index': 'paris hilton tease', 'Price': '$29.99', 'nm': 'eau de parfum spray 3.4 oz', 'Design House': 'Paris Hilton', 'Fragrance Notes': 'Apples, Peaches, Bergamot, White Flowers, Amber, Hot Sand', 'Year': '2010'},\n",
    "    \n",
    "    {'index': 'chanel no5', 'Price': '$159.99', 'nm': 'Eau De Parfum 3.4 oz', 'Design House': 'Chanel', 'Fragrance Notes': 'Jasmine, Rose, Lily-of-the-valley, Vanilla, Sandalwood', 'Year': '1986'},\n",
    "    \n",
    "    {'index': 'bond no. 9 b-9', 'Price': '$389.99', 'nm': 'Eau De Parfum Spray 3.3 oz', 'Design House': 'Bond No. 9', 'Fragrance Notes': 'Musk, Amber, Jasmine, Orchid, Sandalwood', 'Year': '2015'},\n",
    "    \n",
    "    {'index': 'escentric 04', 'Price': '$73.99', 'nm': 'escentric 04', 'Design House': 'Escentric Molecules', 'Fragrance Notes': 'Sandalwood', 'Year': '2017'},\n",
    "    \n",
    "    {'index': 'zarkoperfume pink molecule 090.09', 'Price': '$155.99', 'nm': 'Eau De Parfum Spray 3.3 oz', 'Design House': 'Zarkoperfume', 'Fragrance Notes': 'Champagne, Black Orchid, Apricot, Black Elder, Blackwood, Whipped Cream, Mahogany', 'Year': '2014'},\n",
    "    \n",
    "    {'index': 'bois 1920', 'Price': '$113.99', 'nm': 'sushi imperiale eau de parfum spray 1.7 oz', 'Design House': 'Bois 1920', 'Fragrance Notes': 'Tobacco, Amber, Musk, Cedar, Apricot, Lavender', 'Year': '2005'},\n",
    "    \n",
    "    {'index': 'franck olivier sun java', 'Price': '$30.99', 'nm': 'eau de toilette spray 2.5 oz', 'Design House': 'Franck Olivier', 'Fragrance Notes': 'Mandarin Orange, Mint, Bergamot, Watermelon, Amber', 'Year': '2005'},\n",
    "    \n",
    "    {'index': 'dancing by jessica mcclintock', 'Price': '$40.99', 'nm': 'eau de parfum spray 3.4 oz', 'Design House': 'Jessica Mcclintock', 'Fragrance Notes': 'Bergamot, Lemon, Apple, Jasmine, Cedar', 'Year': '2013'},\n",
    "    \n",
    "    {'index': 'extraordinary petale', 'Price': '$28.99', 'nm': 'eau de parfum spray 3 oz', 'Design House': 'Oscar De La Renta', 'Fragrance Notes': 'Champagne, Bergamot, Jasmime, Rose,Musk', 'Year': '2016'},\n",
    "    \n",
    "    {'index': 'essence de bois', 'Price': '$99.99', 'nm': 'eau de parfum spray 3.4 oz', 'Design House': 'Cartier', 'Fragrance Notes': 'Bergamot, Yuzu, Violet leaf, Lavender, Violet', 'Year': '2012'},\n",
    "    \n",
    "    {'index': 'mon guerlain florale', 'Price': '$137.99', 'nm': 'eau de parfum spray 1.6 oz', 'Design House': 'Guerlain', 'Fragrance Notes': 'Jasmine Sambac, floral notes, Neroli, Peach, Vanilla', 'Year': '2018'},\n",
    "    \n",
    "    {'index': 'banana republic oud mosaic 17', 'Price': '$94.99', 'nm': 'eau de parfum spray 2.5 oz', 'Design House': 'Banana Republic', 'Fragrance Notes': 'White Pepper, Cardamom, Turkish Rose, Labdanum, Oud', 'Year': '2017'},\n",
    "    \n",
    "    {'index': 'emor london oud no. 5', 'Price': '$127.99', 'nm': 'eau de parfum spray 4.2 oz', 'Design House': 'Emor London', 'Fragrance Notes': 'Mint, Lemon, Bergamot, Lavender, White Flowers, Jasmine, Nutmeg, Agarwood, Cedar, Cardamom, Patchouli', 'Year': '2015'},\n",
    "\n",
    "    {'index': 'eau de sisley 2', 'Price': '$171.99', 'nm': 'eau de toilette spray 3.3 oz', 'Design House': 'Sisley', 'Fragrance Notes': 'Bergamot, Basil, Cardamom, Jasmine, Iris', 'Year': '2009'},\n",
    "    \n",
    "    {'index': 'lalique noir premier fleur universelle 1900', 'Price': '$174.99', 'nm': 'eau de parfum spray 3.3 oz', 'Design House': 'Lalique', 'Fragrance Notes': 'immortelle, patchouli, lorenox, myrhh, cinnamon', 'Year': '2014'},\n",
    "    \n",
    "    {'index': 'ck one cologne', 'Price': '$52.99', 'nm': 'eau de toilette spray 6.7 oz', 'Design House': 'Calvin Klein', 'Fragrance Notes': 'Bergamot, Papaya, Lemon, Mandarin Orange, Cardamom, Green Notes, Pineapple, Lily of the Valley, Jasmine, Orris Root, Rose, Violet, Nutmeg, Oakmoss, Cedar, Musk, Amber, Sandalwood', 'Year': '1994'},\n",
    "    \n",
    "    {'index': 'baccarat rouge 540', 'Price': '$489.99', 'nm': 'eau de parfum spray 2.4 oz', 'Design House': 'Maison Francis', 'Fragrance Notes': 'Jasmine, Amberwood, Ambergris, Saffron, Cedar', 'Year': '2015'},\n",
    "    \n",
    "    {'index': 'elizabeth arden white tea', 'Price': '$42.99', 'nm': 'eau de toilette spray 3.3 oz', 'Design House': 'Elizabeth Arden', 'Fragrance Notes': 'Mandarin Orange, Clary Sage, Fern, Sea Notes, White Tea', 'Year': '2017'},\n",
    "    \n",
    "    {'index': 'guerlain santal royal', 'Price': '$263.99', 'nm': 'eau de parfum spray 4.2 oz', 'Design House': 'Guerlain Santal Royal', 'Fragrance Notes': 'Jasmine, Neroli, Rose, Cinnamon, Leather', 'Year': '2016'},\n",
    "    \n",
    "    {'index': 'obsession perfume', 'Price': '$42.99', 'nm': 'eau de parfum spray 3.4 oz', 'Design House': 'Calvin Klein', 'Fragrance Notes': 'Basil, Peach, Vanilla, Lemon, Bergamot, Mandarin Orange, Green Notes, Jasmine, Orange Blossom, Rose, Cedar, Sandalwood, Coriander, Oakmoss, Spices, Vetiver, Vanilla, Incense, Civet, Musk, Amber', 'Year': '1985'},\n",
    "    \n",
    "    {'index': 'moschino toy 2', 'Price': '$72.99', 'nm': 'eau de parfum spray 3.4 oz', 'Design House': 'Moschino', 'Fragrance Notes': 'Peony, Jasmine, Amberwood, Musk, Apple', 'Year': '2018'},\n",
    "    \n",
    "    {'index': 'my burberry black perfume', 'Price': '$150.99', 'nm': 'parfum spray (new packaging) 3 oz', 'Design House': 'Burberry', 'Fragrance Notes': 'Jasmine, Rose, Peach, Patchouli, Amber', 'Year': '2016'},\n",
    "    \n",
    "    {'index': 'molecule 01', 'Price': '$114.99', 'nm': 'eau de toilette spray 3.5 oz', 'Design House': 'Escentric Molecules', 'Fragrance Notes': 'Iso E Super', 'Year': '2006'}\n",
    "]"
   ]
  },
  {
   "cell_type": "code",
   "execution_count": 1606,
   "metadata": {},
   "outputs": [],
   "source": [
    "perfumes_data = perfumes_data.drop('name_char', axis = 1)"
   ]
  },
  {
   "cell_type": "code",
   "execution_count": 1710,
   "metadata": {},
   "outputs": [
    {
     "data": {
      "text/html": [
       "<div>\n",
       "<style scoped>\n",
       "    .dataframe tbody tr th:only-of-type {\n",
       "        vertical-align: middle;\n",
       "    }\n",
       "\n",
       "    .dataframe tbody tr th {\n",
       "        vertical-align: top;\n",
       "    }\n",
       "\n",
       "    .dataframe thead th {\n",
       "        text-align: right;\n",
       "    }\n",
       "</style>\n",
       "<table border=\"1\" class=\"dataframe\">\n",
       "  <thead>\n",
       "    <tr style=\"text-align: right;\">\n",
       "      <th></th>\n",
       "      <th>index</th>\n",
       "      <th>Price</th>\n",
       "      <th>nm</th>\n",
       "      <th>Design House</th>\n",
       "      <th>Fragrance Notes</th>\n",
       "      <th>Year</th>\n",
       "    </tr>\n",
       "  </thead>\n",
       "  <tbody>\n",
       "    <tr>\n",
       "      <th>3218</th>\n",
       "      <td>molecule 01</td>\n",
       "      <td>$114.99</td>\n",
       "      <td>eau de toilette spray 3.5 oz</td>\n",
       "      <td>Escentric Molecules</td>\n",
       "      <td>Iso E Super</td>\n",
       "      <td>2006</td>\n",
       "    </tr>\n",
       "  </tbody>\n",
       "</table>\n",
       "</div>"
      ],
      "text/plain": [
       "            index    Price                            nm         Design House  \\\n",
       "3218  molecule 01  $114.99  eau de toilette spray 3.5 oz  Escentric Molecules   \n",
       "\n",
       "     Fragrance Notes  Year  \n",
       "3218     Iso E Super  2006  "
      ]
     },
     "execution_count": 1710,
     "metadata": {},
     "output_type": "execute_result"
    }
   ],
   "source": [
    "perfumes_data[perfumes_data.duplicated(subset = ['index', 'Price', 'nm', 'Design House'])]"
   ]
  },
  {
   "cell_type": "code",
   "execution_count": 1649,
   "metadata": {},
   "outputs": [],
   "source": [
    "perfumes_data = pd.concat([perfumes_data, pd.DataFrame(missings)], ignore_index=True)"
   ]
  },
  {
   "cell_type": "code",
   "execution_count": 1714,
   "metadata": {},
   "outputs": [],
   "source": [
    "perfumes_data = perfumes_data.drop_duplicates(subset = ['index', 'Price', 'nm'])"
   ]
  },
  {
   "cell_type": "code",
   "execution_count": 1715,
   "metadata": {},
   "outputs": [],
   "source": [
    "perfumes_data.to_csv('perfumes_data_almost_clean.csv', index = False)"
   ]
  }
 ],
 "metadata": {
  "kernelspec": {
   "display_name": "Python 3",
   "language": "python",
   "name": "python3"
  },
  "language_info": {
   "codemirror_mode": {
    "name": "ipython",
    "version": 3
   },
   "file_extension": ".py",
   "mimetype": "text/x-python",
   "name": "python",
   "nbconvert_exporter": "python",
   "pygments_lexer": "ipython3",
   "version": "3.10.5"
  },
  "orig_nbformat": 4,
  "vscode": {
   "interpreter": {
    "hash": "8a6010d87c80b1b4fbf5521ebed1caf8f651463f76ee65122990b820cc2254b8"
   }
  }
 },
 "nbformat": 4,
 "nbformat_minor": 2
}
