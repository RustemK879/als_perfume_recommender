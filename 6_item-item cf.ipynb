{
 "cells": [
  {
   "attachments": {},
   "cell_type": "markdown",
   "metadata": {},
   "source": [
    "In this notebook, we finally build a recommender."
   ]
  },
  {
   "cell_type": "code",
   "execution_count": 27,
   "metadata": {},
   "outputs": [],
   "source": [
    "import pandas as pd\n",
    "import numpy as np\n",
    "from sklearn.utils import shuffle\n",
    "import matplotlib.pyplot as plt\n",
    "from collections import defaultdict\n",
    "import pickle"
   ]
  },
  {
   "attachments": {},
   "cell_type": "markdown",
   "metadata": {},
   "source": [
    "# Preps"
   ]
  },
  {
   "attachments": {},
   "cell_type": "markdown",
   "metadata": {},
   "source": [
    "First, let's get our dataset and construct a plan:"
   ]
  },
  {
   "cell_type": "code",
   "execution_count": 28,
   "metadata": {},
   "outputs": [],
   "source": [
    "data = pd.read_csv(r'E:\\parsing project\\merged_after_nlp.csv')"
   ]
  },
  {
   "attachments": {},
   "cell_type": "markdown",
   "metadata": {},
   "source": [
    "Assign ids for encoding and decoding:"
   ]
  },
  {
   "cell_type": "code",
   "execution_count": 29,
   "metadata": {},
   "outputs": [],
   "source": [
    "author_ids_dict = dict()\n",
    "author_ids_dict_rev = dict()\n",
    "author_ids = 0\n",
    "authors = set(data['authors'])\n",
    "\n",
    "for i in authors:\n",
    "    author_ids_dict[author_ids] = i\n",
    "    author_ids_dict_rev[i] = author_ids\n",
    "    author_ids += 1\n",
    "\n",
    "item_ids_dict = dict()\n",
    "item_ids_dict_rev = dict()\n",
    "item_ids = 0\n",
    "items = set(data['product'])\n",
    "\n",
    "for i in items:\n",
    "    item_ids_dict[item_ids] = i\n",
    "    item_ids_dict_rev[i] = item_ids\n",
    "    item_ids += 1\n",
    "    \n",
    "data['author_id'] = data['authors'].map(author_ids_dict_rev)\n",
    "data['item_id'] = data['product'].map(item_ids_dict_rev)"
   ]
  },
  {
   "cell_type": "code",
   "execution_count": 30,
   "metadata": {},
   "outputs": [],
   "source": [
    "with open('author_ids_dict', 'wb') as q:\n",
    "  pickle.dump(author_ids_dict, q)\n",
    "  q.close()\n",
    "with open('author_ids_dict_rev', 'wb') as q:\n",
    "  pickle.dump(author_ids_dict_rev, q)\n",
    "  q.close()\n",
    "with open('item_ids_dict', 'wb') as q:\n",
    "  pickle.dump(item_ids_dict, q)\n",
    "  q.close()\n",
    "with open('item_ids_dict_rev', 'wb') as q:\n",
    "  pickle.dump(item_ids_dict_rev, q)\n",
    "  q.close()"
   ]
  },
  {
   "cell_type": "code",
   "execution_count": 31,
   "metadata": {},
   "outputs": [
    {
     "data": {
      "text/html": [
       "<div>\n",
       "<style scoped>\n",
       "    .dataframe tbody tr th:only-of-type {\n",
       "        vertical-align: middle;\n",
       "    }\n",
       "\n",
       "    .dataframe tbody tr th {\n",
       "        vertical-align: top;\n",
       "    }\n",
       "\n",
       "    .dataframe thead th {\n",
       "        text-align: right;\n",
       "    }\n",
       "</style>\n",
       "<table border=\"1\" class=\"dataframe\">\n",
       "  <thead>\n",
       "    <tr style=\"text-align: right;\">\n",
       "      <th></th>\n",
       "      <th>author_date</th>\n",
       "      <th>review_text</th>\n",
       "      <th>product</th>\n",
       "      <th>rating out of 5</th>\n",
       "      <th>date</th>\n",
       "      <th>authors</th>\n",
       "      <th>Price</th>\n",
       "      <th>nm</th>\n",
       "      <th>Design House</th>\n",
       "      <th>Fragrance Notes</th>\n",
       "      <th>Year</th>\n",
       "      <th>author_id</th>\n",
       "      <th>item_id</th>\n",
       "      <th>oz</th>\n",
       "      <th>Price per oz ($)</th>\n",
       "      <th>for_nlp</th>\n",
       "      <th>num_rating</th>\n",
       "    </tr>\n",
       "  </thead>\n",
       "  <tbody>\n",
       "    <tr>\n",
       "      <th>0</th>\n",
       "      <td>20300_written by jan on december 06, 2022</td>\n",
       "      <td>one of my favorites!!! i don't care when i wea...</td>\n",
       "      <td>kate spade live colorfully</td>\n",
       "      <td>5 stars</td>\n",
       "      <td>2022-12-06</td>\n",
       "      <td>jan</td>\n",
       "      <td>19.99</td>\n",
       "      <td>eau de parfum spray 0.27 oz travel spray</td>\n",
       "      <td>kate spade</td>\n",
       "      <td>mandarin orange, water lilly, star anise, tiar...</td>\n",
       "      <td>2013</td>\n",
       "      <td>10006</td>\n",
       "      <td>221</td>\n",
       "      <td>0.27</td>\n",
       "      <td>74.04</td>\n",
       "      <td>0</td>\n",
       "      <td>5.0</td>\n",
       "    </tr>\n",
       "  </tbody>\n",
       "</table>\n",
       "</div>"
      ],
      "text/plain": [
       "                                 author_date  \\\n",
       "0  20300_written by jan on december 06, 2022   \n",
       "\n",
       "                                         review_text  \\\n",
       "0  one of my favorites!!! i don't care when i wea...   \n",
       "\n",
       "                      product rating out of 5        date authors  Price  \\\n",
       "0  kate spade live colorfully         5 stars  2022-12-06     jan  19.99   \n",
       "\n",
       "                                         nm Design House  \\\n",
       "0  eau de parfum spray 0.27 oz travel spray   kate spade   \n",
       "\n",
       "                                     Fragrance Notes  Year  author_id  \\\n",
       "0  mandarin orange, water lilly, star anise, tiar...  2013      10006   \n",
       "\n",
       "   item_id    oz  Price per oz ($)  for_nlp  num_rating  \n",
       "0      221  0.27             74.04        0         5.0  "
      ]
     },
     "execution_count": 31,
     "metadata": {},
     "output_type": "execute_result"
    }
   ],
   "source": [
    "data.head(1)"
   ]
  },
  {
   "cell_type": "code",
   "execution_count": 32,
   "metadata": {},
   "outputs": [],
   "source": [
    "data['num_rating'] = data['num_rating'].astype(int)"
   ]
  },
  {
   "cell_type": "code",
   "execution_count": 33,
   "metadata": {},
   "outputs": [
    {
     "data": {
      "text/html": [
       "<div>\n",
       "<style scoped>\n",
       "    .dataframe tbody tr th:only-of-type {\n",
       "        vertical-align: middle;\n",
       "    }\n",
       "\n",
       "    .dataframe tbody tr th {\n",
       "        vertical-align: top;\n",
       "    }\n",
       "\n",
       "    .dataframe thead th {\n",
       "        text-align: right;\n",
       "    }\n",
       "</style>\n",
       "<table border=\"1\" class=\"dataframe\">\n",
       "  <thead>\n",
       "    <tr style=\"text-align: right;\">\n",
       "      <th></th>\n",
       "      <th>author_date</th>\n",
       "      <th>review_text</th>\n",
       "      <th>product</th>\n",
       "      <th>rating out of 5</th>\n",
       "      <th>date</th>\n",
       "      <th>authors</th>\n",
       "      <th>Price</th>\n",
       "      <th>nm</th>\n",
       "      <th>Design House</th>\n",
       "      <th>Fragrance Notes</th>\n",
       "      <th>Year</th>\n",
       "      <th>author_id</th>\n",
       "      <th>item_id</th>\n",
       "      <th>oz</th>\n",
       "      <th>Price per oz ($)</th>\n",
       "      <th>for_nlp</th>\n",
       "      <th>num_rating</th>\n",
       "    </tr>\n",
       "  </thead>\n",
       "  <tbody>\n",
       "    <tr>\n",
       "      <th>22</th>\n",
       "      <td>20324_written by vrod on january 01, 2016</td>\n",
       "      <td>i just love the smell of this perfume and i ge...</td>\n",
       "      <td>kate spade live colorfully</td>\n",
       "      <td>5 stars</td>\n",
       "      <td>2016-01-01</td>\n",
       "      <td>vrod</td>\n",
       "      <td>19.99</td>\n",
       "      <td>eau de parfum spray 0.27 oz travel spray</td>\n",
       "      <td>kate spade</td>\n",
       "      <td>mandarin orange, water lilly, star anise, tiar...</td>\n",
       "      <td>2013</td>\n",
       "      <td>17466</td>\n",
       "      <td>221</td>\n",
       "      <td>0.27</td>\n",
       "      <td>74.04</td>\n",
       "      <td>0</td>\n",
       "      <td>5</td>\n",
       "    </tr>\n",
       "  </tbody>\n",
       "</table>\n",
       "</div>"
      ],
      "text/plain": [
       "                                  author_date  \\\n",
       "22  20324_written by vrod on january 01, 2016   \n",
       "\n",
       "                                          review_text  \\\n",
       "22  i just love the smell of this perfume and i ge...   \n",
       "\n",
       "                       product rating out of 5        date authors  Price  \\\n",
       "22  kate spade live colorfully         5 stars  2016-01-01    vrod  19.99   \n",
       "\n",
       "                                          nm Design House  \\\n",
       "22  eau de parfum spray 0.27 oz travel spray   kate spade   \n",
       "\n",
       "                                      Fragrance Notes  Year  author_id  \\\n",
       "22  mandarin orange, water lilly, star anise, tiar...  2013      17466   \n",
       "\n",
       "    item_id    oz  Price per oz ($)  for_nlp  num_rating  \n",
       "22      221  0.27             74.04        0           5  "
      ]
     },
     "execution_count": 33,
     "metadata": {},
     "output_type": "execute_result"
    }
   ],
   "source": [
    "data[data[['author_id', 'item_id', 'num_rating']].duplicated()].head(1) "
   ]
  },
  {
   "attachments": {},
   "cell_type": "markdown",
   "metadata": {},
   "source": [
    "It seems that we have duplicated reviews - drop them if the ratings are identical."
   ]
  },
  {
   "cell_type": "code",
   "execution_count": 34,
   "metadata": {},
   "outputs": [],
   "source": [
    "data_for_rec = data[['author_id', 'item_id', 'num_rating']].drop_duplicates().reset_index(drop = True)"
   ]
  },
  {
   "cell_type": "code",
   "execution_count": 35,
   "metadata": {},
   "outputs": [],
   "source": [
    "data_for_rec = data_for_rec.reset_index(drop=True)"
   ]
  },
  {
   "attachments": {},
   "cell_type": "markdown",
   "metadata": {},
   "source": [
    "137 observations rated an item twice or more with different ratings - I decided to keep the lowest rating:"
   ]
  },
  {
   "cell_type": "code",
   "execution_count": 36,
   "metadata": {},
   "outputs": [],
   "source": [
    "data_for_rec = data_for_rec.sort_values(['author_id', 'num_rating']).drop_duplicates(subset = ['author_id', 'item_id'], keep= 'first')"
   ]
  },
  {
   "cell_type": "code",
   "execution_count": 37,
   "metadata": {},
   "outputs": [],
   "source": [
    "def ismissing(df):\n",
    "    for i in df.columns:\n",
    "        print(f'Missing data for column {i}: {round((100*df[i].isna().sum()/len(df)), 3)}%')"
   ]
  },
  {
   "cell_type": "code",
   "execution_count": 38,
   "metadata": {},
   "outputs": [
    {
     "name": "stdout",
     "output_type": "stream",
     "text": [
      "Missing data for column author_id: 0.0%\n",
      "Missing data for column item_id: 0.0%\n",
      "Missing data for column num_rating: 0.0%\n"
     ]
    }
   ],
   "source": [
    "ismissing(data_for_rec) #no missing values"
   ]
  },
  {
   "cell_type": "code",
   "execution_count": 39,
   "metadata": {},
   "outputs": [
    {
     "data": {
      "text/plain": [
       "Text(0.5, 1.0, 'Reviews per user')"
      ]
     },
     "execution_count": 39,
     "metadata": {},
     "output_type": "execute_result"
    },
    {
     "data": {
      "image/png": "[encoded data removed]",
      "text/plain": [
       "<Figure size 1000x500 with 1 Axes>"
      ]
     },
     "metadata": {},
     "output_type": "display_data"
    }
   ],
   "source": [
    "plt.figure(figsize = (10,5))\n",
    "r_count = data_for_rec.groupby('author_id')['num_rating'].agg('count').value_counts()\n",
    "r_count.groupby(np.where(r_count.index > 3, '4 and above', r_count.index)).sum().plot(kind = 'bar')\n",
    "plt.xticks(rotation=50)\n",
    "plt.xlabel('Reviews')\n",
    "plt.ylabel('Count')\n",
    "plt.title('Reviews per user')"
   ]
  },
  {
   "attachments": {},
   "cell_type": "markdown",
   "metadata": {},
   "source": [
    "It seems like most of the users only left one review. The extreme skewedness of reviews per user can be a potential indicator of lack of motivation/reward to leave more reviews. The business (site owners) might consider adding some incentives to encourage people to leave more reviews/rating stars. What I noticed on the UI of this particular site is that it is not possible to leave a star review without leaving a text review, but it is possible to leave a text review without leaving a star review. This UI element would probably discourage some users to leave star ratings, since not all users want to write text reviews to give a star rating (I would argue that most of the users would be happy to just give it a star rating, since that is less troublesome).\n",
    "\n",
    "\n",
    "This makes it harder to build a robust recommendation system; however, we can try to go hybrid - recommend the most popular items for users with less than 3 reviews and use item-item CF for users with 3 or more reviews. Let's also look at the rating-item distribution once again:"
   ]
  },
  {
   "cell_type": "code",
   "execution_count": 40,
   "metadata": {},
   "outputs": [
    {
     "data": {
      "text/plain": [
       "([], [])"
      ]
     },
     "execution_count": 40,
     "metadata": {},
     "output_type": "execute_result"
    },
    {
     "data": {
      "image/png": "[encoded data removed]",
      "text/plain": [
       "<Figure size 5000x3000 with 1 Axes>"
      ]
     },
     "metadata": {},
     "output_type": "display_data"
    }
   ],
   "source": [
    "plt.figure(figsize = (50, 30))\n",
    "data_for_rec.groupby('item_id')['num_rating'].count().sort_values(ascending=False).plot(kind = 'bar')\n",
    "plt.xticks([])"
   ]
  },
  {
   "cell_type": "code",
   "execution_count": 41,
   "metadata": {},
   "outputs": [
    {
     "data": {
      "text/plain": [
       "1095"
      ]
     },
     "execution_count": 41,
     "metadata": {},
     "output_type": "execute_result"
    }
   ],
   "source": [
    "#sum of the items with less than 5 ratings\n",
    "(data_for_rec.groupby('item_id')['num_rating'].count().sort_values(ascending=False) < 5).sum()"
   ]
  },
  {
   "attachments": {},
   "cell_type": "markdown",
   "metadata": {},
   "source": [
    "The rating item distribution is heavily skewed as well. Out of 2200 items, half of the items have less than 5 ratings."
   ]
  },
  {
   "attachments": {},
   "cell_type": "markdown",
   "metadata": {},
   "source": [
    "Baseline recommender: Recommend the most rated items (top 50):"
   ]
  },
  {
   "cell_type": "code",
   "execution_count": 42,
   "metadata": {},
   "outputs": [],
   "source": [
    "mostrated50 = data_for_rec.groupby('item_id')['num_rating'].agg(['count', 'mean']).sort_values(by = ['count', 'mean'], ascending= False)['count'][:50]"
   ]
  },
  {
   "attachments": {},
   "cell_type": "markdown",
   "metadata": {},
   "source": [
    "Choose items with at least 20 reviews:"
   ]
  },
  {
   "cell_type": "code",
   "execution_count": 43,
   "metadata": {},
   "outputs": [],
   "source": [
    "filteritem = data_for_rec.groupby('item_id')['author_id'].count()\n",
    "itemids = filteritem[filteritem >=20].index\n",
    "atleast20items = data_for_rec[data_for_rec['item_id'].isin(itemids)]"
   ]
  },
  {
   "attachments": {},
   "cell_type": "markdown",
   "metadata": {},
   "source": [
    "Let's see how sparse our user-item matrix is:"
   ]
  },
  {
   "cell_type": "code",
   "execution_count": 44,
   "metadata": {},
   "outputs": [
    {
     "data": {
      "text/plain": [
       "0.309"
      ]
     },
     "execution_count": 44,
     "metadata": {},
     "output_type": "execute_result"
    }
   ],
   "source": [
    "sparsity = atleast20items[['author_id', 'item_id']].nunique()\n",
    "round(100 * len(atleast20items)/(sparsity[0] * sparsity[1]), 3)"
   ]
  },
  {
   "attachments": {},
   "cell_type": "markdown",
   "metadata": {},
   "source": [
    "This basically tells us that only 0.3% of our matrix has values, which implies that our matrix is extremely sparse (i.e. most entries are zero)."
   ]
  },
  {
   "cell_type": "code",
   "execution_count": 45,
   "metadata": {},
   "outputs": [],
   "source": [
    "from surprise import Dataset, SVD,  Reader, BaselineOnly, accuracy\n",
    "from surprise import KNNBasic\n",
    "from surprise.model_selection import cross_validate\n",
    "from collections import defaultdict\n",
    "from surprise.model_selection import KFold"
   ]
  },
  {
   "cell_type": "code",
   "execution_count": 46,
   "metadata": {},
   "outputs": [],
   "source": [
    "reader = Reader(line_format=\"user item rating\", rating_scale=(1,5))\n",
    "data = Dataset.load_from_df(atleast20items, reader = reader)"
   ]
  },
  {
   "attachments": {},
   "cell_type": "markdown",
   "metadata": {},
   "source": [
    "Custom test set - from each user, sample one observation for the test set:"
   ]
  },
  {
   "cell_type": "code",
   "execution_count": 47,
   "metadata": {},
   "outputs": [],
   "source": [
    "test = atleast20items.groupby('item_id').apply(lambda x: x.sample(5, random_state=42)).reset_index(drop=True)\n",
    "len(set(test['author_id']))\n",
    "\n",
    "train = pd.concat([atleast20items, test]).drop_duplicates(keep= False).reset_index(drop=True)"
   ]
  },
  {
   "cell_type": "code",
   "execution_count": 48,
   "metadata": {},
   "outputs": [],
   "source": [
    "assert len(train)  + len(test) == len(atleast20items)"
   ]
  },
  {
   "cell_type": "code",
   "execution_count": 49,
   "metadata": {},
   "outputs": [
    {
     "name": "stdout",
     "output_type": "stream",
     "text": [
      "Unique authors in train: 19410\n",
      "Unique authors in test: 2063\n",
      "Unique items in train: 466\n",
      "Unique items in test: 466\n"
     ]
    }
   ],
   "source": [
    "print(f\"Unique authors in train: {train['author_id'].nunique()}\")\n",
    "print(f\"Unique authors in test: {test['author_id'].nunique()}\")\n",
    "print(f\"Unique items in train: {train['item_id'].nunique()}\")\n",
    "print(f\"Unique items in test: {test['item_id'].nunique()}\")"
   ]
  },
  {
   "attachments": {},
   "cell_type": "markdown",
   "metadata": {},
   "source": [
    "If we use cutoff of 20, we are only left with 466 items. However, based on tests, our recommendations are better on average. In 'real-world' we would have to select this cutoff more carefully. Besides item-item cf, I have also tried other methods such as ALS - however, it did not perform well, heavily relies on both users and items."
   ]
  },
  {
   "cell_type": "code",
   "execution_count": 50,
   "metadata": {},
   "outputs": [],
   "source": [
    "traindf = Dataset.load_from_df(train, reader = reader)\n",
    "testdf = Dataset.load_from_df(test, reader = reader)\n",
    "\n",
    "trainset = traindf.build_full_trainset()\n",
    "#testset = testdf.build_full_trainset()"
   ]
  },
  {
   "cell_type": "code",
   "execution_count": 51,
   "metadata": {},
   "outputs": [
    {
     "name": "stdout",
     "output_type": "stream",
     "text": [
      "Computing the cosine similarity matrix...\n",
      "Done computing similarity matrix.\n"
     ]
    },
    {
     "data": {
      "text/plain": [
       "<surprise.prediction_algorithms.knns.KNNBasic at 0x27723d3d310>"
      ]
     },
     "execution_count": 51,
     "metadata": {},
     "output_type": "execute_result"
    }
   ],
   "source": [
    "#bsl_options = {\"method\": \"als\", \"n_epochs\": 10, \"reg_u\": 10, \"reg_i\": 5}\n",
    "#algo = BaselineOnly(bsl_options=bsl_options)\n",
    "sim_options = {\n",
    "    \"name\": \"cosine\",\n",
    "    \"user_based\": False,  \n",
    "}\n",
    "algo = KNNBasic(sim_options=sim_options)\n",
    "algo.fit(trainset)"
   ]
  },
  {
   "attachments": {},
   "cell_type": "markdown",
   "metadata": {},
   "source": [
    "The method above uses cosine similarity between items to calculate the similarity score. We then sort users by similarity score and leave top k similar items, where k is the number of recommended items."
   ]
  },
  {
   "attachments": {},
   "cell_type": "markdown",
   "metadata": {},
   "source": [
    "Calculate rmse for train and test predictions:"
   ]
  },
  {
   "cell_type": "code",
   "execution_count": 52,
   "metadata": {},
   "outputs": [],
   "source": [
    "testlist = []\n",
    "\n",
    "for i in range(len(test)):\n",
    "    ts = (test['author_id'][i], test['item_id'][i], test['num_rating'][i])\n",
    "    testlist.append(ts)\n",
    "\n",
    "trainlist = []\n",
    "\n",
    "for i in range(len(train)):\n",
    "    tr = (train['author_id'][i], train['item_id'][i], train['num_rating'][i])\n",
    "    trainlist.append(tr)"
   ]
  },
  {
   "cell_type": "code",
   "execution_count": 53,
   "metadata": {},
   "outputs": [],
   "source": [
    "preds_train = []\n",
    "preds_test = []\n",
    "\n",
    "for j in trainlist:\n",
    "    preds_train.append(algo.predict(j[0], j[1], j[2])[3])\n",
    "\n",
    "for d in testlist:\n",
    "    preds_test.append(algo.predict(d[0], d[1], d[2])[3])\n",
    "\n"
   ]
  },
  {
   "cell_type": "code",
   "execution_count": 54,
   "metadata": {},
   "outputs": [
    {
     "name": "stdout",
     "output_type": "stream",
     "text": [
      "Train rmse: 0.45352\n",
      "Test rmse: 1.00359\n",
      "Predict everything as 5 train rmse: 0.93118\n",
      "Predict everything as 5 test rmse: 1.02856\n"
     ]
    }
   ],
   "source": [
    "actuals_train, actuals_test = train['num_rating'].values, test['num_rating'].values\n",
    "\n",
    "all5_tr, all5_tst = [5] * len(actuals_train), [5] * len(actuals_test)\n",
    "\n",
    "def rmse(ytrue, ypred):\n",
    "    \n",
    "    error = (ytrue - ypred)**2\n",
    "\n",
    "    return round(np.sqrt(np.mean(error)), 5)\n",
    "\n",
    "print(f\"Train rmse: {rmse(actuals_train, preds_train)}\")\n",
    "print(f\"Test rmse: {rmse(actuals_test, preds_test)}\")\n",
    "print(f\"Predict everything as 5 train rmse: {rmse(actuals_train, all5_tr)}\")\n",
    "print(f\"Predict everything as 5 test rmse: {rmse(actuals_test, all5_tst)}\")"
   ]
  },
  {
   "attachments": {},
   "cell_type": "markdown",
   "metadata": {},
   "source": [
    "The model overfits. Let's compute cross-validated score:"
   ]
  },
  {
   "cell_type": "code",
   "execution_count": 55,
   "metadata": {},
   "outputs": [
    {
     "name": "stdout",
     "output_type": "stream",
     "text": [
      "Computing the cosine similarity matrix...\n",
      "Done computing similarity matrix.\n",
      "Computing the cosine similarity matrix...\n",
      "Done computing similarity matrix.\n",
      "Computing the cosine similarity matrix...\n",
      "Done computing similarity matrix.\n",
      "Computing the cosine similarity matrix...\n",
      "Done computing similarity matrix.\n",
      "Computing the cosine similarity matrix...\n",
      "Done computing similarity matrix.\n",
      "Evaluating RMSE, MAE of algorithm KNNBasic on 5 split(s).\n",
      "\n",
      "                  Fold 1  Fold 2  Fold 3  Fold 4  Fold 5  Mean    Std     \n",
      "RMSE (testset)    0.9316  0.9295  0.9312  0.9034  0.9244  0.9240  0.0106  \n",
      "MAE (testset)     0.5229  0.5211  0.5272  0.5116  0.5213  0.5208  0.0051  \n",
      "Fit time          0.04    0.04    0.05    0.04    0.05    0.04    0.00    \n",
      "Test time         0.06    0.06    0.06    0.27    0.05    0.10    0.09    \n"
     ]
    },
    {
     "data": {
      "text/plain": [
       "{'test_rmse': array([0.93162974, 0.92952276, 0.93121127, 0.90335751, 0.92443401]),\n",
       " 'test_mae': array([0.5228883 , 0.52109154, 0.52720886, 0.51159975, 0.52125755]),\n",
       " 'fit_time': (0.0400540828704834,\n",
       "  0.04398751258850098,\n",
       "  0.04700922966003418,\n",
       "  0.04400897026062012,\n",
       "  0.048998117446899414),\n",
       " 'test_time': (0.05501866340637207,\n",
       "  0.057021379470825195,\n",
       "  0.056014060974121094,\n",
       "  0.2720677852630615,\n",
       "  0.05426192283630371)}"
      ]
     },
     "execution_count": 55,
     "metadata": {},
     "output_type": "execute_result"
    }
   ],
   "source": [
    "cross_validate(algo, data, measures=[\"RMSE\", \"MAE\"], cv=5, verbose=True)"
   ]
  },
  {
   "attachments": {},
   "cell_type": "markdown",
   "metadata": {},
   "source": [
    "The average cross-validation score shows RMSE of around 0.92 which is not very good but, at the same time, not very terrible. Since it is hard to quantify user preferences, it is not a good idea to rely solely on the cost functions. We would have to test the system in the real world."
   ]
  },
  {
   "cell_type": "code",
   "execution_count": 32,
   "metadata": {},
   "outputs": [],
   "source": [
    "testset = trainset.build_anti_testset()\n",
    "predictions = algo.test(testset) #prediction matrix of all users for all items"
   ]
  },
  {
   "cell_type": "code",
   "execution_count": 76,
   "metadata": {},
   "outputs": [],
   "source": [
    "def get_top_n(predictions, n, items_onlyf = False):\n",
    "\n",
    "\n",
    "    # First map the predictions to each user.\n",
    "    top_n = defaultdict(list)\n",
    "    for uid, iid, true_r, est, _ in predictions:\n",
    "        top_n[uid].append((iid, est))\n",
    "\n",
    "    # Then sort the predictions for each user and retrieve the k highest ones.\n",
    "    for uid, user_ratings in top_n.items():\n",
    "        user_ratings.sort(key=lambda x: x[1], reverse=True)\n",
    "        top_n[uid] = user_ratings[:n]\n",
    "    \n",
    "    if items_onlyf == True:\n",
    "\n",
    "        items_only = defaultdict(list)\n",
    "        for i in top_n.keys():\n",
    "            lst = [item for item, val in top_n[i]]\n",
    "            items_only[i] = lst\n",
    "\n",
    "\n",
    "    return items_only if items_onlyf == True else top_n"
   ]
  },
  {
   "cell_type": "code",
   "execution_count": 78,
   "metadata": {},
   "outputs": [],
   "source": [
    "recommended = get_top_n(predictions, n=10, items_onlyf= True)"
   ]
  },
  {
   "attachments": {},
   "cell_type": "markdown",
   "metadata": {},
   "source": [
    "# Fit on full data"
   ]
  },
  {
   "attachments": {},
   "cell_type": "markdown",
   "metadata": {},
   "source": [
    "After finishing our evaluation, we must fit the algo on our full (train + test) dataset."
   ]
  },
  {
   "cell_type": "code",
   "execution_count": 41,
   "metadata": {},
   "outputs": [
    {
     "name": "stdout",
     "output_type": "stream",
     "text": [
      "Estimating biases using als...\n"
     ]
    },
    {
     "data": {
      "text/plain": [
       "<surprise.prediction_algorithms.baseline_only.BaselineOnly at 0x167cc9c97c0>"
      ]
     },
     "execution_count": 41,
     "metadata": {},
     "output_type": "execute_result"
    }
   ],
   "source": [
    "#fit full data\n",
    "full_train = data.build_full_trainset()\n",
    "algo.fit(trainset)"
   ]
  },
  {
   "cell_type": "code",
   "execution_count": 42,
   "metadata": {},
   "outputs": [],
   "source": [
    "full_test = full_train.build_anti_testset()\n",
    "full_predictions = algo.test(full_test)"
   ]
  },
  {
   "cell_type": "code",
   "execution_count": 45,
   "metadata": {},
   "outputs": [],
   "source": [
    "top_n = get_top_n(predictions, 20, items_onlyf = True)"
   ]
  },
  {
   "cell_type": "code",
   "execution_count": 68,
   "metadata": {},
   "outputs": [],
   "source": [
    "#top items that user has not rated\n",
    "def decode(top_n, decodefrom):\n",
    "    decoded = defaultdict(list)\n",
    "    for user in top_n.keys():\n",
    "        for i in top_n[user]:\n",
    "            decoded[user].append(decodefrom[i]) \n",
    "    return decoded"
   ]
  },
  {
   "cell_type": "code",
   "execution_count": 70,
   "metadata": {},
   "outputs": [],
   "source": [
    "decodedrecs = decode(top_n, item_ids_dict)"
   ]
  },
  {
   "cell_type": "code",
   "execution_count": 129,
   "metadata": {},
   "outputs": [],
   "source": [
    "atleast20items.to_csv('atleast20items.csv', index = False)"
   ]
  },
  {
   "attachments": {},
   "cell_type": "markdown",
   "metadata": {},
   "source": [
    "We now need to work on the UI. What is the most sensible and cheap way to make an accessible UI? Telegram is a quite popular messenger now and it has an important feature - bots. We can throw in our recommender system inside of a bot, so user inputs some data and gets some predictions. This is done in the next notebook. The bot demo video is already inside the repository, check it out. "
   ]
  }
 ],
 "metadata": {
  "kernelspec": {
   "display_name": "base",
   "language": "python",
   "name": "python3"
  },
  "language_info": {
   "codemirror_mode": {
    "name": "ipython",
    "version": 3
   },
   "file_extension": ".py",
   "mimetype": "text/x-python",
   "name": "python",
   "nbconvert_exporter": "python",
   "pygments_lexer": "ipython3",
   "version": "3.9.13"
  },
  "orig_nbformat": 4,
  "vscode": {
   "interpreter": {
    "hash": "16f5b46f222e2a3e8d4adbf7141cae37b71ed37616e60735fa5d1164a1bc3ada"
   }
  }
 },
 "nbformat": 4,
 "nbformat_minor": 2
}
